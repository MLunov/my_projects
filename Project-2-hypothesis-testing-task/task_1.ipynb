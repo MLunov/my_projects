{
 "cells": [
  {
   "cell_type": "markdown",
   "metadata": {},
   "source": [
    "# Задание\n",
    "\n",
    "### Explaining Banking Products (Презентация банковских продуктов)\n",
    "\n",
    "Несмотря на активное продвижение многоканальных способов контакта с клиентами (omni-channel), встреча «один-на-один» клиентского менеджера (КМ) с клиентом по-прежнему является наиболее продуктивным способом понять нужды и запросы клиентов и предоставить наилучшую комбинацию продуктов и услуг.\n",
    "\n",
    "Недавно пакет услуг, предоставляемых одним из Больших Банков, был существенно обновлён, и информация о них была доступна клиентам на веб-сайте банка. Изабелла, вице-президент по лояльности и поведению клиентов (customer loyalty and insight), и её команда принимали самое активное участие в разработке этого пакета, а также провели тренинги с КМ о том, как лучше всего объяснить эти услуги клиентам, и разработали пятиминутную презентацию для встречи «один на один» с клиентом. Изабелла считала, что такая презентация клиенту должна существенно повлиять на прибыльность этого клиента в будущем.\n",
    "\n",
    "Соответственно, был проведен эксперимент: КМ предлагали клиентам, которые были выбраны случайным образом, в течение пяти минут объяснить всю суть нового пакета услуг. У каких-то клиентов не было времени, а какие-то клиенты соглашались прослушать презентацию.\n",
    "\n",
    "Несколько месяцев спустя, Изабелла с нетерпением подводила итоги эксперимента. Полные данные приведены в файле “Explaining banking products», рабочий лист «Table 1».\n",
    "\n",
    "Данные по первым пяти клиентам приведены в таблице внизу, где указаны ID клиента (Client ID) и прогнозируемая годовая прибыль (Profit, в USD): слева по клиентам, которые не прослушали презентацию; справа по клиентам, которые прослушали презентацию.\n",
    "\n",
    "К сожалению, средняя прибыль с презентацией (562.25) оказалась ниже, чем без презентации (591.18). Изабелла пыталась понять, что же могло привести к такому странному и разочаровывающему результату: ведь и она, и её команда были уверены, что обновлённый пакет услуг действительно хорош, и что пятиминутная презентация «один-на-один» была сделана очень профессионально и должна быть полезна. Изабелла скачала данные о профилях клиентов и обратила внимание на их возраст, пол и средне-месячный доход (в USD). Полные данные приведены в файле “Explaining banking products», рабочий лист «Table 2», и данные по первым и последним пяти клиентам приведены ниже.\n",
    "\n",
    "Изабелла надеялась, что анализ данных поможет понять причину неожиданного уменьшения прибыли по клиентам, которые прослушали презентацию."
   ]
  },
  {
   "cell_type": "markdown",
   "metadata": {},
   "source": [
    "# Решение"
   ]
  },
  {
   "cell_type": "code",
   "execution_count": 1,
   "metadata": {},
   "outputs": [
    {
     "name": "stdout",
     "output_type": "stream",
     "text": [
      "Populating the interactive namespace from numpy and matplotlib\n"
     ]
    }
   ],
   "source": [
    "import pandas as pd\n",
    "import numpy as np\n",
    "import scipy\n",
    "import statsmodels\n",
    "\n",
    "from statsmodels.stats.weightstats import *\n",
    "from scipy.stats import chi2_contingency\n",
    "\n",
    "%pylab inline"
   ]
  },
  {
   "cell_type": "markdown",
   "metadata": {},
   "source": [
    "# Загрузим данные"
   ]
  },
  {
   "cell_type": "code",
   "execution_count": 2,
   "metadata": {},
   "outputs": [
    {
     "name": "stdout",
     "output_type": "stream",
     "text": [
      "Число клиентов без презентации: 267\n",
      "Число клиентов с презентацией: 233\n"
     ]
    }
   ],
   "source": [
    "df1 = pd.read_excel('Задание 1 (данные)+.xlsx')\n",
    "\n",
    "No_Presentation_df = df1.iloc[:, :2]\n",
    "No_Presentation_df.columns = No_Presentation_df.iloc[0]\n",
    "No_Presentation_df = No_Presentation_df[1:].reset_index(drop=True)\n",
    "print('Число клиентов без презентации:', No_Presentation_df.shape[0])\n",
    "\n",
    "Presentation_df = df1.iloc[:, 2:4].dropna()\n",
    "Presentation_df.columns = Presentation_df.iloc[0]\n",
    "Presentation_df = Presentation_df[1:].reset_index(drop=True)\n",
    "print('Число клиентов с презентацией:', Presentation_df.shape[0])"
   ]
  },
  {
   "cell_type": "code",
   "execution_count": 3,
   "metadata": {},
   "outputs": [
    {
     "name": "stderr",
     "output_type": "stream",
     "text": [
      "C:\\ProgramData\\Anaconda3\\lib\\site-packages\\pandas\\util\\_decorators.py:188: FutureWarning: The `sheetname` keyword is deprecated, use `sheet_name` instead\n",
      "  return func(*args, **kwargs)\n"
     ]
    },
    {
     "name": "stdout",
     "output_type": "stream",
     "text": [
      "Совокупное число клиентов: 500\n"
     ]
    }
   ],
   "source": [
    "df2 = pd.read_excel('Задание 1 (данные)+.xlsx', sheetname ='Table 2', header=1)\n",
    "print('Совокупное число клиентов:', df2.shape[0])"
   ]
  },
  {
   "cell_type": "markdown",
   "metadata": {},
   "source": [
    "### Проверим есть ли дубликаты:"
   ]
  },
  {
   "cell_type": "markdown",
   "metadata": {},
   "source": [
    "для клиентов **без** презентации:"
   ]
  },
  {
   "cell_type": "code",
   "execution_count": 4,
   "metadata": {},
   "outputs": [
    {
     "data": {
      "text/html": [
       "<div>\n",
       "<style scoped>\n",
       "    .dataframe tbody tr th:only-of-type {\n",
       "        vertical-align: middle;\n",
       "    }\n",
       "\n",
       "    .dataframe tbody tr th {\n",
       "        vertical-align: top;\n",
       "    }\n",
       "\n",
       "    .dataframe thead th {\n",
       "        text-align: right;\n",
       "    }\n",
       "</style>\n",
       "<table border=\"1\" class=\"dataframe\">\n",
       "  <thead>\n",
       "    <tr style=\"text-align: right;\">\n",
       "      <th></th>\n",
       "      <th>Client ID</th>\n",
       "      <th>Profit</th>\n",
       "    </tr>\n",
       "  </thead>\n",
       "  <tbody>\n",
       "    <tr>\n",
       "      <th>33</th>\n",
       "      <td>13472</td>\n",
       "      <td>484.12</td>\n",
       "    </tr>\n",
       "    <tr>\n",
       "      <th>138</th>\n",
       "      <td>54289</td>\n",
       "      <td>461</td>\n",
       "    </tr>\n",
       "  </tbody>\n",
       "</table>\n",
       "</div>"
      ],
      "text/plain": [
       "0   Client ID  Profit\n",
       "33      13472  484.12\n",
       "138     54289     461"
      ]
     },
     "execution_count": 4,
     "metadata": {},
     "output_type": "execute_result"
    }
   ],
   "source": [
    "No_Presentation_df[No_Presentation_df['Client ID'].duplicated()]"
   ]
  },
  {
   "cell_type": "code",
   "execution_count": 5,
   "metadata": {},
   "outputs": [
    {
     "data": {
      "text/html": [
       "<div>\n",
       "<style scoped>\n",
       "    .dataframe tbody tr th:only-of-type {\n",
       "        vertical-align: middle;\n",
       "    }\n",
       "\n",
       "    .dataframe tbody tr th {\n",
       "        vertical-align: top;\n",
       "    }\n",
       "\n",
       "    .dataframe thead th {\n",
       "        text-align: right;\n",
       "    }\n",
       "</style>\n",
       "<table border=\"1\" class=\"dataframe\">\n",
       "  <thead>\n",
       "    <tr style=\"text-align: right;\">\n",
       "      <th></th>\n",
       "      <th>Client ID</th>\n",
       "      <th>Profit</th>\n",
       "    </tr>\n",
       "  </thead>\n",
       "  <tbody>\n",
       "    <tr>\n",
       "      <th>32</th>\n",
       "      <td>13472</td>\n",
       "      <td>1175.36</td>\n",
       "    </tr>\n",
       "    <tr>\n",
       "      <th>33</th>\n",
       "      <td>13472</td>\n",
       "      <td>484.12</td>\n",
       "    </tr>\n",
       "  </tbody>\n",
       "</table>\n",
       "</div>"
      ],
      "text/plain": [
       "0  Client ID   Profit\n",
       "32     13472  1175.36\n",
       "33     13472   484.12"
      ]
     },
     "execution_count": 5,
     "metadata": {},
     "output_type": "execute_result"
    }
   ],
   "source": [
    "No_Presentation_df[No_Presentation_df['Client ID'] == 13472]"
   ]
  },
  {
   "cell_type": "code",
   "execution_count": 6,
   "metadata": {},
   "outputs": [
    {
     "data": {
      "text/html": [
       "<div>\n",
       "<style scoped>\n",
       "    .dataframe tbody tr th:only-of-type {\n",
       "        vertical-align: middle;\n",
       "    }\n",
       "\n",
       "    .dataframe tbody tr th {\n",
       "        vertical-align: top;\n",
       "    }\n",
       "\n",
       "    .dataframe thead th {\n",
       "        text-align: right;\n",
       "    }\n",
       "</style>\n",
       "<table border=\"1\" class=\"dataframe\">\n",
       "  <thead>\n",
       "    <tr style=\"text-align: right;\">\n",
       "      <th></th>\n",
       "      <th>Client ID</th>\n",
       "      <th>Profit</th>\n",
       "    </tr>\n",
       "  </thead>\n",
       "  <tbody>\n",
       "    <tr>\n",
       "      <th>137</th>\n",
       "      <td>54289</td>\n",
       "      <td>752.8</td>\n",
       "    </tr>\n",
       "    <tr>\n",
       "      <th>138</th>\n",
       "      <td>54289</td>\n",
       "      <td>461</td>\n",
       "    </tr>\n",
       "  </tbody>\n",
       "</table>\n",
       "</div>"
      ],
      "text/plain": [
       "0   Client ID Profit\n",
       "137     54289  752.8\n",
       "138     54289    461"
      ]
     },
     "execution_count": 6,
     "metadata": {},
     "output_type": "execute_result"
    }
   ],
   "source": [
    "No_Presentation_df[No_Presentation_df['Client ID'] == 54289]"
   ]
  },
  {
   "cell_type": "markdown",
   "metadata": {},
   "source": [
    "для клиентов **с** презентацией:"
   ]
  },
  {
   "cell_type": "code",
   "execution_count": 7,
   "metadata": {},
   "outputs": [
    {
     "data": {
      "text/html": [
       "<div>\n",
       "<style scoped>\n",
       "    .dataframe tbody tr th:only-of-type {\n",
       "        vertical-align: middle;\n",
       "    }\n",
       "\n",
       "    .dataframe tbody tr th {\n",
       "        vertical-align: top;\n",
       "    }\n",
       "\n",
       "    .dataframe thead th {\n",
       "        text-align: right;\n",
       "    }\n",
       "</style>\n",
       "<table border=\"1\" class=\"dataframe\">\n",
       "  <thead>\n",
       "    <tr style=\"text-align: right;\">\n",
       "      <th></th>\n",
       "      <th>Client ID</th>\n",
       "      <th>Profit</th>\n",
       "    </tr>\n",
       "  </thead>\n",
       "  <tbody>\n",
       "  </tbody>\n",
       "</table>\n",
       "</div>"
      ],
      "text/plain": [
       "Empty DataFrame\n",
       "Columns: [Client ID, Profit]\n",
       "Index: []"
      ]
     },
     "execution_count": 7,
     "metadata": {},
     "output_type": "execute_result"
    }
   ],
   "source": [
    "Presentation_df[Presentation_df['Client ID'].duplicated()]"
   ]
  },
  {
   "cell_type": "markdown",
   "metadata": {},
   "source": [
    "### Как видно, в выборке клиентов без презентации есть клиенты с одним `id`, но разным `profit`. \n",
    "### Проверим наблюдается ли такое в данных с профилями клиентов:"
   ]
  },
  {
   "cell_type": "code",
   "execution_count": 8,
   "metadata": {},
   "outputs": [
    {
     "data": {
      "text/html": [
       "<div>\n",
       "<style scoped>\n",
       "    .dataframe tbody tr th:only-of-type {\n",
       "        vertical-align: middle;\n",
       "    }\n",
       "\n",
       "    .dataframe tbody tr th {\n",
       "        vertical-align: top;\n",
       "    }\n",
       "\n",
       "    .dataframe thead th {\n",
       "        text-align: right;\n",
       "    }\n",
       "</style>\n",
       "<table border=\"1\" class=\"dataframe\">\n",
       "  <thead>\n",
       "    <tr style=\"text-align: right;\">\n",
       "      <th></th>\n",
       "      <th>Client ID</th>\n",
       "      <th>Age</th>\n",
       "      <th>Gender</th>\n",
       "      <th>Monthly Income</th>\n",
       "    </tr>\n",
       "  </thead>\n",
       "  <tbody>\n",
       "    <tr>\n",
       "      <th>85</th>\n",
       "      <td>13472</td>\n",
       "      <td>45</td>\n",
       "      <td>F</td>\n",
       "      <td>4723.27</td>\n",
       "    </tr>\n",
       "    <tr>\n",
       "      <th>283</th>\n",
       "      <td>54289</td>\n",
       "      <td>38</td>\n",
       "      <td>F</td>\n",
       "      <td>5747.42</td>\n",
       "    </tr>\n",
       "  </tbody>\n",
       "</table>\n",
       "</div>"
      ],
      "text/plain": [
       "     Client ID  Age Gender  Monthly Income\n",
       "85       13472   45      F         4723.27\n",
       "283      54289   38      F         5747.42"
      ]
     },
     "execution_count": 8,
     "metadata": {},
     "output_type": "execute_result"
    }
   ],
   "source": [
    "df2[df2['Client ID'].duplicated()]"
   ]
  },
  {
   "cell_type": "code",
   "execution_count": 9,
   "metadata": {},
   "outputs": [
    {
     "data": {
      "text/html": [
       "<div>\n",
       "<style scoped>\n",
       "    .dataframe tbody tr th:only-of-type {\n",
       "        vertical-align: middle;\n",
       "    }\n",
       "\n",
       "    .dataframe tbody tr th {\n",
       "        vertical-align: top;\n",
       "    }\n",
       "\n",
       "    .dataframe thead th {\n",
       "        text-align: right;\n",
       "    }\n",
       "</style>\n",
       "<table border=\"1\" class=\"dataframe\">\n",
       "  <thead>\n",
       "    <tr style=\"text-align: right;\">\n",
       "      <th></th>\n",
       "      <th>Client ID</th>\n",
       "      <th>Age</th>\n",
       "      <th>Gender</th>\n",
       "      <th>Monthly Income</th>\n",
       "    </tr>\n",
       "  </thead>\n",
       "  <tbody>\n",
       "    <tr>\n",
       "      <th>84</th>\n",
       "      <td>13472</td>\n",
       "      <td>38</td>\n",
       "      <td>F</td>\n",
       "      <td>10868.89</td>\n",
       "    </tr>\n",
       "    <tr>\n",
       "      <th>85</th>\n",
       "      <td>13472</td>\n",
       "      <td>45</td>\n",
       "      <td>F</td>\n",
       "      <td>4723.27</td>\n",
       "    </tr>\n",
       "  </tbody>\n",
       "</table>\n",
       "</div>"
      ],
      "text/plain": [
       "    Client ID  Age Gender  Monthly Income\n",
       "84      13472   38      F        10868.89\n",
       "85      13472   45      F         4723.27"
      ]
     },
     "execution_count": 9,
     "metadata": {},
     "output_type": "execute_result"
    }
   ],
   "source": [
    "df2[df2['Client ID'] == 13472]"
   ]
  },
  {
   "cell_type": "code",
   "execution_count": 10,
   "metadata": {},
   "outputs": [
    {
     "data": {
      "text/html": [
       "<div>\n",
       "<style scoped>\n",
       "    .dataframe tbody tr th:only-of-type {\n",
       "        vertical-align: middle;\n",
       "    }\n",
       "\n",
       "    .dataframe tbody tr th {\n",
       "        vertical-align: top;\n",
       "    }\n",
       "\n",
       "    .dataframe thead th {\n",
       "        text-align: right;\n",
       "    }\n",
       "</style>\n",
       "<table border=\"1\" class=\"dataframe\">\n",
       "  <thead>\n",
       "    <tr style=\"text-align: right;\">\n",
       "      <th></th>\n",
       "      <th>Client ID</th>\n",
       "      <th>Age</th>\n",
       "      <th>Gender</th>\n",
       "      <th>Monthly Income</th>\n",
       "    </tr>\n",
       "  </thead>\n",
       "  <tbody>\n",
       "    <tr>\n",
       "      <th>282</th>\n",
       "      <td>54289</td>\n",
       "      <td>35</td>\n",
       "      <td>M</td>\n",
       "      <td>8139.32</td>\n",
       "    </tr>\n",
       "    <tr>\n",
       "      <th>283</th>\n",
       "      <td>54289</td>\n",
       "      <td>38</td>\n",
       "      <td>F</td>\n",
       "      <td>5747.42</td>\n",
       "    </tr>\n",
       "  </tbody>\n",
       "</table>\n",
       "</div>"
      ],
      "text/plain": [
       "     Client ID  Age Gender  Monthly Income\n",
       "282      54289   35      M         8139.32\n",
       "283      54289   38      F         5747.42"
      ]
     },
     "execution_count": 10,
     "metadata": {},
     "output_type": "execute_result"
    }
   ],
   "source": [
    "df2[df2['Client ID'] == 54289]"
   ]
  },
  {
   "cell_type": "markdown",
   "metadata": {},
   "source": [
    "### Как можно заметить, дубликаты у тех же самых `id`, что и в выборке без презентации, при этом клиенты с одним `id` различаются в других показателях, соответственно и  разный `profit` для таких `id` в этом случае тоже может быть."
   ]
  },
  {
   "cell_type": "markdown",
   "metadata": {},
   "source": [
    "### *Предположение 1:*  наблюдается ошибка при присвоении `id` клиентам"
   ]
  },
  {
   "cell_type": "markdown",
   "metadata": {},
   "source": [
    "### *Предположение 2:* поскольку клиенты с одним `id` в обоих таблицах идут подряд, сделаем соответствие между ними, основываясь на их порядке, т.е.  \n",
    "\n",
    "        Client ID\t Profit          Client ID\tAge\tGender\tMonthly Income\n",
    "    32\t13472\t   1175.36     84\t  13472\t 38\t     F\t     10868.89\n",
    "    33\t13472\t   484.12      85\t  13472\t 45\t     F\t     4723.27\n",
    "    \n",
    "        \n",
    "         Client ID\t Profit         Client ID\tAge\tGender\tMonthly Income\n",
    "    137\t 54289\t  752.8       282    54289\t 35\t    M\t      8139.32\n",
    "    138\t 54289\t  461         283    54289\t 38\t    F\t      5747.42"
   ]
  },
  {
   "cell_type": "markdown",
   "metadata": {},
   "source": [
    "### Изменим Client ID для таких клиентов, чтобы не возникло повторений при объеденинии таблиц:"
   ]
  },
  {
   "cell_type": "code",
   "execution_count": 11,
   "metadata": {},
   "outputs": [
    {
     "name": "stderr",
     "output_type": "stream",
     "text": [
      "C:\\ProgramData\\Anaconda3\\lib\\site-packages\\pandas\\core\\indexing.py:190: SettingWithCopyWarning: \n",
      "A value is trying to be set on a copy of a slice from a DataFrame\n",
      "\n",
      "See the caveats in the documentation: http://pandas.pydata.org/pandas-docs/stable/indexing.html#indexing-view-versus-copy\n",
      "  self._setitem_with_indexer(indexer, value)\n"
     ]
    }
   ],
   "source": [
    "No_Presentation_df['Client ID'].iloc[32] = 13472.1\n",
    "No_Presentation_df['Client ID'].iloc[33] = 13472.2\n",
    "No_Presentation_df['Client ID'].iloc[137] = 54289.1\n",
    "No_Presentation_df['Client ID'].iloc[138] = 54289.2\n",
    "\n",
    "df2['Client ID'].iloc[84] = 13472.1\n",
    "df2['Client ID'].iloc[85] = 13472.2\n",
    "df2['Client ID'].iloc[282] = 54289.1\n",
    "df2['Client ID'].iloc[283] = 54289.2\n",
    "\n",
    "# print(No_Presentation_df['Client ID'].iloc[32])\n",
    "# print(No_Presentation_df['Client ID'].iloc[33]) \n",
    "# print(No_Presentation_df['Client ID'].iloc[137]) \n",
    "# print(No_Presentation_df['Client ID'].iloc[138]) \n",
    "\n",
    "# print(df2['Client ID'].iloc[84])\n",
    "# print(df2['Client ID'].iloc[85])\n",
    "# print(df2['Client ID'].iloc[282])\n",
    "# print(df2['Client ID'].iloc[283])"
   ]
  },
  {
   "cell_type": "markdown",
   "metadata": {},
   "source": [
    "### Объеденим таблицы по ключу:"
   ]
  },
  {
   "cell_type": "code",
   "execution_count": 12,
   "metadata": {},
   "outputs": [],
   "source": [
    "No_Presentation = pd.merge(No_Presentation_df, df2, how='inner', on='Client ID')\n",
    "Presentation = pd.merge(Presentation_df, df2, how='inner', on='Client ID')"
   ]
  },
  {
   "cell_type": "markdown",
   "metadata": {},
   "source": [
    "### Проверим среднюю прибыль, совпадает ли она с результатами Изабеллы:"
   ]
  },
  {
   "cell_type": "code",
   "execution_count": 13,
   "metadata": {},
   "outputs": [
    {
     "data": {
      "text/plain": [
       "591.1801498127338"
      ]
     },
     "execution_count": 13,
     "metadata": {},
     "output_type": "execute_result"
    }
   ],
   "source": [
    "No_Presentation.Profit.mean()"
   ]
  },
  {
   "cell_type": "code",
   "execution_count": 14,
   "metadata": {},
   "outputs": [
    {
     "data": {
      "text/plain": [
       "562.2481545064377"
      ]
     },
     "execution_count": 14,
     "metadata": {},
     "output_type": "execute_result"
    }
   ],
   "source": [
    "Presentation.Profit.mean()"
   ]
  },
  {
   "cell_type": "markdown",
   "metadata": {},
   "source": [
    "### Да, она совпадает. "
   ]
  },
  {
   "cell_type": "markdown",
   "metadata": {},
   "source": [
    "# Приступим к анализу данных. "
   ]
  },
  {
   "cell_type": "code",
   "execution_count": 15,
   "metadata": {},
   "outputs": [
    {
     "data": {
      "text/html": [
       "<div>\n",
       "<style scoped>\n",
       "    .dataframe tbody tr th:only-of-type {\n",
       "        vertical-align: middle;\n",
       "    }\n",
       "\n",
       "    .dataframe tbody tr th {\n",
       "        vertical-align: top;\n",
       "    }\n",
       "\n",
       "    .dataframe thead th {\n",
       "        text-align: right;\n",
       "    }\n",
       "</style>\n",
       "<table border=\"1\" class=\"dataframe\">\n",
       "  <thead>\n",
       "    <tr style=\"text-align: right;\">\n",
       "      <th></th>\n",
       "      <th>Client ID</th>\n",
       "      <th>Profit</th>\n",
       "      <th>Age</th>\n",
       "      <th>Gender</th>\n",
       "      <th>Monthly Income</th>\n",
       "    </tr>\n",
       "  </thead>\n",
       "  <tbody>\n",
       "    <tr>\n",
       "      <th>0</th>\n",
       "      <td>137</td>\n",
       "      <td>380.37</td>\n",
       "      <td>37</td>\n",
       "      <td>M</td>\n",
       "      <td>4665.64</td>\n",
       "    </tr>\n",
       "    <tr>\n",
       "      <th>1</th>\n",
       "      <td>1809</td>\n",
       "      <td>333.11</td>\n",
       "      <td>40</td>\n",
       "      <td>M</td>\n",
       "      <td>4816.03</td>\n",
       "    </tr>\n",
       "    <tr>\n",
       "      <th>2</th>\n",
       "      <td>1929</td>\n",
       "      <td>438.91</td>\n",
       "      <td>38</td>\n",
       "      <td>F</td>\n",
       "      <td>2980.46</td>\n",
       "    </tr>\n",
       "    <tr>\n",
       "      <th>3</th>\n",
       "      <td>1976</td>\n",
       "      <td>383.21</td>\n",
       "      <td>32</td>\n",
       "      <td>M</td>\n",
       "      <td>4691.48</td>\n",
       "    </tr>\n",
       "    <tr>\n",
       "      <th>4</th>\n",
       "      <td>2057</td>\n",
       "      <td>147.46</td>\n",
       "      <td>33</td>\n",
       "      <td>M</td>\n",
       "      <td>4305.03</td>\n",
       "    </tr>\n",
       "  </tbody>\n",
       "</table>\n",
       "</div>"
      ],
      "text/plain": [
       "  Client ID  Profit  Age Gender  Monthly Income\n",
       "0       137  380.37   37      M         4665.64\n",
       "1      1809  333.11   40      M         4816.03\n",
       "2      1929  438.91   38      F         2980.46\n",
       "3      1976  383.21   32      M         4691.48\n",
       "4      2057  147.46   33      M         4305.03"
      ]
     },
     "execution_count": 15,
     "metadata": {},
     "output_type": "execute_result"
    }
   ],
   "source": [
    "No_Presentation.head()"
   ]
  },
  {
   "cell_type": "code",
   "execution_count": 16,
   "metadata": {},
   "outputs": [
    {
     "data": {
      "text/html": [
       "<div>\n",
       "<style scoped>\n",
       "    .dataframe tbody tr th:only-of-type {\n",
       "        vertical-align: middle;\n",
       "    }\n",
       "\n",
       "    .dataframe tbody tr th {\n",
       "        vertical-align: top;\n",
       "    }\n",
       "\n",
       "    .dataframe thead th {\n",
       "        text-align: right;\n",
       "    }\n",
       "</style>\n",
       "<table border=\"1\" class=\"dataframe\">\n",
       "  <thead>\n",
       "    <tr style=\"text-align: right;\">\n",
       "      <th></th>\n",
       "      <th>Client ID</th>\n",
       "      <th>Profit</th>\n",
       "      <th>Age</th>\n",
       "      <th>Gender</th>\n",
       "      <th>Monthly Income</th>\n",
       "    </tr>\n",
       "  </thead>\n",
       "  <tbody>\n",
       "    <tr>\n",
       "      <th>0</th>\n",
       "      <td>43</td>\n",
       "      <td>633.9</td>\n",
       "      <td>37</td>\n",
       "      <td>M</td>\n",
       "      <td>3905.48</td>\n",
       "    </tr>\n",
       "    <tr>\n",
       "      <th>1</th>\n",
       "      <td>257</td>\n",
       "      <td>406.61</td>\n",
       "      <td>39</td>\n",
       "      <td>M</td>\n",
       "      <td>4744.88</td>\n",
       "    </tr>\n",
       "    <tr>\n",
       "      <th>2</th>\n",
       "      <td>477</td>\n",
       "      <td>382.2</td>\n",
       "      <td>36</td>\n",
       "      <td>M</td>\n",
       "      <td>3815.35</td>\n",
       "    </tr>\n",
       "    <tr>\n",
       "      <th>3</th>\n",
       "      <td>754</td>\n",
       "      <td>331.25</td>\n",
       "      <td>31</td>\n",
       "      <td>M</td>\n",
       "      <td>3916.61</td>\n",
       "    </tr>\n",
       "    <tr>\n",
       "      <th>4</th>\n",
       "      <td>825</td>\n",
       "      <td>456.01</td>\n",
       "      <td>31</td>\n",
       "      <td>M</td>\n",
       "      <td>3211.30</td>\n",
       "    </tr>\n",
       "  </tbody>\n",
       "</table>\n",
       "</div>"
      ],
      "text/plain": [
       "  Client ID  Profit  Age Gender  Monthly Income\n",
       "0        43   633.9   37      M         3905.48\n",
       "1       257  406.61   39      M         4744.88\n",
       "2       477   382.2   36      M         3815.35\n",
       "3       754  331.25   31      M         3916.61\n",
       "4       825  456.01   31      M         3211.30"
      ]
     },
     "execution_count": 16,
     "metadata": {},
     "output_type": "execute_result"
    }
   ],
   "source": [
    "Presentation.head()"
   ]
  },
  {
   "cell_type": "markdown",
   "metadata": {},
   "source": [
    "## 1. Проверим гипотезу о том, что гендерный состав группы людей в двух выборках отличается.\n",
    "\n",
    "$H_0\\colon$ гендерный состав в двух выборках неразличим.\n",
    "\n",
    "$H_1\\colon$ различим."
   ]
  },
  {
   "cell_type": "code",
   "execution_count": 17,
   "metadata": {},
   "outputs": [
    {
     "data": {
      "text/plain": [
       "M    138\n",
       "F    129\n",
       "Name: Gender, dtype: int64"
      ]
     },
     "execution_count": 17,
     "metadata": {},
     "output_type": "execute_result"
    }
   ],
   "source": [
    "No_Presentation.Gender.value_counts()"
   ]
  },
  {
   "cell_type": "code",
   "execution_count": 18,
   "metadata": {},
   "outputs": [
    {
     "data": {
      "text/plain": [
       "F    126\n",
       "M    107\n",
       "Name: Gender, dtype: int64"
      ]
     },
     "execution_count": 18,
     "metadata": {},
     "output_type": "execute_result"
    }
   ],
   "source": [
    "Presentation.Gender.value_counts()"
   ]
  },
  {
   "cell_type": "code",
   "execution_count": 19,
   "metadata": {},
   "outputs": [
    {
     "data": {
      "text/html": [
       "<div>\n",
       "<style scoped>\n",
       "    .dataframe tbody tr th:only-of-type {\n",
       "        vertical-align: middle;\n",
       "    }\n",
       "\n",
       "    .dataframe tbody tr th {\n",
       "        vertical-align: top;\n",
       "    }\n",
       "\n",
       "    .dataframe thead th {\n",
       "        text-align: right;\n",
       "    }\n",
       "</style>\n",
       "<table border=\"1\" class=\"dataframe\">\n",
       "  <thead>\n",
       "    <tr style=\"text-align: right;\">\n",
       "      <th></th>\n",
       "      <th>No_Presentation</th>\n",
       "      <th>Presentation</th>\n",
       "    </tr>\n",
       "    <tr>\n",
       "      <th>Gender</th>\n",
       "      <th></th>\n",
       "      <th></th>\n",
       "    </tr>\n",
       "  </thead>\n",
       "  <tbody>\n",
       "    <tr>\n",
       "      <th>Male</th>\n",
       "      <td>138</td>\n",
       "      <td>107</td>\n",
       "    </tr>\n",
       "    <tr>\n",
       "      <th>Female</th>\n",
       "      <td>129</td>\n",
       "      <td>126</td>\n",
       "    </tr>\n",
       "  </tbody>\n",
       "</table>\n",
       "</div>"
      ],
      "text/plain": [
       "        No_Presentation  Presentation\n",
       "Gender                               \n",
       "Male                138           107\n",
       "Female              129           126"
      ]
     },
     "execution_count": 19,
     "metadata": {},
     "output_type": "execute_result"
    }
   ],
   "source": [
    "gender_df = pd.DataFrame(data={ 'No_Presentation': [138, 129], 'Presentation': [107, 126]},\n",
    "                                 index = ['Male', 'Female'])  \n",
    "gender_df.index.name = 'Gender'\n",
    "gender_df"
   ]
  },
  {
   "cell_type": "markdown",
   "metadata": {},
   "source": [
    "#### Глядя на таблицу может возникнуть предположение, что т.к. мужчин в выборке с презентацией меньше, чем женщин, в отличие от выборки без, где ситуация наоборот, то и средний доход в этой выборке (с презентацией) тоже меньше по этой причине. Проверим так ли это, оценив средний доход мужчин и женщин в двух выборках:\n",
    "в No_Presentation:"
   ]
  },
  {
   "cell_type": "code",
   "execution_count": 20,
   "metadata": {},
   "outputs": [
    {
     "data": {
      "text/plain": [
       "5788.958550724637"
      ]
     },
     "execution_count": 20,
     "metadata": {},
     "output_type": "execute_result"
    }
   ],
   "source": [
    "No_Presentation[No_Presentation['Gender'] == 'M']['Monthly Income'].mean()"
   ]
  },
  {
   "cell_type": "code",
   "execution_count": 21,
   "metadata": {},
   "outputs": [
    {
     "data": {
      "text/plain": [
       "5609.684573643412"
      ]
     },
     "execution_count": 21,
     "metadata": {},
     "output_type": "execute_result"
    }
   ],
   "source": [
    "No_Presentation[No_Presentation['Gender'] == 'F']['Monthly Income'].mean()"
   ]
  },
  {
   "cell_type": "markdown",
   "metadata": {},
   "source": [
    "в Presentation:"
   ]
  },
  {
   "cell_type": "code",
   "execution_count": 22,
   "metadata": {},
   "outputs": [
    {
     "data": {
      "text/plain": [
       "4511.279345794396"
      ]
     },
     "execution_count": 22,
     "metadata": {},
     "output_type": "execute_result"
    }
   ],
   "source": [
    "Presentation[Presentation['Gender'] == 'M']['Monthly Income'].mean()"
   ]
  },
  {
   "cell_type": "code",
   "execution_count": 23,
   "metadata": {},
   "outputs": [
    {
     "data": {
      "text/plain": [
       "4636.1150793650795"
      ]
     },
     "execution_count": 23,
     "metadata": {},
     "output_type": "execute_result"
    }
   ],
   "source": [
    "Presentation[Presentation['Gender'] == 'F']['Monthly Income'].mean()"
   ]
  },
  {
   "cell_type": "markdown",
   "metadata": {},
   "source": [
    "#### Как оказалось, средний среднемесячный доход в каждой выборке у мужчин и женщин не сильно отличается, поэтому нельзя утверждать, что большее количество мужчин исправило бы ситуацию. Для этого нужно будет проделать более дедальное исследование, если окажется что гендерный состав выборках статитически различим. \n",
    "\n",
    "#### Поэтому для начала вернёмся к проверке нулевой гипотезы."
   ]
  },
  {
   "cell_type": "markdown",
   "metadata": {},
   "source": [
    "### a) C помощью доверительного интервала для разности двух долей (для независимых выборок):"
   ]
  },
  {
   "cell_type": "code",
   "execution_count": 24,
   "metadata": {},
   "outputs": [],
   "source": [
    "def proportions_diff_confint_ind(a, n1, b, n2, alpha=0.05):\n",
    "    \n",
    "    z = stats.norm.ppf(1 - alpha / 2.)\n",
    "    \n",
    "    p1 = a / n1\n",
    "    p2 = b / n2\n",
    "    \n",
    "    left_boundary = (p1 - p2) - z * np.sqrt(p1 * (1 - p1)/n1 + p2 * (1 - p2)/n2)\n",
    "    right_boundary = (p1 - p2) + z * np.sqrt(p1 * (1 - p1)/n1 + p2 * (1 - p2)/n2)\n",
    "    \n",
    "    return (left_boundary, right_boundary)"
   ]
  },
  {
   "cell_type": "code",
   "execution_count": 25,
   "metadata": {},
   "outputs": [
    {
     "data": {
      "text/plain": [
       "(-0.030049722172421092, 0.14530265171864287)"
      ]
     },
     "execution_count": 25,
     "metadata": {},
     "output_type": "execute_result"
    }
   ],
   "source": [
    "a, c = 138, 129\n",
    "b, d = 107, 126\n",
    "\n",
    "gender_int = proportions_diff_confint_ind(a, a + c, b, b + d)\n",
    "gender_int"
   ]
  },
  {
   "cell_type": "markdown",
   "metadata": {},
   "source": [
    "### Ответ:\n",
    "**0 в интервал входит, поэтому нельзя отклонить гипотезу, что различаются**"
   ]
  },
  {
   "cell_type": "markdown",
   "metadata": {},
   "source": [
    "### b) С помощью статистического критерия (Z-критерий для разности двух долей, независимые выборки):"
   ]
  },
  {
   "cell_type": "code",
   "execution_count": 26,
   "metadata": {},
   "outputs": [],
   "source": [
    "def proportions_diff_z_stat_ind(a, n1, b, n2):\n",
    "    \n",
    "    p1 = a / n1\n",
    "    p2 = b / n2 \n",
    "    P = (p1*n1 + p2*n2) / (n1 + n2)\n",
    "\n",
    "    return (p1 - p2) / np.sqrt(P * (1 - P) * (1. / n1 + 1. / n2))\n",
    "\n",
    "def proportions_diff_z_test(z_stat, alternative = 'two-sided'):\n",
    "    if alternative not in ('two-sided', 'less', 'greater'):\n",
    "        raise ValueError(\"alternative not recognized\\n\"\n",
    "                         \"should be 'two-sided', 'less' or 'greater'\")\n",
    "    \n",
    "    if alternative == 'two-sided':\n",
    "        return 2 * (1 - scipy.stats.norm.cdf(np.abs(z_stat)))\n",
    "    \n",
    "    if alternative == 'less':\n",
    "        return scipy.stats.norm.cdf(z_stat)\n",
    "\n",
    "    if alternative == 'greater':\n",
    "        return 1 - scipy.stats.norm.cdf(z_stat)"
   ]
  },
  {
   "cell_type": "code",
   "execution_count": 27,
   "metadata": {},
   "outputs": [
    {
     "data": {
      "text/plain": [
       "0.19849838322501157"
      ]
     },
     "execution_count": 27,
     "metadata": {},
     "output_type": "execute_result"
    }
   ],
   "source": [
    "gender_crit = proportions_diff_z_test(proportions_diff_z_stat_ind(a, a + c, b, b + d))\n",
    "gender_crit"
   ]
  },
  {
   "cell_type": "markdown",
   "metadata": {},
   "source": [
    "### Ответ:\n",
    "**Достигаемый уровень значимости p-value > 0.05. Гипотезу о неотличимости гендерного состава отвергнуть нельзя. Составы статистически не отличаются.**"
   ]
  },
  {
   "cell_type": "markdown",
   "metadata": {},
   "source": [
    "## 2. Проверим следующие гипотезы о возрасте:\n",
    "### a) о равенстве медианных значений возрастов людей \n",
    "### b) о равенстве распределений возрастов с помощью непараметрического критерия проверки равенства средних (Рангового критерия Манна-Уитни). "
   ]
  },
  {
   "cell_type": "code",
   "execution_count": 28,
   "metadata": {},
   "outputs": [
    {
     "name": "stdout",
     "output_type": "stream",
     "text": [
      "16\n",
      "[30 31 32 33 34 35 36 37 38 39 40 41 42 43 44 45]\n"
     ]
    }
   ],
   "source": [
    "age = No_Presentation.Age.unique()\n",
    "age.sort()\n",
    "print(len(age))\n",
    "print(age)"
   ]
  },
  {
   "cell_type": "code",
   "execution_count": 29,
   "metadata": {},
   "outputs": [
    {
     "name": "stdout",
     "output_type": "stream",
     "text": [
      "16\n",
      "[30 31 32 33 34 35 36 37 38 39 40 41 42 43 44 45]\n"
     ]
    }
   ],
   "source": [
    "age = Presentation.Age.unique()\n",
    "age.sort()\n",
    "print(len(age))\n",
    "print(age)"
   ]
  },
  {
   "cell_type": "code",
   "execution_count": 30,
   "metadata": {},
   "outputs": [],
   "source": [
    "# pd.DataFrame(data={'age': age,\n",
    "#              'No_Presentation_counts': No_Presentation.Age.value_counts(sort=False),\n",
    "#              'Presentation_counts': Presentation.Age.value_counts(sort=False)})"
   ]
  },
  {
   "cell_type": "code",
   "execution_count": 31,
   "metadata": {},
   "outputs": [
    {
     "data": {
      "image/png": "[encoded data removed]",
      "text/plain": [
       "<Figure size 864x360 with 2 Axes>"
      ]
     },
     "metadata": {
      "needs_background": "light"
     },
     "output_type": "display_data"
    }
   ],
   "source": [
    "pylab.figure(figsize(12, 5))\n",
    "pylab.subplot(1,2,1)\n",
    "pylab.hist(No_Presentation.Age, bins = 16, color = 'b', range = (30, 45), label = 'No_Presentation')\n",
    "pylab.legend()\n",
    "\n",
    "pylab.subplot(1,2,2)\n",
    "pylab.hist(Presentation.Age, bins = 16, color = 'r', range = (30, 45), label = 'Presentation')\n",
    "pylab.legend()\n",
    "\n",
    "pylab.show()"
   ]
  },
  {
   "cell_type": "markdown",
   "metadata": {},
   "source": [
    "#### По графикам сложно сказать, что возраст людей в двух выборках сильно различается"
   ]
  },
  {
   "cell_type": "markdown",
   "metadata": {},
   "source": [
    "### a) Проверка гипотезы о равенстве медианных значений возрастов людей\n",
    "\n",
    "$H_0\\colon$ медианные значения возрастов в двух выборках равны.\n",
    "\n",
    "$H_1\\colon$ не равны."
   ]
  },
  {
   "cell_type": "code",
   "execution_count": 32,
   "metadata": {},
   "outputs": [],
   "source": [
    "def get_bootstrap_samples(data, n_samples):\n",
    "    indices = np.random.randint(0, len(data), (n_samples, len(data)))\n",
    "    samples = data[indices]\n",
    "    return samples\n",
    "\n",
    "def stat_intervals(stat, alpha):\n",
    "    boundaries = np.percentile(stat, [100 * alpha / 2., 100 * (1 - alpha / 2.)])\n",
    "    return boundaries"
   ]
  },
  {
   "cell_type": "markdown",
   "metadata": {},
   "source": [
    "**Интервальная оценка медианы**"
   ]
  },
  {
   "cell_type": "code",
   "execution_count": 33,
   "metadata": {},
   "outputs": [
    {
     "name": "stdout",
     "output_type": "stream",
     "text": [
      "95% confidence interval for No_Presentation median age: [38. 39.]\n",
      "95% confidence interval for Presentation median age: [37. 39.]\n"
     ]
    }
   ],
   "source": [
    "No_Presentation_age = No_Presentation.Age.values\n",
    "Presentation_age = Presentation.Age.values\n",
    "\n",
    "np.random.seed(0)\n",
    "\n",
    "No_Presentation_median_scores = list(map(np.median, get_bootstrap_samples(No_Presentation_age, 5000)))\n",
    "Presentation_median_scores = list(map(np.median, get_bootstrap_samples(Presentation_age, 5000)))\n",
    "\n",
    "print(\"95% confidence interval for No_Presentation median age:\",  stat_intervals(No_Presentation_median_scores, 0.05))\n",
    "print(\"95% confidence interval for Presentation median age:\",  stat_intervals(Presentation_median_scores, 0.05))"
   ]
  },
  {
   "cell_type": "markdown",
   "metadata": {},
   "source": [
    "95% доверительные интервалы медианных значений возрастов в двух выборках пересекаются. По интервальной оценке мы не можем отклонить нулевую гипотезу."
   ]
  },
  {
   "cell_type": "markdown",
   "metadata": {},
   "source": [
    "**Интервальная оценка разности медиан**"
   ]
  },
  {
   "cell_type": "code",
   "execution_count": 34,
   "metadata": {},
   "outputs": [
    {
     "name": "stdout",
     "output_type": "stream",
     "text": [
      "95% confidence interval for the difference between medians [-1.  2.]\n"
     ]
    }
   ],
   "source": [
    "age_delta_median_scores = list(map(lambda x: x[1] - x[0], zip(Presentation_median_scores, No_Presentation_median_scores)))\n",
    "\n",
    "print(\"95% confidence interval for the difference between medians\",  stat_intervals(age_delta_median_scores, 0.05))"
   ]
  },
  {
   "cell_type": "markdown",
   "metadata": {},
   "source": [
    "### Ответ: \n",
    "**гипотеза о равенстве медианных значений возрастов людей не отвергается (т.к. значение 0 входит в 95% доверительный интервал разности медиан)** "
   ]
  },
  {
   "cell_type": "markdown",
   "metadata": {},
   "source": [
    "### b) Проверка гипотезы  о равенстве распределений возрастов в двух выборках с помощью непараметрического критерия проверки равенства средних:\n",
    "\n",
    "**Ранговый критерий Манна-Уитни**\n",
    "\n",
    "$H_0\\colon F_{X_1}(x) = F_{X_2}(x)$ - распределения равны.\n",
    "\n",
    "$H_1\\colon F_{X_1}(x) = F_{X_2}(x + \\Delta), \\Delta\\neq 0$ - не равны."
   ]
  },
  {
   "cell_type": "code",
   "execution_count": 35,
   "metadata": {},
   "outputs": [
    {
     "data": {
      "text/plain": [
       "MannwhitneyuResult(statistic=29989.0, pvalue=0.24377326765545876)"
      ]
     },
     "execution_count": 35,
     "metadata": {},
     "output_type": "execute_result"
    }
   ],
   "source": [
    "age_crit = stats.mannwhitneyu(No_Presentation.Age, Presentation.Age)\n",
    "age_crit"
   ]
  },
  {
   "cell_type": "markdown",
   "metadata": {},
   "source": [
    "### Ответ: \n",
    "**мы не можем отклонить нулевую гипотезу на уровне значимости 0.05, так как критерий Манна-Уитни дает достигаемый уровень значимости равный 0.24**"
   ]
  },
  {
   "cell_type": "markdown",
   "metadata": {},
   "source": [
    "## 3. Проверим гипотезы для средне-месячного дохода: \n",
    "### a) о равенстве медианных значений средне-месячного дохода с помощью интервальной оценки\n",
    "### b) о равенстве распределений средне-месячного дохода с помощью непараметрического критерия проверки равенства средних. "
   ]
  },
  {
   "cell_type": "code",
   "execution_count": 36,
   "metadata": {},
   "outputs": [],
   "source": [
    "no_p_income = No_Presentation['Monthly Income'].values.copy()\n",
    "# no_p_income.sort() \n",
    "# print(len(no_p_income))\n",
    "# print(no_p_income)"
   ]
  },
  {
   "cell_type": "code",
   "execution_count": 37,
   "metadata": {},
   "outputs": [],
   "source": [
    "p_income = Presentation['Monthly Income'].values.copy()\n",
    "# p_income.sort() \n",
    "# print(len(p_income))\n",
    "# print(p_income)"
   ]
  },
  {
   "cell_type": "code",
   "execution_count": 38,
   "metadata": {},
   "outputs": [
    {
     "data": {
      "text/html": [
       "<div>\n",
       "<style scoped>\n",
       "    .dataframe tbody tr th:only-of-type {\n",
       "        vertical-align: middle;\n",
       "    }\n",
       "\n",
       "    .dataframe tbody tr th {\n",
       "        vertical-align: top;\n",
       "    }\n",
       "\n",
       "    .dataframe thead th {\n",
       "        text-align: right;\n",
       "    }\n",
       "</style>\n",
       "<table border=\"1\" class=\"dataframe\">\n",
       "  <thead>\n",
       "    <tr style=\"text-align: right;\">\n",
       "      <th></th>\n",
       "      <th>min</th>\n",
       "      <th>max</th>\n",
       "      <th>mean</th>\n",
       "    </tr>\n",
       "    <tr>\n",
       "      <th>income</th>\n",
       "      <th></th>\n",
       "      <th></th>\n",
       "      <th></th>\n",
       "    </tr>\n",
       "  </thead>\n",
       "  <tbody>\n",
       "    <tr>\n",
       "      <th>No_Presentation</th>\n",
       "      <td>2181.83</td>\n",
       "      <td>13230.15</td>\n",
       "      <td>5702.343034</td>\n",
       "    </tr>\n",
       "    <tr>\n",
       "      <th>Presentation</th>\n",
       "      <td>2062.90</td>\n",
       "      <td>8986.40</td>\n",
       "      <td>4578.787082</td>\n",
       "    </tr>\n",
       "  </tbody>\n",
       "</table>\n",
       "</div>"
      ],
      "text/plain": [
       "                     min       max         mean\n",
       "income                                         \n",
       "No_Presentation  2181.83  13230.15  5702.343034\n",
       "Presentation     2062.90   8986.40  4578.787082"
      ]
     },
     "execution_count": 38,
     "metadata": {},
     "output_type": "execute_result"
    }
   ],
   "source": [
    "min_inc = [no_p_income.min(), p_income.min()]\n",
    "max_inc = [no_p_income.max(), p_income.max()]\n",
    "mean_inc =[no_p_income.mean(), p_income.mean()]\n",
    "income_df = pd.DataFrame(data={ 'min':min_inc, 'max':max_inc, 'mean':mean_inc},\n",
    "                                 index = ['No_Presentation', 'Presentation'])  \n",
    "income_df.index.name = 'income'\n",
    "income_df"
   ]
  },
  {
   "cell_type": "code",
   "execution_count": 39,
   "metadata": {},
   "outputs": [
    {
     "data": {
      "image/png": "[encoded data removed]",
      "text/plain": [
       "<Figure size 864x360 with 2 Axes>"
      ]
     },
     "metadata": {
      "needs_background": "light"
     },
     "output_type": "display_data"
    }
   ],
   "source": [
    "pylab.figure(figsize(12, 5))\n",
    "pylab.subplot(1,2,1)\n",
    "pylab.grid()\n",
    "pylab.hist(No_Presentation['Monthly Income'], bins = 100, color = 'b', range = (2000, 13500), label = 'No_Presentation')\n",
    "pylab.legend()\n",
    "\n",
    "pylab.subplot(1,2,2)\n",
    "pylab.grid()\n",
    "pylab.hist(Presentation['Monthly Income'], bins = 100, color = 'r', range = (2000, 13500), label = 'Presentation')\n",
    "pylab.legend()\n",
    "\n",
    "pylab.show()"
   ]
  },
  {
   "cell_type": "markdown",
   "metadata": {},
   "source": [
    "### Из двух графиков и информации о миниальном и максимальном доходах клиентов в двух выборках, можно заключить, что в выборке без презентации есть люди у которых доход больше 9000 ${$}$, тогда как в выборке с презентацией максимальный доход не превышает этой суммы. Плюс среднее среднемесячного дохода в двух выборках отличается больше чем на 1000 ${$}$. Возможно в этом и есть причина уменьшения прибыли по клиентам, которые прослушали презентацию."
   ]
  },
  {
   "cell_type": "markdown",
   "metadata": {},
   "source": [
    "### a) Проверка гипотезы о равенстве медианных значений средне-месячного дохода с помощью интервальной оценки"
   ]
  },
  {
   "cell_type": "markdown",
   "metadata": {},
   "source": [
    "$H_0\\colon$ медианные значения средне-месячного дохода равны.\n",
    "\n",
    "$H_1\\colon$ не равны."
   ]
  },
  {
   "cell_type": "markdown",
   "metadata": {},
   "source": [
    "**Интервальная оценка медианы**"
   ]
  },
  {
   "cell_type": "code",
   "execution_count": 40,
   "metadata": {},
   "outputs": [
    {
     "name": "stdout",
     "output_type": "stream",
     "text": [
      "95% confidence interval for No_Presentation  median income: [5156.83 5750.96]\n",
      "95% confidence interval for Presentation median income: [4063.6  4615.71]\n"
     ]
    }
   ],
   "source": [
    "np.random.seed(0)\n",
    "\n",
    "No_Presentation_median_scores = list(map(np.median, get_bootstrap_samples(no_p_income, 1000)))\n",
    "Presentation_median_scores = list(map(np.median, get_bootstrap_samples(p_income, 1000)))\n",
    "\n",
    "print(\"95% confidence interval for No_Presentation  median income:\",  stat_intervals(No_Presentation_median_scores, 0.05))\n",
    "print(\"95% confidence interval for Presentation median income:\",  stat_intervals(Presentation_median_scores, 0.05))"
   ]
  },
  {
   "cell_type": "markdown",
   "metadata": {},
   "source": [
    "95% доверительные интервалы медианных значений средне-месячного дохода **не пересекаются**. По интервальной оценке нулевая гипотеза отвергается."
   ]
  },
  {
   "cell_type": "markdown",
   "metadata": {},
   "source": [
    "**Интервальная оценка разности медиан**"
   ]
  },
  {
   "cell_type": "code",
   "execution_count": 41,
   "metadata": {},
   "outputs": [
    {
     "name": "stdout",
     "output_type": "stream",
     "text": [
      "95% confidence interval for the difference between medians [ 702.738   1522.87525]\n"
     ]
    }
   ],
   "source": [
    "income_delta_median_scores = list(map(lambda x: x[1] - x[0], zip(Presentation_median_scores, No_Presentation_median_scores)))\n",
    "\n",
    "print(\"95% confidence interval for the difference between medians\",  stat_intervals(income_delta_median_scores, 0.05))"
   ]
  },
  {
   "cell_type": "markdown",
   "metadata": {},
   "source": [
    "### Ответ:\n",
    "**ноль в интервал не входит, следовательно гипотезу о равенстве медианных значений средне-месячного дохода принять нельзя**"
   ]
  },
  {
   "cell_type": "markdown",
   "metadata": {},
   "source": [
    "### b) Проверка гиптезы о равенстве распределений средне-месячного дохода с помощью непараметрического критерия проверки равенства средних. \n",
    "\n",
    "**Ранговый критерий Манна-Уитни**\n",
    "\n",
    "$H_0\\colon F_{X_1}(x) = F_{X_2}(x)$ - распределения равны.\n",
    "\n",
    "$H_1\\colon F_{X_1}(x) = F_{X_2}(x + \\Delta), \\Delta\\neq 0$ - не равны."
   ]
  },
  {
   "cell_type": "code",
   "execution_count": 42,
   "metadata": {},
   "outputs": [
    {
     "data": {
      "text/plain": [
       "MannwhitneyuResult(statistic=18461.0, pvalue=2.155526170012943e-15)"
      ]
     },
     "execution_count": 42,
     "metadata": {},
     "output_type": "execute_result"
    }
   ],
   "source": [
    "income_crit = stats.mannwhitneyu(no_p_income, p_income)\n",
    "income_crit"
   ]
  },
  {
   "cell_type": "markdown",
   "metadata": {},
   "source": [
    "### Ответ:\n",
    "**Нулевая гипотеза уверено отвергается, p-value << 0.05. Распределение доходов для людей не прослушавших презентацию отличается, от людей прослушавших её.**"
   ]
  },
  {
   "cell_type": "markdown",
   "metadata": {},
   "source": [
    "----\n",
    "# Выводы:"
   ]
  },
  {
   "cell_type": "markdown",
   "metadata": {},
   "source": [
    "## На основе данных, предоставленных Изабеллой, было произведен анализ данных по двум выборкам (тем, кто прослушал презентацию и нет) на основе 3х показателей: гендера, возраста и среднемесячного дохода.\n",
    "\n",
    "## В результате анализа было, получено:"
   ]
  },
  {
   "cell_type": "markdown",
   "metadata": {},
   "source": [
    "### 1) на основе гендерного состава:\n",
    "Не смотря на то, что гендерный состав в двух выборках отличается, в выборке без презентации мужчин больше чем женщин, а выборке с презентацией наоборот (можно увидеть из таблицы ниже):"
   ]
  },
  {
   "cell_type": "code",
   "execution_count": 43,
   "metadata": {},
   "outputs": [
    {
     "data": {
      "text/html": [
       "<div>\n",
       "<style scoped>\n",
       "    .dataframe tbody tr th:only-of-type {\n",
       "        vertical-align: middle;\n",
       "    }\n",
       "\n",
       "    .dataframe tbody tr th {\n",
       "        vertical-align: top;\n",
       "    }\n",
       "\n",
       "    .dataframe thead th {\n",
       "        text-align: right;\n",
       "    }\n",
       "</style>\n",
       "<table border=\"1\" class=\"dataframe\">\n",
       "  <thead>\n",
       "    <tr style=\"text-align: right;\">\n",
       "      <th></th>\n",
       "      <th>No_Presentation</th>\n",
       "      <th>Presentation</th>\n",
       "    </tr>\n",
       "    <tr>\n",
       "      <th>Gender</th>\n",
       "      <th></th>\n",
       "      <th></th>\n",
       "    </tr>\n",
       "  </thead>\n",
       "  <tbody>\n",
       "    <tr>\n",
       "      <th>Male</th>\n",
       "      <td>138</td>\n",
       "      <td>107</td>\n",
       "    </tr>\n",
       "    <tr>\n",
       "      <th>Female</th>\n",
       "      <td>129</td>\n",
       "      <td>126</td>\n",
       "    </tr>\n",
       "  </tbody>\n",
       "</table>\n",
       "</div>"
      ],
      "text/plain": [
       "        No_Presentation  Presentation\n",
       "Gender                               \n",
       "Male                138           107\n",
       "Female              129           126"
      ]
     },
     "execution_count": 43,
     "metadata": {},
     "output_type": "execute_result"
    }
   ],
   "source": [
    "gender_df"
   ]
  },
  {
   "cell_type": "markdown",
   "metadata": {},
   "source": [
    "Было показано с помощью вычислений (для независимых выборок) доверительного интервала для разности двух долей и Z-критерия для разности двух долей, что гипотезу о неразличимости гендерного состава отвергнуть нельзя.\n",
    "\n",
    "Т.к. во-первых, доверительный интервал включает в себя ноль:"
   ]
  },
  {
   "cell_type": "code",
   "execution_count": 44,
   "metadata": {},
   "outputs": [
    {
     "data": {
      "text/plain": [
       "(-0.030049722172421092, 0.14530265171864287)"
      ]
     },
     "execution_count": 44,
     "metadata": {},
     "output_type": "execute_result"
    }
   ],
   "source": [
    "gender_int"
   ]
  },
  {
   "cell_type": "markdown",
   "metadata": {},
   "source": [
    "А во-вторых, p-value для критерия оказалось больше 0.05:"
   ]
  },
  {
   "cell_type": "code",
   "execution_count": 45,
   "metadata": {},
   "outputs": [
    {
     "data": {
      "text/plain": [
       "0.19849838322501157"
      ]
     },
     "execution_count": 45,
     "metadata": {},
     "output_type": "execute_result"
    }
   ],
   "source": [
    "gender_crit"
   ]
  },
  {
   "cell_type": "markdown",
   "metadata": {},
   "source": [
    "По этой причине, любое предположение, основаное на различии гендерного состава в выборках, например, что мужчины готовы платить больше, а женщины меньше, не имеет веса, т.к. **статистически гендерный состав в выборках неразличим.**"
   ]
  },
  {
   "cell_type": "markdown",
   "metadata": {},
   "source": [
    "### 2) на основе возрастного состава:\n",
    "Тут могла возникнуть такая гипотеза, что от возраста как-то зависит, сколько денег готовы заплатить клиенты, предположив, что возрастной состав в выборках отличается. Но после вычисления интервальной оценки разности медиан значений возрастов в двух выборках и применения рангового критерия Манна-Уитни для проверки гипотезы равенства распределений возрастов опять же было показано, что возрастной состав в группах не различается.\n",
    "\n",
    "Т.к. значение 0 входит в 95% доверительный интервал разности медиан:"
   ]
  },
  {
   "cell_type": "code",
   "execution_count": 46,
   "metadata": {},
   "outputs": [
    {
     "name": "stdout",
     "output_type": "stream",
     "text": [
      "95% confidence interval for the difference between age medians [-1.  2.]\n"
     ]
    }
   ],
   "source": [
    "print(\"95% confidence interval for the difference between age medians\",  stat_intervals(age_delta_median_scores, 0.05))"
   ]
  },
  {
   "cell_type": "markdown",
   "metadata": {},
   "source": [
    "И т.к. распределение возрастов в выборках по критерию Манна-Уитни не отличается. Достигаемый уровень значимости p-value > 0.05:"
   ]
  },
  {
   "cell_type": "code",
   "execution_count": 47,
   "metadata": {},
   "outputs": [
    {
     "data": {
      "text/plain": [
       "MannwhitneyuResult(statistic=29989.0, pvalue=0.24377326765545876)"
      ]
     },
     "execution_count": 47,
     "metadata": {},
     "output_type": "execute_result"
    }
   ],
   "source": [
    "age_crit"
   ]
  },
  {
   "cell_type": "markdown",
   "metadata": {},
   "source": [
    "Поэтому нельзя принять предположение, что из-за различий в возрасте в двух выборках, доход в выборке с презентацией оказался меньше, т.к. **статистически различий по возрастному составу нет**. "
   ]
  },
  {
   "cell_type": "markdown",
   "metadata": {},
   "source": [
    "### 3) на основе среднемесячного дохода:"
   ]
  },
  {
   "cell_type": "markdown",
   "metadata": {},
   "source": [
    "Только взглянув на таблицу ниже с информацией о минимальной, максимальной и среднем значении доходов клиентов в двух выборках, можно заключить, что в выборке без презентации есть люди у которых доход больше 9000 ${$}$, тогда как в выборке с презентацией максимальный доход не превышает и этой суммы. Более того, среднее среднемесячного дохода в выборке без презентации больше на 1000 ${$}$, чем в выборке с презентацией. Соответствено, было выдвинуто предположение, что в этом и есть причина уменьшения прибыли по клиентам, которые прослушали презентацию. И как оказалось, действительно, проверив гипотезы было показано, что статистически эти выборки по этому покзателю различаются. "
   ]
  },
  {
   "cell_type": "code",
   "execution_count": 48,
   "metadata": {},
   "outputs": [
    {
     "data": {
      "text/html": [
       "<div>\n",
       "<style scoped>\n",
       "    .dataframe tbody tr th:only-of-type {\n",
       "        vertical-align: middle;\n",
       "    }\n",
       "\n",
       "    .dataframe tbody tr th {\n",
       "        vertical-align: top;\n",
       "    }\n",
       "\n",
       "    .dataframe thead th {\n",
       "        text-align: right;\n",
       "    }\n",
       "</style>\n",
       "<table border=\"1\" class=\"dataframe\">\n",
       "  <thead>\n",
       "    <tr style=\"text-align: right;\">\n",
       "      <th></th>\n",
       "      <th>min</th>\n",
       "      <th>max</th>\n",
       "      <th>mean</th>\n",
       "    </tr>\n",
       "    <tr>\n",
       "      <th>income</th>\n",
       "      <th></th>\n",
       "      <th></th>\n",
       "      <th></th>\n",
       "    </tr>\n",
       "  </thead>\n",
       "  <tbody>\n",
       "    <tr>\n",
       "      <th>No_Presentation</th>\n",
       "      <td>2181.83</td>\n",
       "      <td>13230.15</td>\n",
       "      <td>5702.343034</td>\n",
       "    </tr>\n",
       "    <tr>\n",
       "      <th>Presentation</th>\n",
       "      <td>2062.90</td>\n",
       "      <td>8986.40</td>\n",
       "      <td>4578.787082</td>\n",
       "    </tr>\n",
       "  </tbody>\n",
       "</table>\n",
       "</div>"
      ],
      "text/plain": [
       "                     min       max         mean\n",
       "income                                         \n",
       "No_Presentation  2181.83  13230.15  5702.343034\n",
       "Presentation     2062.90   8986.40  4578.787082"
      ]
     },
     "execution_count": 48,
     "metadata": {},
     "output_type": "execute_result"
    }
   ],
   "source": [
    "income_df"
   ]
  },
  {
   "cell_type": "markdown",
   "metadata": {},
   "source": [
    "Для начала была отвергнута гипотеза о равенстве медианных значений средне-месячного дохода на основе интервальной оценки разности медиан (ноль не входит в интервал):"
   ]
  },
  {
   "cell_type": "code",
   "execution_count": 49,
   "metadata": {},
   "outputs": [
    {
     "name": "stdout",
     "output_type": "stream",
     "text": [
      "95% confidence interval for the difference between income medians [ 702.738   1522.87525]\n"
     ]
    }
   ],
   "source": [
    "print(\"95% confidence interval for the difference between income medians\",  stat_intervals(income_delta_median_scores, 0.05))"
   ]
  },
  {
   "cell_type": "markdown",
   "metadata": {},
   "source": [
    "Затем по критерию Манна-Уитни была уверено отвергнута нулевая гипотеза о рваенстве распределений средне-месячного дохода, p-value оказалось намного меньше 0.05:"
   ]
  },
  {
   "cell_type": "code",
   "execution_count": 50,
   "metadata": {},
   "outputs": [
    {
     "data": {
      "text/plain": [
       "MannwhitneyuResult(statistic=18461.0, pvalue=2.155526170012943e-15)"
      ]
     },
     "execution_count": 50,
     "metadata": {},
     "output_type": "execute_result"
    }
   ],
   "source": [
    "income_crit"
   ]
  },
  {
   "cell_type": "markdown",
   "metadata": {},
   "source": [
    "# Итог:"
   ]
  },
  {
   "cell_type": "markdown",
   "metadata": {},
   "source": [
    "### На основе анализа данных удалось выяснить причину неожиданного уменьшения прибыли по клиентам, которые прослушали презентацию. Этой причиной является то, что среднемесячный доход клиентов в этой выборке оказался статистически отличным (а точнее меньше) от среднемесячного дохода в выборке, где презентацию не слушали. У людей в выборке, где презентация была прослушана, в среднем было меньше денег, поэтому и в среднем доход от таких клиентов оказался меньше. При этом нельзя утверждать, что эксперементальная программа оказалось провальной, т.к. сравнивать результаты на основе этих двух выборок не является верным подходом, ввиду их показаных различий. "
   ]
  }
 ],
 "metadata": {
  "kernelspec": {
   "display_name": "Python 3",
   "language": "python",
   "name": "python3"
  },
  "language_info": {
   "codemirror_mode": {
    "name": "ipython",
    "version": 3
   },
   "file_extension": ".py",
   "mimetype": "text/x-python",
   "name": "python",
   "nbconvert_exporter": "python",
   "pygments_lexer": "ipython3",
   "version": "3.8.5"
  }
 },
 "nbformat": 4,
 "nbformat_minor": 2
}
