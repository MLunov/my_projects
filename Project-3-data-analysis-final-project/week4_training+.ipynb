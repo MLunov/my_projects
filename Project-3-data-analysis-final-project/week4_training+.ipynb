{
  "nbformat": 4,
  "nbformat_minor": 0,
  "metadata": {
    "anaconda-cloud": {},
    "kernelspec": {
      "display_name": "Python 3",
      "language": "python",
      "name": "python3"
    },
    "language_info": {
      "codemirror_mode": {
        "name": "ipython",
        "version": 3
      },
      "file_extension": ".py",
      "mimetype": "text/x-python",
      "name": "python",
      "nbconvert_exporter": "python",
      "pygments_lexer": "ipython3",
      "version": "3.6.4"
    },
    "colab": {
      "name": "week4_training.ipynb",
      "provenance": []
    }
  },
  "cells": [
    {
      "cell_type": "markdown",
      "metadata": {
        "id": "PcxBXq7lvv6g",
        "colab_type": "text"
      },
      "source": [
        "<center>\n",
        "<img src=\"https://habrastorage.org/web/677/8e1/337/6778e1337c3d4b159d7e99df94227cb2.jpg\"/>\n",
        "## Специализация \"Машинное обучение и анализ данных\"\n",
        "<center>Автор материала: программист-исследователь Mail.Ru Group, старший преподаватель Факультета Компьютерных Наук ВШЭ [Юрий Кашницкий](https://yorko.github.io/)"
      ]
    },
    {
      "cell_type": "markdown",
      "metadata": {
        "id": "-rYxCePsvv6h",
        "colab_type": "text"
      },
      "source": [
        "# <center> Capstone проект №1 <br> Идентификация пользователей по посещенным веб-страницам\n",
        "<img src='http://i.istockimg.com/file_thumbview_approve/21546327/5/stock-illustration-21546327-identification-de-l-utilisateur.jpg'>\n",
        "\n",
        "# <center>Неделя 4.  Сравнение алгоритмов классификации\n",
        "\n",
        "Теперь мы наконец подойдем к обучению моделей классификации, сравним на кросс-валидации несколько алгоритмов, разберемся, какие параметры длины сессии (*session_length* и *window_size*) лучше использовать. Также для выбранного алгоритма построим кривые валидации (как качество классификации зависит от одного из гиперпараметров алгоритма) и кривые обучения (как качество классификации зависит от объема выборки).\n",
        "\n",
        "**План 4 недели:**\n",
        "- Часть 1. Сравнение нескольких алгоритмов на сессиях из 10 сайтов\n",
        "- Часть 2. Выбор параметров – длины сессии и ширины окна\n",
        "- Часть 3. Идентификация  конкретного пользователя и кривые обучения\n",
        " \n",
        "\n",
        "\n",
        "**В этой части проекта Вам могут быть полезны видеозаписи следующих лекций курса \"Обучение на размеченных данных\":**\n",
        "   - [Линейная классификация](https://www.coursera.org/learn/supervised-learning/lecture/jqLcO/linieinaia-klassifikatsiia)\n",
        "   - [Сравнение алгоритмов и выбор гиперпараметров](https://www.coursera.org/learn/supervised-learning/lecture/aF79U/sravnieniie-alghoritmov-i-vybor-ghipierparamietrov)\n",
        "   - [Кросс-валидация. Sklearn.cross_validation](https://www.coursera.org/learn/supervised-learning/lecture/XbHEk/kross-validatsiia-sklearn-cross-validation)\n",
        "   - [Линейные модели. Sklearn.linear_model. Классификация](https://www.coursera.org/learn/supervised-learning/lecture/EBg9t/linieinyie-modieli-sklearn-linear-model-klassifikatsiia)\n",
        "   - и многие другие\n"
      ]
    },
    {
      "cell_type": "markdown",
      "metadata": {
        "id": "f6BGauTQvv6i",
        "colab_type": "text"
      },
      "source": [
        "### Задание\n",
        "1. Заполните код в этой тетрадке \n",
        "2. Если вы проходите специализацию Яндеса и МФТИ, пошлите файл с ответами в соответствующем Programming Assignment. <br> Если вы проходите курс ODS, выберите ответы в [веб-форме](https://docs.google.com/forms/d/12VB7kmzDoSVzSpQNaJp0tR-2t8K8PynQopP3dypf7i4).  "
      ]
    },
    {
      "cell_type": "code",
      "metadata": {
        "id": "_6wKCDaTvv6j",
        "colab_type": "code",
        "colab": {}
      },
      "source": [
        "# !pip install watermark\n",
        "%load_ext watermark"
      ],
      "execution_count": 1,
      "outputs": []
    },
    {
      "cell_type": "code",
      "metadata": {
        "id": "Y88iyd1Uvv6q",
        "colab_type": "code",
        "colab": {
          "base_uri": "https://localhost:8080/",
          "height": 323
        },
        "outputId": "21c7f676-c38e-4b15-d2b5-f7631af36d68"
      },
      "source": [
        "%watermark -v -m -p numpy,scipy,pandas,matplotlib,statsmodels,sklearn -g"
      ],
      "execution_count": 2,
      "outputs": [
        {
          "output_type": "stream",
          "text": [
            "CPython 3.6.9\n",
            "IPython 5.5.0\n",
            "\n",
            "numpy 1.18.5\n",
            "scipy 1.4.1\n",
            "pandas 1.0.5\n",
            "matplotlib 3.2.2\n",
            "statsmodels 0.10.2\n",
            "sklearn 0.0\n",
            "\n",
            "compiler   : GCC 8.4.0\n",
            "system     : Linux\n",
            "release    : 4.19.112+\n",
            "machine    : x86_64\n",
            "processor  : x86_64\n",
            "CPU cores  : 2\n",
            "interpreter: 64bit\n",
            "Git hash   :\n"
          ],
          "name": "stdout"
        }
      ]
    },
    {
      "cell_type": "code",
      "metadata": {
        "id": "bQfTHsAjvv6v",
        "colab_type": "code",
        "colab": {}
      },
      "source": [
        "from __future__ import division, print_function\n",
        "# отключим всякие предупреждения Anaconda\n",
        "import warnings\n",
        "warnings.filterwarnings('ignore')\n",
        "from tqdm import tqdm\n",
        "from time import time\n",
        "import itertools\n",
        "import os\n",
        "import numpy as np\n",
        "import pandas as pd\n",
        "import seaborn as sns\n",
        "%matplotlib inline\n",
        "from matplotlib import pyplot as plt\n",
        "import pickle\n",
        "from scipy.sparse import csr_matrix\n",
        "from sklearn.model_selection import train_test_split, cross_val_score, StratifiedKFold, GridSearchCV\n",
        "from sklearn.metrics import accuracy_score, f1_score"
      ],
      "execution_count": 3,
      "outputs": []
    },
    {
      "cell_type": "code",
      "metadata": {
        "id": "ultPuAICvv60",
        "colab_type": "code",
        "colab": {}
      },
      "source": [
        "# Поменяйте на свой путь к данным\n",
        "PATH_TO_DATA =  '/content/' "
      ],
      "execution_count": 4,
      "outputs": []
    },
    {
      "cell_type": "markdown",
      "metadata": {
        "id": "tQMANtbLvv64",
        "colab_type": "text"
      },
      "source": [
        "## Часть 1. Сравнение нескольких алгоритмов на сессиях из 10 сайтов"
      ]
    },
    {
      "cell_type": "markdown",
      "metadata": {
        "id": "nY4MBeDlvv65",
        "colab_type": "text"
      },
      "source": [
        "**Загрузим сериализованные ранее объекты *X_sparse_10users* и *y_10users*, соответствующие обучающей выборке для 10 пользователей.**"
      ]
    },
    {
      "cell_type": "code",
      "metadata": {
        "id": "IbYvZAmCvv66",
        "colab_type": "code",
        "colab": {}
      },
      "source": [
        "with open(os.path.join(PATH_TO_DATA, \n",
        "         'X_sparse_10users.pkl'), 'rb') as X_sparse_10users_pkl:\n",
        "    X_sparse_10users = pickle.load(X_sparse_10users_pkl)\n",
        "with open(os.path.join(PATH_TO_DATA, \n",
        "                       'y_10users.pkl'), 'rb') as y_10users_pkl:\n",
        "    y_10users = pickle.load(y_10users_pkl)"
      ],
      "execution_count": 5,
      "outputs": []
    },
    {
      "cell_type": "markdown",
      "metadata": {
        "id": "aN1zd_u5vv6-",
        "colab_type": "text"
      },
      "source": [
        "**Здесь более 14 тысяч сессий и почти 5 тысяч уникальных посещенных сайтов.**"
      ]
    },
    {
      "cell_type": "code",
      "metadata": {
        "id": "njNx-FBnZRZH",
        "colab_type": "code",
        "colab": {
          "base_uri": "https://localhost:8080/",
          "height": 34
        },
        "outputId": "6ea91e18-58c4-46e3-c7cc-bf531e1e4cc2"
      },
      "source": [
        "X_sparse_10users.shape"
      ],
      "execution_count": 6,
      "outputs": [
        {
          "output_type": "execute_result",
          "data": {
            "text/plain": [
              "(14061, 4913)"
            ]
          },
          "metadata": {
            "tags": []
          },
          "execution_count": 6
        }
      ]
    },
    {
      "cell_type": "markdown",
      "metadata": {
        "id": "73kQU6e_ZTMa",
        "colab_type": "text"
      },
      "source": [
        "Пример:"
      ]
    },
    {
      "cell_type": "code",
      "metadata": {
        "id": "G-gqfnabvv6_",
        "colab_type": "code",
        "colab": {
          "base_uri": "https://localhost:8080/",
          "height": 34
        },
        "outputId": "b744d596-b022-4240-c5b8-f442fa72fede"
      },
      "source": [
        "X_sparse_10users.shape"
      ],
      "execution_count": 7,
      "outputs": [
        {
          "output_type": "execute_result",
          "data": {
            "text/plain": [
              "(14061, 4913)"
            ]
          },
          "metadata": {
            "tags": []
          },
          "execution_count": 7
        }
      ]
    },
    {
      "cell_type": "markdown",
      "metadata": {
        "id": "YDykZ7Xevv7F",
        "colab_type": "text"
      },
      "source": [
        "**Разобьем выборку на 2 части. На одной будем проводить кросс-валидацию, на второй – оценивать модель, обученную после кросс-валидации.**"
      ]
    },
    {
      "cell_type": "code",
      "metadata": {
        "id": "N3pNhIn8vv7F",
        "colab_type": "code",
        "colab": {}
      },
      "source": [
        "X_train, X_valid, y_train, y_valid = train_test_split(X_sparse_10users.todense(), y_10users, \n",
        "                                                      test_size=0.3, \n",
        "                                                     random_state=17, stratify=y_10users)"
      ],
      "execution_count": 58,
      "outputs": []
    },
    {
      "cell_type": "markdown",
      "metadata": {
        "id": "DADWrPFuvv7J",
        "colab_type": "text"
      },
      "source": [
        "**Зададим заранее тип кросс-валидации: 3-кратная, с перемешиванием, параметр random_state=17 – для воспроизводимости.**"
      ]
    },
    {
      "cell_type": "code",
      "metadata": {
        "id": "RdXCKNKfvv7K",
        "colab_type": "code",
        "colab": {}
      },
      "source": [
        "skf = StratifiedKFold(n_splits=3, shuffle=True, random_state=17)"
      ],
      "execution_count": 7,
      "outputs": []
    },
    {
      "cell_type": "markdown",
      "metadata": {
        "id": "9Q_z8qvVvv7O",
        "colab_type": "text"
      },
      "source": [
        "**Вспомогательная функция для отрисовки кривых валидации после запуска GridSearchCV (или RandomizedCV).**"
      ]
    },
    {
      "cell_type": "code",
      "metadata": {
        "id": "rq0XITFhvv7P",
        "colab_type": "code",
        "colab": {}
      },
      "source": [
        "def plot_validation_curves(param_values, grid_cv_results_):\n",
        "    train_mu, train_std = grid_cv_results_['mean_train_score'], grid_cv_results_['std_train_score']\n",
        "    valid_mu, valid_std = grid_cv_results_['mean_test_score'], grid_cv_results_['std_test_score']\n",
        "    train_line = plt.plot(param_values, train_mu, '-', label='train', color='green')\n",
        "    valid_line = plt.plot(param_values, valid_mu, '-', label='test', color='red')\n",
        "    plt.fill_between(param_values, train_mu - train_std, train_mu + train_std, edgecolor='none',\n",
        "                     facecolor=train_line[0].get_color(), alpha=0.2)\n",
        "    plt.fill_between(param_values, valid_mu - valid_std, valid_mu + valid_std, edgecolor='none',\n",
        "                     facecolor=valid_line[0].get_color(), alpha=0.2)\n",
        "    plt.legend()"
      ],
      "execution_count": 8,
      "outputs": []
    },
    {
      "cell_type": "markdown",
      "metadata": {
        "id": "Ta9UtnxCvv7U",
        "colab_type": "text"
      },
      "source": [
        "**1. Обучите `KNeighborsClassifier` со 100 ближайшими соседями (остальные параметры оставьте по умолчанию, только `n_jobs`=-1 для распараллеливания) и посмотрите на долю правильных ответов на 3-кратной кросс-валидации (ради воспроизводимости используйте для этого объект `StratifiedKFold` `skf`) по выборке `(X_train, y_train)` и отдельно на выборке `(X_valid, y_valid)`.**"
      ]
    },
    {
      "cell_type": "code",
      "metadata": {
        "id": "Xrk3bbuVvv7V",
        "colab_type": "code",
        "colab": {}
      },
      "source": [
        "from sklearn.neighbors import KNeighborsClassifier"
      ],
      "execution_count": null,
      "outputs": []
    },
    {
      "cell_type": "code",
      "metadata": {
        "id": "m0xT0JD8vv7Z",
        "colab_type": "code",
        "colab": {
          "base_uri": "https://localhost:8080/",
          "height": 51
        },
        "outputId": "79beac8c-fdff-48e2-afd0-e724f6cf186f"
      },
      "source": [
        "knn = KNeighborsClassifier(n_neighbors=100, n_jobs=-1)\n",
        "\n",
        "train_score = cross_val_score(knn, X_train, y_train, cv=skf, scoring='accuracy')\n",
        "print('train_score:', train_score.mean())\n",
        "\n",
        "knn.fit(X_train, y_train)\n",
        "y_pred = knn.predict(X_valid)\n",
        "valid_score = accuracy_score(y_valid, y_pred)\n",
        "print('valid_score:', valid_score)"
      ],
      "execution_count": null,
      "outputs": [
        {
          "output_type": "stream",
          "text": [
            "train_score: 0.5616746022306306\n",
            "valid_score: 0.5894761791893813\n"
          ],
          "name": "stdout"
        }
      ]
    },
    {
      "cell_type": "markdown",
      "metadata": {
        "id": "MxzYe_Wsvv7d",
        "colab_type": "text"
      },
      "source": [
        "**<font color='red'>Вопрос 1. </font> Посчитайте доли правильных ответов для KNeighborsClassifier на кросс-валидации и отложенной выборке. Округлите каждое до 3 знаков после запятой и введите через пробел.**"
      ]
    },
    {
      "cell_type": "code",
      "metadata": {
        "id": "uGh-S86Ivv7e",
        "colab_type": "code",
        "colab": {}
      },
      "source": [
        "def write_answer_to_file(answer, file_address):\n",
        "    with open(file_address, 'w') as out_f:\n",
        "        out_f.write(str(answer))"
      ],
      "execution_count": 9,
      "outputs": []
    },
    {
      "cell_type": "code",
      "metadata": {
        "id": "DqKKP-LCQZdx",
        "colab_type": "code",
        "colab": {}
      },
      "source": [
        "write_answer_to_file('{} {}'.format(round(train_score.mean(), 3), round(valid_score, 3)), \n",
        "                     'answer4_1.txt')"
      ],
      "execution_count": null,
      "outputs": []
    },
    {
      "cell_type": "code",
      "metadata": {
        "id": "fEM-1guofbgw",
        "colab_type": "code",
        "colab": {
          "base_uri": "https://localhost:8080/",
          "height": 34
        },
        "outputId": "98f25bb9-de42-42f0-94f3-4e2b91e78247"
      },
      "source": [
        "!cat answer4_1.txt"
      ],
      "execution_count": null,
      "outputs": [
        {
          "output_type": "stream",
          "text": [
            "0.562 0.589"
          ],
          "name": "stdout"
        }
      ]
    },
    {
      "cell_type": "markdown",
      "metadata": {
        "id": "KhflFTs_vv7i",
        "colab_type": "text"
      },
      "source": [
        "**2. Обучите случайный лес (`RandomForestClassifier`) из 100 деревьев (для воспроизводимости `random_state`=17). Посмотрите на OOB-оценку (для этого надо сразу установить `oob_score`=True) и на долю правильных ответов на выборке `(X_valid, y_valid)`. Для распараллеливания задайте `n_jobs`=-1.**"
      ]
    },
    {
      "cell_type": "code",
      "metadata": {
        "id": "hpY9aTTWvv7j",
        "colab_type": "code",
        "colab": {}
      },
      "source": [
        "from sklearn.ensemble import RandomForestClassifier"
      ],
      "execution_count": null,
      "outputs": []
    },
    {
      "cell_type": "code",
      "metadata": {
        "id": "CrObDqp8b9c8",
        "colab_type": "code",
        "colab": {
          "base_uri": "https://localhost:8080/",
          "height": 51
        },
        "outputId": "c29effc2-5cbe-43cc-b8c0-2f7a3add7f5e"
      },
      "source": [
        "forest = RandomForestClassifier(n_estimators=100, oob_score=True, random_state=17, n_jobs=-1)\n",
        "forest.fit(X_train, y_train)\n",
        "\n",
        "oob_score = forest.oob_score_\n",
        "print('oob_score:', oob_score)\n",
        " \n",
        "valid_score = accuracy_score(y_valid, forest.predict(X_valid))\n",
        "print('valid_score:', valid_score)"
      ],
      "execution_count": null,
      "outputs": [
        {
          "output_type": "stream",
          "text": [
            "oob_score: 0.7221093273724852\n",
            "valid_score: 0.7293197440151695\n"
          ],
          "name": "stdout"
        }
      ]
    },
    {
      "cell_type": "markdown",
      "metadata": {
        "id": "QRH1YiCXvv7s",
        "colab_type": "text"
      },
      "source": [
        "**<font color='red'>Вопрос 2. </font> Посчитайте доли правильных ответов для `RandomForestClassifier` при Out-of-Bag оценке и на отложенной выборке. Округлите каждое до 3 знаков после запятой и введите через пробел.**"
      ]
    },
    {
      "cell_type": "code",
      "metadata": {
        "id": "K0sxVGtuvv7t",
        "colab_type": "code",
        "colab": {}
      },
      "source": [
        "write_answer_to_file('{} {}'.format(round(oob_score, 3), round(valid_score, 3)),\n",
        "                     'answer4_2.txt')"
      ],
      "execution_count": null,
      "outputs": []
    },
    {
      "cell_type": "code",
      "metadata": {
        "id": "29cxT5Rgvv70",
        "colab_type": "code",
        "colab": {
          "base_uri": "https://localhost:8080/",
          "height": 34
        },
        "outputId": "4f7248f9-2b15-4389-a735-d56f917233a1"
      },
      "source": [
        "!cat answer4_2.txt"
      ],
      "execution_count": null,
      "outputs": [
        {
          "output_type": "stream",
          "text": [
            "0.722 0.729"
          ],
          "name": "stdout"
        }
      ]
    },
    {
      "cell_type": "markdown",
      "metadata": {
        "id": "htHdgv_ivv75",
        "colab_type": "text"
      },
      "source": [
        "**3. Обучите логистическую регрессию (`LogisticRegression`) с параметром `C` по умолчанию и `random_state`=17 (для воспроизводимости). Посмотрите на долю правильных ответов на кросс-валидации (используйте объект `skf`, созданный ранее) и на выборке `(X_valid, y_valid)`. Для распараллеливания задайте `n_jobs=-1`.**"
      ]
    },
    {
      "cell_type": "code",
      "metadata": {
        "id": "XFqhNNrkvv76",
        "colab_type": "code",
        "colab": {}
      },
      "source": [
        "from sklearn.linear_model import LogisticRegression, LogisticRegressionCV"
      ],
      "execution_count": 14,
      "outputs": []
    },
    {
      "cell_type": "code",
      "metadata": {
        "id": "by7taGX8vv7-",
        "colab_type": "code",
        "colab": {
          "base_uri": "https://localhost:8080/",
          "height": 51
        },
        "outputId": "7ac53df8-8ae3-4466-b125-864e212e731c"
      },
      "source": [
        "logit = LogisticRegression(random_state=17, n_jobs=-1)\n",
        "\n",
        "train_score = cross_val_score(logit, X_train, y_train, cv=skf, scoring='accuracy')\n",
        "print('train_score:', train_score.mean())\n",
        "\n",
        "logit.fit(X_train, y_train)\n",
        "y_pred = logit.predict(X_valid)\n",
        "valid_score = accuracy_score(y_valid, y_pred)\n",
        "print('valid_score:', valid_score)"
      ],
      "execution_count": null,
      "outputs": [
        {
          "output_type": "stream",
          "text": [
            "train_score: 0.7606189739891912\n",
            "valid_score: 0.7767243422611994\n"
          ],
          "name": "stdout"
        }
      ]
    },
    {
      "cell_type": "markdown",
      "metadata": {
        "id": "71DBe5Zvvv8C",
        "colab_type": "text"
      },
      "source": [
        "**Почитайте документацию к [LogisticRegressionCV](http://scikit-learn.org/stable/modules/generated/sklearn.linear_model.LogisticRegressionCV.html). Логистическая регрессия хорошо изучена, и для нее существуют алгоритмы быстрого подбора параметра регуляризации `C` (быстрее, чем с `GridSearchCV`).**\n",
        "\n",
        "**С помощью `LogisticRegressionCV` подберите параметр `C` для `LogisticRegression` сначала в широком диапазоне: 10 значений от 1e-4 до 1e2, используйте `logspace` из `NumPy`. Укажите у `LogisticRegressionCV` параметры `multi_class`='multinomial' и `random_state`=17. Для кросс-валидации используйте объект `skf`, созданный ранее. Для распараллеливания задайте `n_jobs=-1`.**\n",
        "\n",
        "**Нарисуйте кривые валидации по параметру `C`.**"
      ]
    },
    {
      "cell_type": "code",
      "metadata": {
        "id": "MbFwaCFTvv8C",
        "colab_type": "code",
        "colab": {
          "base_uri": "https://localhost:8080/",
          "height": 51
        },
        "outputId": "59b62eb5-a6f2-4867-cf75-5717c6e10131"
      },
      "source": [
        "%%time\n",
        "logit_c_values1 = np.logspace(-4, 2, 10)\n",
        "\n",
        "logit_grid_searcher1 = LogisticRegressionCV(Cs=logit_c_values1, cv=skf, n_jobs=-1, multi_class='multinomial', random_state=17) \n",
        "logit_grid_searcher1.fit(X_train, y_train)"
      ],
      "execution_count": null,
      "outputs": [
        {
          "output_type": "stream",
          "text": [
            "CPU times: user 55.1 s, sys: 2.9 s, total: 58 s\n",
            "Wall time: 5min 43s\n"
          ],
          "name": "stdout"
        }
      ]
    },
    {
      "cell_type": "markdown",
      "metadata": {
        "id": "o0UQOyYSvv8G",
        "colab_type": "text"
      },
      "source": [
        "Средние значения доли правильных ответов на кросс-валидации по каждому из 10 параметров `C`."
      ]
    },
    {
      "cell_type": "code",
      "metadata": {
        "id": "GQuvlO2Zvv8G",
        "colab_type": "code",
        "colab": {}
      },
      "source": [
        "logit_mean_cv_scores1 = np.array(list(logit_grid_searcher1.scores_.values())[0]).mean(axis = 0)"
      ],
      "execution_count": null,
      "outputs": []
    },
    {
      "cell_type": "markdown",
      "metadata": {
        "id": "CWqhpWvovv8K",
        "colab_type": "text"
      },
      "source": [
        "Выведите лучшее значение доли правильных ответов на кросс-валидации и соответствующее значение `C`."
      ]
    },
    {
      "cell_type": "code",
      "metadata": {
        "id": "NeLp4_rqvv8M",
        "colab_type": "code",
        "colab": {
          "base_uri": "https://localhost:8080/",
          "height": 51
        },
        "outputId": "429df259-5250-4d07-93d1-b44a9c1b119e"
      },
      "source": [
        "best_score1 = max(logit_mean_cv_scores1)\n",
        "best_C1 = logit_grid_searcher1.Cs_[np.argmax(logit_mean_cv_scores1)]\n",
        "print('The best cross_val_score:', best_score1)\n",
        "print('With parameter C:', best_C1)"
      ],
      "execution_count": null,
      "outputs": [
        {
          "output_type": "stream",
          "text": [
            "The best cross_val_score: 0.7613302322066194\n",
            "With parameter C: 1.0\n"
          ],
          "name": "stdout"
        }
      ]
    },
    {
      "cell_type": "markdown",
      "metadata": {
        "id": "mIIdyuaivv8R",
        "colab_type": "text"
      },
      "source": [
        "Нарисуйте график зависимости доли правильных ответов на кросс-валидации от `C`."
      ]
    },
    {
      "cell_type": "code",
      "metadata": {
        "id": "tXoZUCBEvv8S",
        "colab_type": "code",
        "colab": {
          "base_uri": "https://localhost:8080/",
          "height": 265
        },
        "outputId": "2765a355-de9a-43cf-c13a-2d2b12d02e30"
      },
      "source": [
        "plt.plot(logit_c_values1, logit_mean_cv_scores1);"
      ],
      "execution_count": null,
      "outputs": [
        {
          "output_type": "display_data",
          "data": {
            "image/png": "[encoded data removed]",
            "text/plain": [
              "<Figure size 432x288 with 1 Axes>"
            ]
          },
          "metadata": {
            "tags": [],
            "needs_background": "light"
          }
        }
      ]
    },
    {
      "cell_type": "markdown",
      "metadata": {
        "id": "hcyRvJuovv8V",
        "colab_type": "text"
      },
      "source": [
        "**Теперь то же самое, только значения параметра `C` перебирайте в диапазоне `np.linspace`(0.1, 7, 20). Опять нарисуйте кривые валидации, определите максимальное значение доли правильных ответов на кросс-валидации.**"
      ]
    },
    {
      "cell_type": "code",
      "metadata": {
        "id": "fTnGKD1jvv8W",
        "colab_type": "code",
        "colab": {
          "base_uri": "https://localhost:8080/",
          "height": 51
        },
        "outputId": "aacd1b17-df8d-4c25-fb18-91215e7921ff"
      },
      "source": [
        "%%time\n",
        "logit_c_values2 = np.linspace(0.1, 7, 20)\n",
        "\n",
        "logit_grid_searcher2 = LogisticRegressionCV(Cs=logit_c_values2, cv=skf, n_jobs=-1, multi_class='multinomial', random_state=17) \n",
        "logit_grid_searcher2.fit(X_train, y_train)"
      ],
      "execution_count": null,
      "outputs": [
        {
          "output_type": "stream",
          "text": [
            "CPU times: user 57.7 s, sys: 3.02 s, total: 1min\n",
            "Wall time: 16min 26s\n"
          ],
          "name": "stdout"
        }
      ]
    },
    {
      "cell_type": "markdown",
      "metadata": {
        "id": "JinSM6Lnvv8Z",
        "colab_type": "text"
      },
      "source": [
        "Средние значения доли правильных ответов на кросс-валидации по каждому из 10 параметров `C`."
      ]
    },
    {
      "cell_type": "code",
      "metadata": {
        "id": "UOitUVHXvv8a",
        "colab_type": "code",
        "colab": {}
      },
      "source": [
        "logit_mean_cv_scores2 = np.array(list(logit_grid_searcher2.scores_.values())[0]).mean(axis = 0)"
      ],
      "execution_count": null,
      "outputs": []
    },
    {
      "cell_type": "markdown",
      "metadata": {
        "id": "0c9VCA0Zvv8e",
        "colab_type": "text"
      },
      "source": [
        "Выведите лучшее значение доли правильных ответов на кросс-валидации и соответствующее значение `C`."
      ]
    },
    {
      "cell_type": "code",
      "metadata": {
        "id": "cDD7w1xNvv8f",
        "colab_type": "code",
        "colab": {
          "base_uri": "https://localhost:8080/",
          "height": 51
        },
        "outputId": "454a9a4b-e670-489f-d9f1-a4a9a7a94d3a"
      },
      "source": [
        "best_score2 = max(logit_mean_cv_scores2)\n",
        "best_C2 = logit_grid_searcher2.Cs_[np.argmax(logit_mean_cv_scores2)]\n",
        "print('The best cross_val_score:', best_score2)\n",
        "print('With parameter C:', best_C2)"
      ],
      "execution_count": null,
      "outputs": [
        {
          "output_type": "stream",
          "text": [
            "The best cross_val_score: 0.761330294154816\n",
            "With parameter C: 1.9157894736842107\n"
          ],
          "name": "stdout"
        }
      ]
    },
    {
      "cell_type": "markdown",
      "metadata": {
        "id": "6W3hzDz0vv8j",
        "colab_type": "text"
      },
      "source": [
        "Нарисуйте график зависимости доли правильных ответов на кросс-валидации от `C`."
      ]
    },
    {
      "cell_type": "code",
      "metadata": {
        "id": "TSblWmjwvv8k",
        "colab_type": "code",
        "colab": {
          "base_uri": "https://localhost:8080/",
          "height": 265
        },
        "outputId": "c7f2f56c-2b17-4520-fb66-833721816ced"
      },
      "source": [
        "plt.plot(logit_c_values2, logit_mean_cv_scores2);"
      ],
      "execution_count": null,
      "outputs": [
        {
          "output_type": "display_data",
          "data": {
            "image/png": "[encoded data removed]",
            "text/plain": [
              "<Figure size 432x288 with 1 Axes>"
            ]
          },
          "metadata": {
            "tags": [],
            "needs_background": "light"
          }
        }
      ]
    },
    {
      "cell_type": "markdown",
      "metadata": {
        "id": "wxqzzDEGvv8n",
        "colab_type": "text"
      },
      "source": [
        "Выведите долю правильных ответов на выборке `(X_valid, y_valid)` для логистической регрессии с лучшим найденным значением `C`."
      ]
    },
    {
      "cell_type": "code",
      "metadata": {
        "id": "RtRU44Jkvv8o",
        "colab_type": "code",
        "colab": {
          "base_uri": "https://localhost:8080/",
          "height": 34
        },
        "outputId": "83807725-acba-41af-bce4-9bcb859cf51e"
      },
      "source": [
        "logit_grid_searcher2.set_params(Cs = best_C2)\n",
        "logit_cv_acc = accuracy_score(y_valid, logit_grid_searcher2.predict(X_valid))\n",
        "print(logit_cv_acc)"
      ],
      "execution_count": null,
      "outputs": [
        {
          "output_type": "stream",
          "text": [
            "0.7798056411471913\n"
          ],
          "name": "stdout"
        }
      ]
    },
    {
      "cell_type": "markdown",
      "metadata": {
        "id": "6N6bTznrvv8s",
        "colab_type": "text"
      },
      "source": [
        "**<font color='red'>Вопрос 3. </font>Посчитайте доли правильных ответов для `logit_grid_searcher2` на кросс-валидации для лучшего значения параметра `C` и на отложенной выборке. Округлите каждое до 3 знаков после запятой и выведите через пробел.**"
      ]
    },
    {
      "cell_type": "code",
      "metadata": {
        "id": "eRaSi3jAvv8t",
        "colab_type": "code",
        "colab": {
          "base_uri": "https://localhost:8080/",
          "height": 51
        },
        "outputId": "aac45c38-5cda-4f52-e184-0db3580b42ce"
      },
      "source": [
        "print('train_score:', best_score2)\n",
        "print('valid_score:', logit_cv_acc)"
      ],
      "execution_count": null,
      "outputs": [
        {
          "output_type": "stream",
          "text": [
            "train_score: 0.761330294154816\n",
            "valid_score: 0.7798056411471913\n"
          ],
          "name": "stdout"
        }
      ]
    },
    {
      "cell_type": "code",
      "metadata": {
        "id": "r68MEy6cafJN",
        "colab_type": "code",
        "colab": {}
      },
      "source": [
        "write_answer_to_file('{} {}'.format(round(best_score2, 3), round(logit_cv_acc, 3)), \n",
        "                     'answer4_3.txt')"
      ],
      "execution_count": null,
      "outputs": []
    },
    {
      "cell_type": "code",
      "metadata": {
        "id": "IhA2Ersba4Kq",
        "colab_type": "code",
        "colab": {
          "base_uri": "https://localhost:8080/",
          "height": 34
        },
        "outputId": "e92d41c0-3a7a-40c3-cfb2-0a7f29121dc8"
      },
      "source": [
        "!cat answer4_3.txt"
      ],
      "execution_count": null,
      "outputs": [
        {
          "output_type": "stream",
          "text": [
            "0.761 0.78"
          ],
          "name": "stdout"
        }
      ]
    },
    {
      "cell_type": "markdown",
      "metadata": {
        "id": "f6I9tFsxvv8x",
        "colab_type": "text"
      },
      "source": [
        "**4. Обучите линейный SVM (`LinearSVC`) с параметром `C`=1 и `random_state`=17 (для воспроизводимости). Посмотрите на долю правильных ответов на кросс-валидации (используйте объект `skf`, созданный ранее) и на выборке `(X_valid, y_valid)`.**"
      ]
    },
    {
      "cell_type": "code",
      "metadata": {
        "id": "fw7Lnr3xvv8y",
        "colab_type": "code",
        "colab": {}
      },
      "source": [
        "from sklearn.svm import LinearSVC"
      ],
      "execution_count": 56,
      "outputs": []
    },
    {
      "cell_type": "code",
      "metadata": {
        "id": "PB49LW3evv82",
        "colab_type": "code",
        "colab": {
          "base_uri": "https://localhost:8080/",
          "height": 51
        },
        "outputId": "8d768382-1b18-4c5e-8f08-3c757f70990d"
      },
      "source": [
        "svm = LinearSVC(C=1.0, random_state=17)\n",
        "train_score = cross_val_score(svm, X_train, y_train, cv=skf, scoring='accuracy')\n",
        "print('train_score:', train_score.mean())\n",
        "\n",
        "svm.fit(X_train, y_train)\n",
        "y_pred = svm.predict(X_valid)\n",
        "valid_score = accuracy_score(y_valid, y_pred)\n",
        "print('valid_score:', valid_score)"
      ],
      "execution_count": null,
      "outputs": [
        {
          "output_type": "stream",
          "text": [
            "train_score: 0.7508655711747608\n",
            "valid_score: 0.7769613652524295\n"
          ],
          "name": "stdout"
        }
      ]
    },
    {
      "cell_type": "markdown",
      "metadata": {
        "id": "IP7bhVyAvv85",
        "colab_type": "text"
      },
      "source": [
        "**С помощью `GridSearchCV` подберите параметр `C` для SVM сначала в широком диапазоне: 10 значений от 1e-4 до 1e4, используйте `linspace` из NumPy. Нарисуйте кривые валидации.**"
      ]
    },
    {
      "cell_type": "code",
      "metadata": {
        "id": "oeQ2YJe4vv86",
        "colab_type": "code",
        "colab": {
          "base_uri": "https://localhost:8080/",
          "height": 51
        },
        "outputId": "fc57ebf5-c827-40b0-b49d-f5481f0d3cab"
      },
      "source": [
        "%%time\n",
        "svm_params1 = {'C': np.linspace(1e-4, 1e4, 10)}\n",
        "\n",
        "svm_grid_searcher1 = GridSearchCV(estimator=svm, param_grid=svm_params1, scoring='accuracy', n_jobs=-1, cv=skf, return_train_score=True)\n",
        "svm_grid_searcher1.fit(X_train, y_train)"
      ],
      "execution_count": null,
      "outputs": [
        {
          "output_type": "stream",
          "text": [
            "CPU times: user 22.5 s, sys: 4.2 s, total: 26.7 s\n",
            "Wall time: 1min 30s\n"
          ],
          "name": "stdout"
        }
      ]
    },
    {
      "cell_type": "markdown",
      "metadata": {
        "id": "GtvCzPfwvv8-",
        "colab_type": "text"
      },
      "source": [
        "Выведите лучшее значение доли правильных ответов на кросс-валидации и соответствующее значение `C`."
      ]
    },
    {
      "cell_type": "code",
      "metadata": {
        "id": "OeDq8_3yvv8-",
        "colab_type": "code",
        "colab": {
          "base_uri": "https://localhost:8080/",
          "height": 51
        },
        "outputId": "35edca14-b393-4f6c-dcfa-e04e84b859de"
      },
      "source": [
        "best_score3 = svm_grid_searcher1.best_score_\n",
        "best_C3 = svm_grid_searcher1.best_params_\n",
        "print('The best cross_val_score:', best_score3)\n",
        "print('With parameter:', best_C3)"
      ],
      "execution_count": null,
      "outputs": [
        {
          "output_type": "stream",
          "text": [
            "The best cross_val_score: 0.6868546856376824\n",
            "With parameter: {'C': 2222.2223000000004}\n"
          ],
          "name": "stdout"
        }
      ]
    },
    {
      "cell_type": "markdown",
      "metadata": {
        "id": "HBUYiA9Gvv9C",
        "colab_type": "text"
      },
      "source": [
        "Нарисуйте график зависимости доли правильных ответов на кросс-валидации от `C`."
      ]
    },
    {
      "cell_type": "code",
      "metadata": {
        "id": "JVOQyeZ6vv9D",
        "colab_type": "code",
        "colab": {
          "base_uri": "https://localhost:8080/",
          "height": 266
        },
        "outputId": "ab309420-721b-47b1-adb0-8ae64c0a8fde"
      },
      "source": [
        "plot_validation_curves(svm_params1['C'], svm_grid_searcher1.cv_results_)"
      ],
      "execution_count": null,
      "outputs": [
        {
          "output_type": "display_data",
          "data": {
            "image/png": "[encoded data removed]",
            "text/plain": [
              "<Figure size 432x288 with 1 Axes>"
            ]
          },
          "metadata": {
            "tags": [],
            "needs_background": "light"
          }
        }
      ]
    },
    {
      "cell_type": "markdown",
      "metadata": {
        "id": "J4s51Y0ovv9L",
        "colab_type": "text"
      },
      "source": [
        "**Но мы помним, что с параметром регуляризации по умолчанию (С=1) на кросс-валидации доля правильных ответов выше. Это тот случай (не редкий), когда можно ошибиться и перебирать параметры не в том диапазоне (причина в том, что мы взяли равномерную сетку на большом интервале и упустили действительно хороший интервал значений `C`). Здесь намного осмысленней подбирать `C` в районе 1, к тому же, так модель быстрее обучается, чем при больших `C`. **\n",
        "\n",
        "**С помощью `GridSearchCV` подберите параметр `C` для SVM в диапазоне (1e-3, 1), 30 значений, используйте `linspace` из NumPy. Нарисуйте кривые валидации.**"
      ]
    },
    {
      "cell_type": "code",
      "metadata": {
        "id": "oj3zU5pwvv9L",
        "colab_type": "code",
        "colab": {
          "base_uri": "https://localhost:8080/",
          "height": 51
        },
        "outputId": "790bc298-08f0-435e-bf81-fd44cd6e7e83"
      },
      "source": [
        "%%time\n",
        "svm = LinearSVC(random_state=17)\n",
        "svm_params2 = {'C': np.linspace(1e-3, 1, 30)}\n",
        "\n",
        "svm_grid_searcher2 = GridSearchCV(estimator=svm, param_grid=svm_params2, scoring='accuracy', n_jobs=-1, cv=skf, return_train_score=True)\n",
        "svm_grid_searcher2.fit(X_train, y_train)"
      ],
      "execution_count": 59,
      "outputs": [
        {
          "output_type": "stream",
          "text": [
            "CPU times: user 1min 15s, sys: 33.3 s, total: 1min 48s\n",
            "Wall time: 4min 30s\n"
          ],
          "name": "stdout"
        }
      ]
    },
    {
      "cell_type": "markdown",
      "metadata": {
        "id": "MvQ441nbvv9R",
        "colab_type": "text"
      },
      "source": [
        "Выведите лучшее значение доли правильных ответов на кросс-валидации и соответствующее значение `C`."
      ]
    },
    {
      "cell_type": "code",
      "metadata": {
        "id": "QWfXfvGvvv9S",
        "colab_type": "code",
        "colab": {
          "base_uri": "https://localhost:8080/",
          "height": 51
        },
        "outputId": "f23e10de-f3ad-4bdf-d0e2-8d3226334b2b"
      },
      "source": [
        "best_score4 = svm_grid_searcher2.best_score_\n",
        "best_C4 = svm_grid_searcher2.best_params_\n",
        "print('The best cross_val_score:', best_score4)\n",
        "print('With parameter:', best_C4)"
      ],
      "execution_count": null,
      "outputs": [
        {
          "output_type": "stream",
          "text": [
            "The best cross_val_score: 0.7670206386611259\n",
            "With parameter: {'C': 0.10434482758620689}\n"
          ],
          "name": "stdout"
        }
      ]
    },
    {
      "cell_type": "markdown",
      "metadata": {
        "id": "e3pfMO3yvv9a",
        "colab_type": "text"
      },
      "source": [
        "Нарисуйте график зависимости доли правильных ответов на кросс-валидации от С."
      ]
    },
    {
      "cell_type": "code",
      "metadata": {
        "id": "6reGohY_vv9a",
        "colab_type": "code",
        "colab": {
          "base_uri": "https://localhost:8080/",
          "height": 265
        },
        "outputId": "a12bbd52-05d0-4736-b80f-167eb2be08a2"
      },
      "source": [
        "plot_validation_curves(svm_params2['C'], svm_grid_searcher2.cv_results_)"
      ],
      "execution_count": null,
      "outputs": [
        {
          "output_type": "display_data",
          "data": {
            "image/png": "[encoded data removed]",
            "text/plain": [
              "<Figure size 432x288 with 1 Axes>"
            ]
          },
          "metadata": {
            "tags": [],
            "needs_background": "light"
          }
        }
      ]
    },
    {
      "cell_type": "markdown",
      "metadata": {
        "id": "O9YcgrW_vv9e",
        "colab_type": "text"
      },
      "source": [
        "Выведите долю правильных ответов на выборке `(X_valid, y_valid)` для `LinearSVC` с лучшим найденным значением `C`."
      ]
    },
    {
      "cell_type": "code",
      "metadata": {
        "id": "cEWHicekvv9f",
        "colab_type": "code",
        "colab": {
          "base_uri": "https://localhost:8080/",
          "height": 34
        },
        "outputId": "d0bb64f6-9ff5-4abc-aeb7-84e5faea7222"
      },
      "source": [
        "svm = LinearSVC(C=best_C4['C'], random_state=17)\n",
        "svm.fit(X_train, y_train)\n",
        "svm_cv_acc = accuracy_score(y_valid, svm.predict(X_valid))\n",
        "print(svm_cv_acc)"
      ],
      "execution_count": null,
      "outputs": [
        {
          "output_type": "stream",
          "text": [
            "0.7807537331121118\n"
          ],
          "name": "stdout"
        }
      ]
    },
    {
      "cell_type": "markdown",
      "metadata": {
        "id": "J18SgjNZvv9k",
        "colab_type": "text"
      },
      "source": [
        "**<font color='red'>Вопрос 4. </font> Посчитайте доли правильных ответов для `svm_grid_searcher2` на кросс-валидации для лучшего значения параметра `C` и на отложенной выборке. Округлите каждое до 3 знаков после запятой и выведите через пробел.**"
      ]
    },
    {
      "cell_type": "code",
      "metadata": {
        "id": "97XGHNxgvv9k",
        "colab_type": "code",
        "colab": {
          "base_uri": "https://localhost:8080/",
          "height": 51
        },
        "outputId": "561c0b05-6cc5-434c-8938-a41aa995fae6"
      },
      "source": [
        "print('train_score:', best_score4)\n",
        "print('valid_score:', svm_cv_acc)"
      ],
      "execution_count": null,
      "outputs": [
        {
          "output_type": "stream",
          "text": [
            "train_score: 0.7670206386611259\n",
            "valid_score: 0.7807537331121118\n"
          ],
          "name": "stdout"
        }
      ]
    },
    {
      "cell_type": "code",
      "metadata": {
        "id": "raqTb7jP0wWm",
        "colab_type": "code",
        "colab": {}
      },
      "source": [
        "write_answer_to_file('{} {}'.format(round(best_score4, 3), round(svm_cv_acc, 3)), \n",
        "                     'answer4_4.txt')"
      ],
      "execution_count": null,
      "outputs": []
    },
    {
      "cell_type": "code",
      "metadata": {
        "id": "p1t2uXDZ1Lj6",
        "colab_type": "code",
        "colab": {
          "base_uri": "https://localhost:8080/",
          "height": 34
        },
        "outputId": "31d3ad2d-6a54-45ad-a004-c56647bcdcef"
      },
      "source": [
        "!cat answer4_4.txt"
      ],
      "execution_count": null,
      "outputs": [
        {
          "output_type": "stream",
          "text": [
            "0.767 0.781"
          ],
          "name": "stdout"
        }
      ]
    },
    {
      "cell_type": "markdown",
      "metadata": {
        "id": "s0Ir7wJCvv9o",
        "colab_type": "text"
      },
      "source": [
        "## Часть 2. Выбор параметров – длины сессии и ширины окна"
      ]
    },
    {
      "cell_type": "markdown",
      "metadata": {
        "id": "ChB505Rgvv9p",
        "colab_type": "text"
      },
      "source": [
        "**Возьмем `LinearSVC`, показавший лучшее качество на кросс-валидации в 1 части, и проверим его работу еще на 8 выборках для 10 пользователей (с разными сочетаниями параметров *session_length* и *window_size*). Поскольку тут уже вычислений побольше, мы не будем каждый раз заново подбирать параметр регуляризации `C`.**\n",
        "\n",
        "**Определите функцию `model_assessment`, ее документация описана ниже. Обратите внимание на все детали. Например, на то, что разбиение  выборки с `train_test_split` должно быть стратифицированным. Не теряйте нигде `random_state`.**"
      ]
    },
    {
      "cell_type": "code",
      "metadata": {
        "id": "NPJVrp_cvv9p",
        "colab_type": "code",
        "colab": {}
      },
      "source": [
        "def model_assessment(estimator, path_to_X_pickle, path_to_y_pickle, cv, random_state=17, test_size=0.3):\n",
        "    '''\n",
        "    Estimates CV-accuracy for (1 - test_size) share of (X_sparse, y) \n",
        "    loaded from path_to_X_pickle and path_to_y_pickle and holdout accuracy for (test_size) share of (X_sparse, y).\n",
        "    The split is made with stratified train_test_split with params random_state and test_size.\n",
        "    \n",
        "    :param estimator – Scikit-learn estimator (classifier or regressor)\n",
        "    :param path_to_X_pickle – path to pickled sparse X (instances and their features)\n",
        "    :param path_to_y_pickle – path to pickled y (responses)\n",
        "    :param cv – cross-validation as in cross_val_score (use StratifiedKFold here)\n",
        "    :param random_state –  for train_test_split\n",
        "    :param test_size –  for train_test_split\n",
        "    \n",
        "    :returns mean CV-accuracy for (X_train, y_train) and accuracy for (X_valid, y_valid) where (X_train, y_train)\n",
        "    and (X_valid, y_valid) are (1 - test_size) and (testsize) shares of (X_sparse, y).\n",
        "    '''\n",
        "    \n",
        "    ''' ВАШ КОД ЗДЕСЬ '''\n",
        "\n",
        "    with open(path_to_X_pickle, 'rb') as X_sparse_pkl:\n",
        "      X_sparse = pickle.load(X_sparse_pkl)\n",
        "      # X_sparse = pickle.load(X_sparse_pkl).todense()\n",
        "\n",
        "    with open(path_to_y_pickle, 'rb') as y_pkl:\n",
        "      y = pickle.load(y_pkl)\n",
        "\n",
        "    X_train, X_valid, y_train, y_valid = train_test_split(X_sparse, y, \n",
        "                                                      test_size=test_size, \n",
        "                                                     random_state=random_state, stratify=y)\n",
        "    \n",
        "    skf = StratifiedKFold(n_splits=3, shuffle=True, random_state=17)\n",
        "\n",
        "    train_score = cross_val_score(estimator, X_train, y_train, cv=skf, scoring='accuracy').mean()\n",
        "    # print('train_score:', train_score)\n",
        "\n",
        "    estimator.fit(X_train, y_train)\n",
        "    y_pred = estimator.predict(X_valid)\n",
        "    valid_score = accuracy_score(y_valid, y_pred)\n",
        "    # print('valid_score:', valid_score)\n",
        "\n",
        "    return (train_score, valid_score)"
      ],
      "execution_count": 70,
      "outputs": []
    },
    {
      "cell_type": "markdown",
      "metadata": {
        "id": "WBEhJagCvv9v",
        "colab_type": "text"
      },
      "source": [
        "**Убедитесь, что функция работает.**"
      ]
    },
    {
      "cell_type": "code",
      "metadata": {
        "id": "U_eN8Q0Yvv9w",
        "colab_type": "code",
        "colab": {
          "base_uri": "https://localhost:8080/",
          "height": 34
        },
        "outputId": "fcab2c8b-3c99-4c6a-d19c-b0c45e85abc8"
      },
      "source": [
        "model_assessment(svm_grid_searcher2.best_estimator_, \n",
        "                 os.path.join(PATH_TO_DATA, 'X_sparse_10users.pkl'),\n",
        "        os.path.join(PATH_TO_DATA, 'y_10users.pkl'), skf, random_state=17, test_size=0.3)"
      ],
      "execution_count": 15,
      "outputs": [
        {
          "output_type": "execute_result",
          "data": {
            "text/plain": [
              "(0.7670206386611259, 0.7807537331121118)"
            ]
          },
          "metadata": {
            "tags": []
          },
          "execution_count": 15
        }
      ]
    },
    {
      "cell_type": "markdown",
      "metadata": {
        "id": "WtDZIlMovv9y",
        "colab_type": "text"
      },
      "source": [
        "**Примените функцию *model_assessment* для лучшего алгоритма из предыдущей части (а именно, `svm_grid_searcher2.best_estimator_`) и 9 выборок вида с разными сочетаниями параметров *session_length* и *window_size* для 10 пользователей. Выведите в цикле параметры *session_length* и *window_size*, а также результат вывода функции *model_assessment*. \n",
        "Удобно сделать так, чтоб *model_assessment* возвращала 3-им элементом время, за которое она выполнилась. На моем ноуте этот участок кода выполнился за 20 секунд. Но со 150 пользователями каждая итерация занимает уже несколько минут.**"
      ]
    },
    {
      "cell_type": "markdown",
      "metadata": {
        "id": "KiZvevnMvv9y",
        "colab_type": "text"
      },
      "source": [
        "Здесь для удобства стоит создать копии ранее созданных pickle-файлов X_sparse_10users.pkl, X_sparse_150users.pkl, y_10users.pkl и y_150users.pkl, добавив к их названиям s10_w10, что означает длину сессии 10 и ширину окна 10. "
      ]
    },
    {
      "cell_type": "code",
      "metadata": {
        "id": "wQja5MVrvv9z",
        "colab_type": "code",
        "colab": {}
      },
      "source": [
        "!cp $PATH_TO_DATA/X_sparse_10users.pkl $PATH_TO_DATA/X_sparse_10users_s10_w10.pkl \n",
        "!cp $PATH_TO_DATA/X_sparse_150users.pkl $PATH_TO_DATA/X_sparse_150users_s10_w10.pkl \n",
        "!cp $PATH_TO_DATA/y_10users.pkl $PATH_TO_DATA/y_10users_s10_w10.pkl \n",
        "!cp $PATH_TO_DATA/y_150users.pkl $PATH_TO_DATA/y_150users_s10_w10.pkl "
      ],
      "execution_count": 12,
      "outputs": []
    },
    {
      "cell_type": "code",
      "metadata": {
        "id": "a8rybGeevv92",
        "colab_type": "code",
        "colab": {
          "base_uri": "https://localhost:8080/",
          "height": 680
        },
        "outputId": "8acefa7f-c1a5-4d41-aa5f-6bd22ca107ac"
      },
      "source": [
        "%%time\n",
        "estimator = svm_grid_searcher2.best_estimator_\n",
        "\n",
        "for window_size, session_length in tqdm(itertools.product([10, 7, 5], [15, 10, 7, 5])):\n",
        "    if window_size <= session_length:\n",
        "\n",
        "        path_to_X_pkl = os.path.join(PATH_TO_DATA,\n",
        "                                     'X_sparse_10users_s{}_w{}.pkl'.format(session_length, window_size))\n",
        "        \n",
        "        path_to_y_pkl = os.path.join(PATH_TO_DATA,\n",
        "                                     'y_10users_s{}_w{}.pkl'.format(session_length, window_size))\n",
        "        \n",
        "        print('\\ns{}_w{}:\\n'.format(session_length, window_size), model_assessment(estimator, \n",
        "                               path_to_X_pkl, path_to_y_pkl, skf, random_state=17, test_size=0.3), '\\n')"
      ],
      "execution_count": 30,
      "outputs": [
        {
          "output_type": "stream",
          "text": [
            "1it [00:05,  5.72s/it]"
          ],
          "name": "stderr"
        },
        {
          "output_type": "stream",
          "text": [
            "\n",
            "s15_w10:\n",
            " (0.8243252292702751, 0.8404835269021095) \n",
            "\n"
          ],
          "name": "stdout"
        },
        {
          "output_type": "stream",
          "text": [
            "\r2it [00:09,  5.26s/it]"
          ],
          "name": "stderr"
        },
        {
          "output_type": "stream",
          "text": [
            "\n",
            "s10_w10:\n",
            " (0.7670206386611259, 0.7807537331121118) \n",
            "\n"
          ],
          "name": "stdout"
        },
        {
          "output_type": "stream",
          "text": [
            "\r5it [00:17,  4.46s/it]"
          ],
          "name": "stderr"
        },
        {
          "output_type": "stream",
          "text": [
            "\n",
            "s15_w7:\n",
            " (0.8495024256089474, 0.8543222166915547) \n",
            "\n"
          ],
          "name": "stdout"
        },
        {
          "output_type": "stream",
          "text": [
            "\r6it [00:23,  4.84s/it]"
          ],
          "name": "stderr"
        },
        {
          "output_type": "stream",
          "text": [
            "\n",
            "s10_w7:\n",
            " (0.7983645917156946, 0.8073668491786958) \n",
            "\n"
          ],
          "name": "stdout"
        },
        {
          "output_type": "stream",
          "text": [
            "\r7it [00:28,  4.77s/it]"
          ],
          "name": "stderr"
        },
        {
          "output_type": "stream",
          "text": [
            "\n",
            "s7_w7:\n",
            " (0.754765400423003, 0.7617388418782147) \n",
            "\n"
          ],
          "name": "stdout"
        },
        {
          "output_type": "stream",
          "text": [
            "\r9it [00:39,  5.02s/it]"
          ],
          "name": "stderr"
        },
        {
          "output_type": "stream",
          "text": [
            "\n",
            "s15_w5:\n",
            " (0.8670355547005402, 0.8752963489805595) \n",
            "\n"
          ],
          "name": "stdout"
        },
        {
          "output_type": "stream",
          "text": [
            "\r10it [00:47,  5.94s/it]"
          ],
          "name": "stderr"
        },
        {
          "output_type": "stream",
          "text": [
            "\n",
            "s10_w5:\n",
            " (0.8177520250854086, 0.8245614035087719) \n",
            "\n"
          ],
          "name": "stdout"
        },
        {
          "output_type": "stream",
          "text": [
            "\r11it [00:53,  6.09s/it]"
          ],
          "name": "stderr"
        },
        {
          "output_type": "stream",
          "text": [
            "\n",
            "s7_w5:\n",
            " (0.772939529035208, 0.7853247984826932) \n",
            "\n"
          ],
          "name": "stdout"
        },
        {
          "output_type": "stream",
          "text": [
            "12it [00:59,  4.94s/it]"
          ],
          "name": "stderr"
        },
        {
          "output_type": "stream",
          "text": [
            "\n",
            "s5_w5:\n",
            " (0.7254849424351582, 0.7362494073020389) \n",
            "\n",
            "CPU times: user 1min 1s, sys: 3.59 s, total: 1min 5s\n",
            "Wall time: 59.3 s\n"
          ],
          "name": "stdout"
        },
        {
          "output_type": "stream",
          "text": [
            "\n"
          ],
          "name": "stderr"
        }
      ]
    },
    {
      "cell_type": "markdown",
      "metadata": {
        "id": "7UaNnLNKvv96",
        "colab_type": "text"
      },
      "source": [
        "**<font color='red'>Вопрос 5. </font> Посчитайте доли правильных ответов для `LinearSVC` с настроенным параметром `C` и выборки `X_sparse_10users_s15_w5`. Укажите доли правильных ответов на кросс-валидации и на отложенной выборке. Округлите каждое до 3 знаков после запятой и выведите через пробел.**"
      ]
    },
    {
      "cell_type": "code",
      "metadata": {
        "id": "vCfb-rRavv97",
        "colab_type": "code",
        "colab": {}
      },
      "source": [
        "train_score, valid_score = model_assessment(svm_grid_searcher2.best_estimator_, \n",
        "                 os.path.join(PATH_TO_DATA, 'X_sparse_10users_s15_w5.pkl'),\n",
        "        os.path.join(PATH_TO_DATA, 'y_10users_s15_w5.pkl'), skf, random_state=17, test_size=0.3)"
      ],
      "execution_count": 31,
      "outputs": []
    },
    {
      "cell_type": "code",
      "metadata": {
        "id": "YXdtwXr-ImFe",
        "colab_type": "code",
        "colab": {}
      },
      "source": [
        "write_answer_to_file('{} {}'.format(round(train_score, 3), round(valid_score, 3)), \n",
        "                     'answer4_5.txt')"
      ],
      "execution_count": 32,
      "outputs": []
    },
    {
      "cell_type": "code",
      "metadata": {
        "id": "7EJgHelNJHqJ",
        "colab_type": "code",
        "colab": {
          "base_uri": "https://localhost:8080/",
          "height": 34
        },
        "outputId": "a8b9cc4e-3ffa-45ae-a4ae-99b0403f0ee5"
      },
      "source": [
        "!cat answer4_5.txt"
      ],
      "execution_count": 33,
      "outputs": [
        {
          "output_type": "stream",
          "text": [
            "0.867 0.875"
          ],
          "name": "stdout"
        }
      ]
    },
    {
      "cell_type": "markdown",
      "metadata": {
        "id": "d_6yNEo4vv-A",
        "colab_type": "text"
      },
      "source": [
        "**Прокомментируйте полученные результаты. Сравните для 150 пользователей доли правильных ответов на кросс-валидации и оставленной выборке для сочетаний параметров (*session_length, window_size*): (5,5), (7,7) и (10,10). На среднем ноуте это может занять до часа – запаситесь терпением, это Data Science :) **\n",
        "\n",
        "**Сделайте вывод о том, как качество классификации зависит от длины сессии и ширины окна.**"
      ]
    },
    {
      "cell_type": "code",
      "metadata": {
        "id": "kujSW8aOvv-A",
        "colab_type": "code",
        "colab": {
          "base_uri": "https://localhost:8080/",
          "height": 272
        },
        "outputId": "49560098-e8fe-4bb2-8d8f-1e26a61500ed"
      },
      "source": [
        "%%time\n",
        "estimator = svm_grid_searcher2.best_estimator_\n",
        "\n",
        "for window_size, session_length in tqdm([(5,5), (7,7), (10,10)]):\n",
        "    path_to_X_pkl = os.path.join(PATH_TO_DATA,\n",
        "                                     'X_sparse_150users_s{}_w{}.pkl'.format(session_length, window_size))\n",
        "    path_to_y_pkl = os.path.join(PATH_TO_DATA,\n",
        "                                     'y_150users_s{}_w{}.pkl'.format(session_length, window_size))\n",
        "    print('\\ns{}_w{}:\\n'.format(session_length, window_size), model_assessment(estimator, \n",
        "                               path_to_X_pkl, path_to_y_pkl, skf, random_state=17, test_size=0.3), '\\n')"
      ],
      "execution_count": 71,
      "outputs": [
        {
          "output_type": "stream",
          "text": [
            " 33%|███▎      | 1/3 [08:29<16:58, 509.26s/it]"
          ],
          "name": "stderr"
        },
        {
          "output_type": "stream",
          "text": [
            "\n",
            "s5_w5:\n",
            " (0.4083611011164474, 0.42171606560568453) \n",
            "\n"
          ],
          "name": "stdout"
        },
        {
          "output_type": "stream",
          "text": [
            "\r 67%|██████▋   | 2/3 [16:15<08:16, 496.47s/it]"
          ],
          "name": "stderr"
        },
        {
          "output_type": "stream",
          "text": [
            "\n",
            "s7_w7:\n",
            " (0.4366487102001489, 0.45295840855673264) \n",
            "\n"
          ],
          "name": "stdout"
        },
        {
          "output_type": "stream",
          "text": [
            "100%|██████████| 3/3 [22:53<00:00, 457.70s/it]"
          ],
          "name": "stderr"
        },
        {
          "output_type": "stream",
          "text": [
            "\n",
            "s10_w10:\n",
            " (0.46307591254574465, 0.4836276942538802) \n",
            "\n",
            "CPU times: user 22min 30s, sys: 3.25 s, total: 22min 34s\n",
            "Wall time: 22min 53s\n"
          ],
          "name": "stdout"
        },
        {
          "output_type": "stream",
          "text": [
            "\n"
          ],
          "name": "stderr"
        }
      ]
    },
    {
      "cell_type": "markdown",
      "metadata": {
        "id": "B9US-kGsvv-C",
        "colab_type": "text"
      },
      "source": [
        "**<font color='red'>Вопрос 6. </font> Посчитайте доли правильных ответов для `LinearSVC` с настроенным параметром `C` и выборки `X_sparse_150users`. Укажите доли правильных ответов на кросс-валидации и на отложенной выборке. Округлите каждое до 3 знаков после запятой и выведите через пробел.**"
      ]
    },
    {
      "cell_type": "code",
      "metadata": {
        "id": "S1FlR-W-vv-D",
        "colab_type": "code",
        "colab": {}
      },
      "source": [
        "train_score, valid_score = model_assessment(svm_grid_searcher2.best_estimator_, \n",
        "                 os.path.join(PATH_TO_DATA, 'X_sparse_150users.pkl'),\n",
        "        os.path.join(PATH_TO_DATA, 'y_150users.pkl'), skf, random_state=17, test_size=0.3)"
      ],
      "execution_count": 72,
      "outputs": []
    },
    {
      "cell_type": "code",
      "metadata": {
        "id": "-GqsBVP5PGa1",
        "colab_type": "code",
        "colab": {}
      },
      "source": [
        "write_answer_to_file('{} {}'.format(round(train_score, 3), round(valid_score, 3)), \n",
        "                     'answer4_6.txt')"
      ],
      "execution_count": 73,
      "outputs": []
    },
    {
      "cell_type": "code",
      "metadata": {
        "id": "SxFcPn0pPLUP",
        "colab_type": "code",
        "colab": {
          "base_uri": "https://localhost:8080/",
          "height": 34
        },
        "outputId": "40cf8ab5-68de-4346-9bd5-be9bba55cd60"
      },
      "source": [
        "!cat answer4_6.txt"
      ],
      "execution_count": 74,
      "outputs": [
        {
          "output_type": "stream",
          "text": [
            "0.463 0.484"
          ],
          "name": "stdout"
        }
      ]
    },
    {
      "cell_type": "markdown",
      "metadata": {
        "id": "Gb_X-vW2vv-F",
        "colab_type": "text"
      },
      "source": [
        "## Часть 3. Идентификация  конкретного пользователя и кривые обучения"
      ]
    },
    {
      "cell_type": "markdown",
      "metadata": {
        "id": "_2tw65uevv-G",
        "colab_type": "text"
      },
      "source": [
        "**Поскольку может разочаровать, что многоклассовая доля правильных ответов на выборке из 150 пользовалей невелика, порадуемся тому, что конкретного пользователя можно идентифицировать достаточно хорошо. **"
      ]
    },
    {
      "cell_type": "markdown",
      "metadata": {
        "id": "XPJQFIFTvv-G",
        "colab_type": "text"
      },
      "source": [
        "**Загрузим сериализованные ранее объекты *X_sparse_150users* и *y_150users*, соответствующие обучающей выборке для 150 пользователей с параметрами (*session_length, window_size*) = (10,10). Так же точно разобьем их на 70% и 30%.**"
      ]
    },
    {
      "cell_type": "code",
      "metadata": {
        "id": "G_zyCkt5vv-H",
        "colab_type": "code",
        "colab": {}
      },
      "source": [
        "with open(os.path.join(PATH_TO_DATA, 'X_sparse_150users.pkl'), 'rb') as X_sparse_150users_pkl:\n",
        "     X_sparse_150users = pickle.load(X_sparse_150users_pkl)\n",
        "with open(os.path.join(PATH_TO_DATA, 'y_150users.pkl'), 'rb') as y_150users_pkl:\n",
        "    y_150users = pickle.load(y_150users_pkl)"
      ],
      "execution_count": 10,
      "outputs": []
    },
    {
      "cell_type": "code",
      "metadata": {
        "id": "SnppJg4ivv-K",
        "colab_type": "code",
        "colab": {}
      },
      "source": [
        "X_train_150, X_valid_150, y_train_150, y_valid_150 = train_test_split(X_sparse_150users, \n",
        "                                                                      y_150users, test_size=0.3, \n",
        "                                                     random_state=17, stratify=y_150users)"
      ],
      "execution_count": 11,
      "outputs": []
    },
    {
      "cell_type": "markdown",
      "metadata": {
        "id": "6WLE3CL1vv-N",
        "colab_type": "text"
      },
      "source": [
        "**Обучите `LogisticRegressionCV` для одного значения параметра `C` (лучшего на кросс-валидации в 1 части, используйте точное значение, не на глаз). Теперь будем решать 150 задач \"Один-против-Всех\", поэтому укажите аргумент `multi_class`='ovr'. Как всегда, где возможно, указывайте `n_jobs=-1` и `random_state`=17.**"
      ]
    },
    {
      "cell_type": "code",
      "metadata": {
        "id": "F3IBUsEqvv-O",
        "colab_type": "code",
        "colab": {
          "base_uri": "https://localhost:8080/",
          "height": 51
        },
        "outputId": "d33a4340-2f40-4f52-fe91-116a1a2ff59e"
      },
      "source": [
        "%%time\n",
        "logit_cv_150users = LogisticRegressionCV(Cs=[1.9157894736842107], cv=skf, n_jobs=-1, multi_class='ovr', random_state=17) \n",
        "logit_cv_150users.fit(X_train_150, y_train_150)"
      ],
      "execution_count": 16,
      "outputs": [
        {
          "output_type": "stream",
          "text": [
            "CPU times: user 6min 37s, sys: 4min 41s, total: 11min 19s\n",
            "Wall time: 13min 22s\n"
          ],
          "name": "stdout"
        }
      ]
    },
    {
      "cell_type": "markdown",
      "metadata": {
        "id": "bXLy_1h4vv-T",
        "colab_type": "text"
      },
      "source": [
        "**Посмотрите на средние доли правильных ответов на кросс-валидации в задаче идентификации каждого пользователя по отдельности.**"
      ]
    },
    {
      "cell_type": "code",
      "metadata": {
        "id": "8nzjy9Wnvv-U",
        "colab_type": "code",
        "colab": {
          "base_uri": "https://localhost:8080/",
          "height": 1000
        },
        "outputId": "4b3bc4bb-1ff6-4fbc-9213-ab615aa9f689"
      },
      "source": [
        "cv_scores_by_user = {}\n",
        "for user_id in logit_cv_150users.scores_:\n",
        "    cv_scores_by_user[user_id] = logit_cv_150users.scores_[user_id].mean()\n",
        "    print('User {}, CV score: {}'.format(user_id, logit_cv_150users.scores_[user_id].mean()))"
      ],
      "execution_count": 23,
      "outputs": [
        {
          "output_type": "stream",
          "text": [
            "User 0006, CV score: 0.9960797806345333\n",
            "User 0013, CV score: 0.9963091551718745\n",
            "User 0015, CV score: 0.995256117523172\n",
            "User 0016, CV score: 0.9918467778090561\n",
            "User 0028, CV score: 0.9903558433163387\n",
            "User 0031, CV score: 0.9944011760658097\n",
            "User 0033, CV score: 0.9937651830304547\n",
            "User 0039, CV score: 0.9858830398381867\n",
            "User 0046, CV score: 0.9980398903172666\n",
            "User 0049, CV score: 0.9951935608311699\n",
            "User 0050, CV score: 0.9943281932584739\n",
            "User 0053, CV score: 0.9937130524537862\n",
            "User 0065, CV score: 0.9969451482072295\n",
            "User 0066, CV score: 0.9948077945638234\n",
            "User 0082, CV score: 0.9963717118638766\n",
            "User 0085, CV score: 0.9963717118638766\n",
            "User 0089, CV score: 0.9908771490830232\n",
            "User 0092, CV score: 0.994422028296477\n",
            "User 0100, CV score: 0.9944950111038128\n",
            "User 0102, CV score: 0.9911586541970326\n",
            "User 0103, CV score: 0.9805448687873385\n",
            "User 0105, CV score: 0.9969034437458948\n",
            "User 0106, CV score: 0.9948494990251583\n",
            "User 0118, CV score: 0.9909292796596917\n",
            "User 0119, CV score: 0.9965906602858841\n",
            "User 0120, CV score: 0.994286488797139\n",
            "User 0126, CV score: 0.9950684474471657\n",
            "User 0127, CV score: 0.9916069771563812\n",
            "User 0128, CV score: 0.9846944626901463\n",
            "User 0138, CV score: 0.9970598354759\n",
            "User 0158, CV score: 0.9970598354759\n",
            "User 0160, CV score: 0.9968200348232252\n",
            "User 0165, CV score: 0.997362192820577\n",
            "User 0172, CV score: 0.9964863991325471\n",
            "User 0177, CV score: 0.9967679042465568\n",
            "User 0203, CV score: 0.9975707151272508\n",
            "User 0207, CV score: 0.9877805928289178\n",
            "User 0223, CV score: 0.9965489558245494\n",
            "User 0233, CV score: 0.9963195812872082\n",
            "User 0235, CV score: 0.9966636430932199\n",
            "User 0236, CV score: 0.9900222076256607\n",
            "User 0237, CV score: 0.9894174929363068\n",
            "User 0238, CV score: 0.9962465984798724\n",
            "User 0240, CV score: 0.9957461449438553\n",
            "User 0241, CV score: 0.9959650933658629\n",
            "User 0242, CV score: 0.9951622824851688\n",
            "User 0245, CV score: 0.9960067978271976\n",
            "User 0246, CV score: 0.997028557129899\n",
            "User 0249, CV score: 0.9950058907551634\n",
            "User 0252, CV score: 0.9964968252478809\n",
            "User 0254, CV score: 0.9920135956543952\n",
            "User 0256, CV score: 0.9961110589805345\n",
            "User 0258, CV score: 0.9959338150198618\n",
            "User 0259, CV score: 0.9949120557171603\n",
            "User 0260, CV score: 0.9973934711665781\n",
            "User 0261, CV score: 0.9897719808576523\n",
            "User 0263, CV score: 0.9927955543044217\n",
            "User 0264, CV score: 0.9966010864012178\n",
            "User 0269, CV score: 0.987175878139564\n",
            "User 0270, CV score: 0.9894070668209732\n",
            "User 0273, CV score: 0.994390749950476\n",
            "User 0287, CV score: 0.9901681732403323\n",
            "User 0294, CV score: 0.9957461449438553\n",
            "User 0298, CV score: 0.9912629153503696\n",
            "User 0301, CV score: 0.9972162272059054\n",
            "User 0308, CV score: 0.9957044404825206\n",
            "User 0315, CV score: 0.9975498628965833\n",
            "User 0318, CV score: 0.9958921105585269\n",
            "User 0327, CV score: 0.9966427908625525\n",
            "User 0332, CV score: 0.9968096087078915\n",
            "User 0333, CV score: 0.9962674507105397\n",
            "User 0339, CV score: 0.9971223921679022\n",
            "User 0340, CV score: 0.9967053475545545\n",
            "User 0342, CV score: 0.99225339630707\n",
            "User 0344, CV score: 0.9966532169778862\n",
            "User 0351, CV score: 0.99245149249841\n",
            "User 0356, CV score: 0.9976019934732517\n",
            "User 0361, CV score: 0.9965802341705504\n",
            "User 0363, CV score: 0.9964863991325471\n",
            "User 0411, CV score: 0.9912316370043684\n",
            "User 0417, CV score: 0.9967261997852219\n",
            "User 0425, CV score: 0.9942135059898032\n",
            "User 0430, CV score: 0.9962674507105399\n",
            "User 0435, CV score: 0.9970389832452327\n",
            "User 0436, CV score: 0.9951727086005026\n",
            "User 0440, CV score: 0.9970389832452327\n",
            "User 0444, CV score: 0.9978105157799256\n",
            "User 0475, CV score: 0.9892819534369689\n",
            "User 0476, CV score: 0.9969868526685642\n",
            "User 0486, CV score: 0.9954125092531774\n",
            "User 0515, CV score: 0.9942135059898032\n",
            "User 0533, CV score: 0.9937964613764558\n",
            "User 0561, CV score: 0.9844859403834724\n",
            "User 0563, CV score: 0.9968304609385589\n",
            "User 0564, CV score: 0.9956835882518532\n",
            "User 0568, CV score: 0.9917425166557193\n",
            "User 0569, CV score: 0.9893132317829699\n",
            "User 0570, CV score: 0.9982901170852752\n",
            "User 0573, CV score: 0.9907728879296863\n",
            "User 0575, CV score: 0.9900639120869954\n",
            "User 0576, CV score: 0.9941718015284685\n",
            "User 0580, CV score: 0.9867171290648816\n",
            "User 0583, CV score: 0.9808159477860143\n",
            "User 0584, CV score: 0.9811808618226935\n",
            "User 0600, CV score: 0.9914922898877108\n",
            "User 0603, CV score: 0.9957044404825206\n",
            "User 0605, CV score: 0.9975290106659159\n",
            "User 0640, CV score: 0.9972579316672402\n",
            "User 0647, CV score: 0.9976436979345866\n",
            "User 0653, CV score: 0.9973934711665781\n",
            "User 0664, CV score: 0.9952144130618373\n",
            "User 0665, CV score: 0.9969138698612284\n",
            "User 0677, CV score: 0.9966323647472187\n",
            "User 0692, CV score: 0.9969347220918957\n",
            "User 0697, CV score: 0.9959859455965301\n",
            "User 0705, CV score: 0.9964342685558788\n",
            "User 0722, CV score: 0.9947035334104865\n",
            "User 0740, CV score: 0.996694921439221\n",
            "User 0741, CV score: 0.9968513131692264\n",
            "User 0756, CV score: 0.9955793270985164\n",
            "User 0780, CV score: 0.9965489558245494\n",
            "User 0784, CV score: 0.9966532169778862\n",
            "User 0785, CV score: 0.9969555743225631\n",
            "User 0797, CV score: 0.995756571059189\n",
            "User 0812, CV score: 0.9949120557171603\n",
            "User 0844, CV score: 0.9970285571298989\n",
            "User 0859, CV score: 0.9981337253552699\n",
            "User 0868, CV score: 0.9965489558245494\n",
            "User 0875, CV score: 0.9957148665978544\n",
            "User 0932, CV score: 0.9905018089310104\n",
            "User 0996, CV score: 0.9933168600711061\n",
            "User 1014, CV score: 0.9971328182832359\n",
            "User 1040, CV score: 0.9970389832452327\n",
            "User 1054, CV score: 0.9964759730172136\n",
            "User 1248, CV score: 0.9977375329725898\n",
            "User 1267, CV score: 0.9973309144745759\n",
            "User 1299, CV score: 0.996924295976562\n",
            "User 1371, CV score: 0.9934106951091093\n",
            "User 1797, CV score: 0.994891203486493\n",
            "User 1798, CV score: 0.99666364309322\n",
            "User 1993, CV score: 0.9967991825925578\n",
            "User 2118, CV score: 0.9978522202412603\n",
            "User 2174, CV score: 0.995860832212526\n",
            "User 2191, CV score: 0.9952456914078384\n",
            "User 2250, CV score: 0.9973413405899096\n",
            "User 2355, CV score: 0.995860832212526\n",
            "User 2408, CV score: 0.9937443307997874\n",
            "User 2493, CV score: 0.9966010864012178\n",
            "User 2625, CV score: 0.9961423373265355\n",
            "User 2902, CV score: 0.9971223921679022\n"
          ],
          "name": "stdout"
        }
      ]
    },
    {
      "cell_type": "markdown",
      "metadata": {
        "id": "rTxo9P5Wvv-W",
        "colab_type": "text"
      },
      "source": [
        "**Результаты кажутся впечатляющими, но возможно, мы забываем про дисбаланс классов, и высокую долю правильных ответов можно получить константным прогнозом. Посчитайте для каждого пользователя разницу между долей правильных ответов на кросс-валидации (только что посчитанную с помощью `LogisticRegressionCV`) и долей меток в *y_train_150*, отличных от ID \n",
        " этого пользователя (именно такую долю правильных ответов можно получить, если классификатор всегда \"говорит\", что это не пользователь с номером $i$ в задаче классификации $i$-vs-All).**"
      ]
    },
    {
      "cell_type": "code",
      "metadata": {
        "id": "oqZOfNCDvv-X",
        "colab_type": "code",
        "colab": {}
      },
      "source": [
        "class_distr = np.bincount(y_train_150.astype('int'))\n",
        "acc_diff_vs_constant = []\n",
        "\n",
        "for user_id in np.unique(y_train_150):\n",
        "    acc_diff_vs_constant.append(cv_scores_by_user[user_id] - (1 - class_distr[int(user_id)] / len(y_train_150)))"
      ],
      "execution_count": 34,
      "outputs": []
    },
    {
      "cell_type": "code",
      "metadata": {
        "id": "6zragRJSvv-a",
        "colab_type": "code",
        "colab": {}
      },
      "source": [
        "# num_better_than_default = (np.array(list(acc_diff_vs_constant.values())) > 0).sum()\n",
        "num_better_than_default = (np.array(acc_diff_vs_constant) > 0).sum()"
      ],
      "execution_count": 39,
      "outputs": []
    },
    {
      "cell_type": "markdown",
      "metadata": {
        "id": "yG64_xrdvv-d",
        "colab_type": "text"
      },
      "source": [
        "**<font color='red'>Вопрос 7. </font> Посчитайте долю пользователей, для которых логистическая регрессия на кросс-валидации дает прогноз лучше константного. Округлите до 3 знаков после запятой.**"
      ]
    },
    {
      "cell_type": "code",
      "metadata": {
        "id": "jL3vsqhavv-d",
        "colab_type": "code",
        "colab": {}
      },
      "source": [
        "write_answer_to_file('{}'.format(round(num_better_than_default / 150, 3)), \n",
        "                     'answer4_7.txt')"
      ],
      "execution_count": 48,
      "outputs": []
    },
    {
      "cell_type": "code",
      "metadata": {
        "id": "HmvpObDHeBj7",
        "colab_type": "code",
        "colab": {
          "base_uri": "https://localhost:8080/",
          "height": 34
        },
        "outputId": "9361a53b-d500-4273-ae50-013451fe2c9b"
      },
      "source": [
        "!cat answer4_7.txt"
      ],
      "execution_count": 49,
      "outputs": [
        {
          "output_type": "stream",
          "text": [
            "0.847"
          ],
          "name": "stdout"
        }
      ]
    },
    {
      "cell_type": "markdown",
      "metadata": {
        "id": "vD1zEq87vv-g",
        "colab_type": "text"
      },
      "source": [
        "**Дальше будем строить кривые обучения для конкретного пользователя, допустим, для 128-го. Составьте новый бинарный вектор на основе *y_150users*, его значения будут 1 или 0 в зависимости от того, равен ли ID-шник пользователя 128.**"
      ]
    },
    {
      "cell_type": "code",
      "metadata": {
        "id": "ZWoNMh5Svv-h",
        "colab_type": "code",
        "colab": {}
      },
      "source": [
        "y_binary_128 = [1 if i == 128 else 0 for i in y_train_150.astype('int')]"
      ],
      "execution_count": 53,
      "outputs": []
    },
    {
      "cell_type": "code",
      "metadata": {
        "id": "G7QRmIhgvv-j",
        "colab_type": "code",
        "colab": {}
      },
      "source": [
        "from sklearn.model_selection import learning_curve\n",
        "\n",
        "def plot_learning_curve(val_train, val_test, train_sizes, \n",
        "                        xlabel='Training Set Size', ylabel='score'):\n",
        "    def plot_with_err(x, data, **kwargs):\n",
        "        mu, std = data.mean(1), data.std(1)\n",
        "        lines = plt.plot(x, mu, '-', **kwargs)\n",
        "        plt.fill_between(x, mu - std, mu + std, edgecolor='none',\n",
        "                         facecolor=lines[0].get_color(), alpha=0.2)\n",
        "    plot_with_err(train_sizes, val_train, label='train')\n",
        "    plot_with_err(train_sizes, val_test, label='valid')\n",
        "    plt.xlabel(xlabel); plt.ylabel(ylabel)\n",
        "    plt.legend(loc='lower right');"
      ],
      "execution_count": 54,
      "outputs": []
    },
    {
      "cell_type": "markdown",
      "metadata": {
        "id": "kAwOV_2Svv-m",
        "colab_type": "text"
      },
      "source": [
        "**Посчитайте доли правильных ответов на кросс-валидации в задаче классификации \"user128-vs-All\" в зависимости от размера выборки. Не помешает посмотреть встроенную документацию для *learning_curve*.**"
      ]
    },
    {
      "cell_type": "code",
      "metadata": {
        "id": "n1fFUhGGvv-n",
        "colab_type": "code",
        "colab": {
          "base_uri": "https://localhost:8080/",
          "height": 51
        },
        "outputId": "d931c38f-6350-4ec6-a0d4-4c26cf81795c"
      },
      "source": [
        "%%time\n",
        "train_sizes = np.linspace(0.25, 1, 20)\n",
        "estimator = svm_grid_searcher2.best_estimator_\n",
        "n_train, val_train, val_test = learning_curve(estimator, X_train_150, y_binary_128, train_sizes=train_sizes, cv=skf, scoring='accuracy', n_jobs=-1, random_state=17)"
      ],
      "execution_count": 68,
      "outputs": [
        {
          "output_type": "stream",
          "text": [
            "CPU times: user 18.3 s, sys: 111 ms, total: 18.4 s\n",
            "Wall time: 28.5 s\n"
          ],
          "name": "stdout"
        }
      ]
    },
    {
      "cell_type": "code",
      "metadata": {
        "id": "QWAnhgCxvv-p",
        "colab_type": "code",
        "colab": {
          "base_uri": "https://localhost:8080/",
          "height": 283
        },
        "outputId": "d859c5a7-53e2-491b-c53d-f1c7eb664faf"
      },
      "source": [
        "plot_learning_curve(val_train, val_test, n_train, \n",
        "                    xlabel='train_size', ylabel='accuracy')"
      ],
      "execution_count": 69,
      "outputs": [
        {
          "output_type": "display_data",
          "data": {
            "image/png": "[encoded data removed]",
            "text/plain": [
              "<Figure size 432x288 with 1 Axes>"
            ]
          },
          "metadata": {
            "tags": [],
            "needs_background": "light"
          }
        }
      ]
    },
    {
      "cell_type": "markdown",
      "metadata": {
        "id": "DoK_-9P8vv-q",
        "colab_type": "text"
      },
      "source": [
        "**Сделайте выводы о том, помогут ли алгоритму новые размеченные данные при той же постановке задачи.**"
      ]
    },
    {
      "cell_type": "markdown",
      "metadata": {
        "id": "gMxKrrVvvv-r",
        "colab_type": "text"
      },
      "source": [
        "## Пути улучшения\n",
        "- конечно, можно проверить еще кучу алгоритмов, например, Xgboost, но в такой задаче очень маловероятно, что что-то справится лучше линейных методов\n",
        "- интересно проверить качество алгоритма на данных, где сессии выделялись не по количеству посещенных сайтов, а по времени, например, 5, 7, 10 и 15 минут. Отдельно стоит отметить данные нашего [соревнования](https://inclass.kaggle.com/c/catch-me-if-you-can-intruder-detection-through-webpage-session-tracking2) \n",
        "- опять же, если ресурсы позволяют, можно проверить, насколько хорошо можно решить задачу для 3000 пользователей\n",
        "\n",
        "\n",
        "На следующей неделе мы вспомним про линейные модели, обучаемые стохастическим градиентным спуском, и порадуемся тому, насколько быстрее они работают. Также сделаем первые (или не первые) посылки в [соревновании](https://inclass.kaggle.com/c/catch-me-if-you-can-intruder-detection-through-webpage-session-tracking2) Kaggle Inclass."
      ]
    }
  ]
}