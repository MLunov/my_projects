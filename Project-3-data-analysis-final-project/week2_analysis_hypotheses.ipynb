{
 "cells": [
  {
   "cell_type": "markdown",
   "metadata": {
    "colab_type": "text",
    "id": "2pnHXU--Rn94"
   },
   "source": [
    "<center>\n",
    "<img src=\"https://habrastorage.org/web/677/8e1/337/6778e1337c3d4b159d7e99df94227cb2.jpg\"/>\n",
    "## Специализация \"Машинное обучение и анализ данных\"\n",
    "<center>Автор материала: программист-исследователь Mail.Ru Group, старший преподаватель Факультета Компьютерных Наук ВШЭ [Юрий Кашницкий](https://yorko.github.io/)"
   ]
  },
  {
   "cell_type": "markdown",
   "metadata": {
    "colab_type": "text",
    "id": "h8jTt3B1Rn96"
   },
   "source": [
    "# <center> Capstone проект №1 <br>Идентификация пользователей по посещенным веб-страницам\n",
    "<img src='http://i.istockimg.com/file_thumbview_approve/21546327/5/stock-illustration-21546327-identification-de-l-utilisateur.jpg'>\n",
    "\n",
    "# <center>Неделя 2. Подготовка и первичный анализ данных\n",
    "\n",
    "На второй неделе мы продолжим подготавливать данные для дальнейшего анализа и построения прогнозных моделей. Конкретно, раньше мы определили что сессия – это последовательность из 10 посещенных пользователем сайтов, теперь сделаем длину сессии параметром, и потом при обучении прогнозных моделей выберем лучшую длину сессии.\n",
    "Также мы познакомимся с предобработанными данными и статистически проверим первые гипотезы, связанные с нашими наблюдениями. \n",
    "\n",
    "**План 2 недели:**\n",
    " - Часть 1. Подготовка нескольких обучающих выборок для сравнения\n",
    " - Часть 2. Первичный анализ данных, проверка гипотез\n",
    "\n",
    "**В этой части проекта Вам могут быть полезны  следующие видеозаписи лекций курса \"Построение выводов по данным\":**\n",
    "\n",
    "   - [Доверительные интервалы для доли](https://www.coursera.org/learn/stats-for-data-analysis/lecture/3oi53/dovieritiel-nyie-intiervaly-dlia-doli)\n",
    "   - [Биномиальный критерий для доли](https://www.coursera.org/learn/stats-for-data-analysis/lecture/JwmBw/binomial-nyi-kritierii-dlia-doli)\n",
    "   - [Доверительные интервалы на основе бутстрепа](https://www.coursera.org/learn/stats-for-data-analysis/lecture/GZjW7/dovieritiel-nyie-intiervaly-na-osnovie-butstriepa)\n",
    "   \n",
    "**Кроме того, в задании будут использоваться библиотеки Python [glob](https://docs.python.org/3/library/glob.html), [pickle](https://docs.python.org/2/library/pickle.html), [itertools](https://docs.python.org/3/library/itertools.html) и класс [csr_matrix](https://docs.scipy.org/doc/scipy-0.14.0/reference/generated/scipy.sparse.csr_matrix.html) из scipy.sparse.**"
   ]
  },
  {
   "cell_type": "markdown",
   "metadata": {
    "colab_type": "text",
    "id": "xPDot8nrRn97"
   },
   "source": [
    "### Задание\n",
    "1. Заполните код в этой тетрадке \n",
    "2. Если вы проходите специализацию Яндеса и МФТИ, пошлите файл с ответами в соответствующем Programming Assignment. <br> Если вы проходите курс ODS, выберите ответы в [веб-форме](https://docs.google.com/forms/d/13ZnT7w7foHD0uw0ynTtj7atdiCGvlltF8ThhbJCvLsc).  \n"
   ]
  },
  {
   "cell_type": "markdown",
   "metadata": {
    "colab_type": "text",
    "id": "TjdsigCERn99"
   },
   "source": [
    "## Часть 1. Подготовка нескольких обучающих выборок для сравнения\n",
    "\n",
    "Пока мы брали последовательности из 10 сайтов, и это было наобум. Давайте сделаем число сайтов в сессии параметром, чтоб в дальнейшем сравнить модели классификации, обученные на разных выборках – с 5, 7, 10 и 15 сайтами в сессии. Более того, пока мы брали по 10 сайтов подряд, без пересечения. Теперь давайте применим идею скользящего окна – сессии будут перекрываться. \n",
    "\n",
    "**Пример**: для длины сессии 10 и ширины окна 7 файл из 30 записей породит не 3 сессии, как раньше (1-10, 11-20, 21-30), а 5 (1-10, 8-17, 15-24, 22-30, 29-30). При этом в предпоследней сессии будет один ноль, а в последней – 8 нолей.\n",
    "\n",
    "Создадим несколько выборок для разных сочетаний параметров длины сессии и ширины окна. Все они представлены в табличке ниже:\n",
    "\n",
    "<style type=\"text/css\">\n",
    ".tg  {border-collapse:collapse;border-spacing:0;}\n",
    ".tg td{font-family:Arial, sans-serif;font-size:14px;padding:10px 5px;border-style:solid;border-width:1px;overflow:hidden;word-break:normal;}\n",
    ".tg th{font-family:Arial, sans-serif;font-size:14px;font-weight:normal;padding:10px 5px;border-style:solid;border-width:1px;overflow:hidden;word-break:normal;}\n",
    "</style>\n",
    "<table class=\"tg\">\n",
    "  <tr>\n",
    "    <th class=\"tg-031e\">session_length -&gt;<br>window_size <br></th>\n",
    "    <th class=\"tg-031e\">5</th>\n",
    "    <th class=\"tg-031e\">7</th>\n",
    "    <th class=\"tg-031e\">10</th>\n",
    "    <th class=\"tg-031e\">15</th>\n",
    "  </tr>\n",
    "  <tr>\n",
    "    <td class=\"tg-031e\">5</td>\n",
    "    <td class=\"tg-031e\">v</td>\n",
    "    <td class=\"tg-031e\">v</td>\n",
    "    <td class=\"tg-031e\">v</td>\n",
    "    <td class=\"tg-031e\">v</td>\n",
    "  </tr>\n",
    "  <tr>\n",
    "    <td class=\"tg-031e\">7</td>\n",
    "    <td class=\"tg-031e\"></td>\n",
    "    <td class=\"tg-031e\">v</td>\n",
    "    <td class=\"tg-031e\">v</td>\n",
    "    <td class=\"tg-031e\">v</td>\n",
    "  </tr>\n",
    "  <tr>\n",
    "    <td class=\"tg-031e\">10</td>\n",
    "    <td class=\"tg-031e\"></td>\n",
    "    <td class=\"tg-031e\"></td>\n",
    "    <td class=\"tg-031e\"><font color='green'>v</font></td>\n",
    "    <td class=\"tg-031e\">v</td>\n",
    "  </tr>\n",
    "</table>\n",
    "\n",
    "Итого должно получиться 18 разреженных матриц – указанные в таблице 9 сочетаний параметров формирования сессий для выборок из 10 и 150 пользователей. При этом 2 выборки мы уже сделали в прошлой части, они соответствуют сочетанию параметров: session_length=10, window_size=10, которые помечены в таблице выше галочкой зеленого цвета (done)."
   ]
  },
  {
   "cell_type": "markdown",
   "metadata": {
    "colab_type": "text",
    "id": "ayVppnTIRn99"
   },
   "source": [
    "Реализуйте функцию *prepare_sparse_train_set_window*.\n",
    "\n",
    "Аргументы:\n",
    "- *path_to_csv_files* – путь к каталогу с csv-файлами\n",
    "- *site_freq_path* – путь к pickle-файлу с частотным словарем, полученным в 1 части проекта\n",
    "- *session_length* – длина сессии (параметр)\n",
    "- *window_size* – ширина окна (параметр) \n",
    "\n",
    "Функция должна возвращать 2 объекта:\n",
    "- разреженную матрицу *X_sparse* (двухмерная Scipy.sparse.csr_matrix), в которой строки соответствуют сессиям из *session_length* сайтов, а *max(site_id)* столбцов – количеству посещений *site_id* в сессии. \n",
    "- вектор *y* (Numpy array) \"ответов\" в виде ID пользователей, которым принадлежат сессии из *X_sparse*\n",
    "\n",
    "Детали:\n",
    "- Модифицируйте созданную в 1 части функцию *prepare_train_set*\n",
    "- Некоторые сессии могут повторяться – оставьте как есть, не удаляйте дубликаты\n",
    "- Замеряйте время выполнения итераций цикла с помощью *time* из *time*, *tqdm* из *tqdm* или с помощью виджета [log_progress](https://github.com/alexanderkuk/log-progress) ([статья](https://habrahabr.ru/post/276725/) о нем на Хабрахабре)\n",
    "- 150 файлов из *capstone_websites_data/150users/* должны обрабатываться за несколько секунд (в зависимости от входных параметров). Если дольше – не страшно, но знайте, что функцию можно ускорить. "
   ]
  },
  {
   "cell_type": "code",
   "execution_count": null,
   "metadata": {
    "colab": {},
    "colab_type": "code",
    "id": "rV2UpnJXRn9-"
   },
   "outputs": [],
   "source": [
    "from __future__ import division, print_function\n",
    "# отключим всякие предупреждения Anaconda\n",
    "import warnings\n",
    "warnings.filterwarnings('ignore')\n",
    "from glob import glob\n",
    "import os\n",
    "import pickle\n",
    "from tqdm import tqdm_notebook\n",
    "import numpy as np\n",
    "import pandas as pd\n",
    "from scipy.sparse import csr_matrix\n",
    "from scipy import stats\n",
    "from statsmodels.stats.proportion import proportion_confint\n",
    "%matplotlib inline\n",
    "from matplotlib import pyplot as plt"
   ]
  },
  {
   "cell_type": "code",
   "execution_count": null,
   "metadata": {
    "colab": {},
    "colab_type": "code",
    "id": "KvG4vd-yRn-D"
   },
   "outputs": [],
   "source": [
    "# Поменяйте на свой путь к данным\n",
    "PATH_TO_DATA = '/content/' "
   ]
  },
  {
   "cell_type": "code",
   "execution_count": null,
   "metadata": {
    "colab": {},
    "colab_type": "code",
    "id": "LQHFTp5M5RsG"
   },
   "outputs": [],
   "source": [
    "def make_csr_matrix(X):\n",
    "\n",
    "  data = np.ones(X.size, dtype=int)\n",
    "  indices = X.reshape(-1)\n",
    "  indptr = np.arange(X.shape[0] + 1) * X.shape[1]\n",
    "\n",
    "  return csr_matrix((data, indices, indptr), dtype=int)[:, 1:] "
   ]
  },
  {
   "cell_type": "code",
   "execution_count": null,
   "metadata": {
    "colab": {},
    "colab_type": "code",
    "id": "mRrf-iHORn-I"
   },
   "outputs": [],
   "source": [
    "def prepare_sparse_train_set_window(path_to_csv_files, site_freq_path, \n",
    "                                    session_length=10, window_size=10):\n",
    "    ''' ВАШ КОД ЗДЕСЬ'''\n",
    "\n",
    "    files = sorted(glob(path_to_csv_files))\n",
    "    freq_dict = pd.read_pickle(site_freq_path)\n",
    "\n",
    "    df = pd.concat([pd.read_csv(f).site for f in files], \n",
    "                  keys=[int(f.split('/')[-1][-8:-4]) for f in files],\n",
    "                  names=['user_id'],\n",
    "                  )\n",
    "\n",
    "    df = df.map(freq_dict).apply(lambda x: x[0])\n",
    "    \n",
    "    data = []\n",
    "    y = []\n",
    "\n",
    "    for user_id in df.index.get_level_values(0).unique():\n",
    "      user_df = df.loc[user_id].values\n",
    "\n",
    "      for i in range(0, len(user_df), window_size):\n",
    "        session = user_df[i:i+session_length]\n",
    "        resid = session_length - len(session)\n",
    "\n",
    "        if  resid > 0:\n",
    "          session = np.append(session, np.zeros(resid, dtype=int))\n",
    "          \n",
    "        data.append(session)\n",
    "        y.append(user_id)\n",
    "\n",
    "    return make_csr_matrix(np.array(data)), np.array(y)"
   ]
  },
  {
   "cell_type": "markdown",
   "metadata": {
    "colab_type": "text",
    "id": "vx3XxJivRn-M"
   },
   "source": [
    "**Примените полученную функцию с параметрами *session_length=5* и *window_size=3* к игрушечному примеру. Убедитесь, что все работает как надо.**"
   ]
  },
  {
   "cell_type": "code",
   "execution_count": null,
   "metadata": {
    "colab": {},
    "colab_type": "code",
    "id": "wLyrNz4tRn-N"
   },
   "outputs": [],
   "source": [
    "X_toy_s5_w3, y_s5_w3 = prepare_sparse_train_set_window(os.path.join(PATH_TO_DATA,'3users/*'), \n",
    "                                                       os.path.join(PATH_TO_DATA,'site_freq_3users.pkl'),\n",
    "                                       session_length=5, window_size=3)"
   ]
  },
  {
   "cell_type": "markdown",
   "metadata": {
    "colab_type": "text",
    "id": "mxpLyLtJ6p27"
   },
   "source": [
    "Полученный исход:"
   ]
  },
  {
   "cell_type": "code",
   "execution_count": null,
   "metadata": {
    "colab": {
     "base_uri": "https://localhost:8080/",
     "height": 221
    },
    "colab_type": "code",
    "id": "bjWP5AxP6mbe",
    "outputId": "48741619-3412-4a90-ccd8-5e75fd9fb7c4"
   },
   "outputs": [
    {
     "data": {
      "text/plain": [
       "matrix([[0, 3, 1, 0, 0, 0, 1, 0, 0, 0, 0],\n",
       "        [1, 1, 0, 0, 0, 1, 1, 0, 1, 0, 0],\n",
       "        [0, 0, 1, 0, 0, 1, 0, 1, 1, 1, 0],\n",
       "        [3, 0, 1, 0, 0, 0, 0, 1, 0, 0, 0],\n",
       "        [2, 0, 0, 0, 0, 0, 0, 0, 0, 0, 0],\n",
       "        [0, 2, 1, 0, 2, 0, 0, 0, 0, 0, 0],\n",
       "        [0, 1, 0, 0, 1, 0, 0, 0, 0, 0, 0],\n",
       "        [2, 2, 0, 1, 0, 0, 0, 0, 0, 0, 0],\n",
       "        [3, 1, 0, 0, 0, 1, 0, 0, 0, 0, 0],\n",
       "        [1, 0, 0, 2, 0, 1, 0, 0, 0, 0, 1],\n",
       "        [1, 1, 0, 2, 0, 0, 0, 0, 0, 0, 0],\n",
       "        [0, 1, 0, 0, 0, 0, 0, 0, 0, 0, 0]])"
      ]
     },
     "execution_count": 6,
     "metadata": {
      "tags": []
     },
     "output_type": "execute_result"
    }
   ],
   "source": [
    "X_toy_s5_w3.todense()"
   ]
  },
  {
   "cell_type": "markdown",
   "metadata": {
    "colab_type": "text",
    "id": "0MmU8bvG6qzR"
   },
   "source": [
    "Пример:"
   ]
  },
  {
   "cell_type": "code",
   "execution_count": null,
   "metadata": {
    "colab": {},
    "colab_type": "code",
    "id": "vUdy5AqeRn-S",
    "outputId": "8c43f736-e069-4661-ed27-277b9bb45cf2"
   },
   "outputs": [
    {
     "data": {
      "text/plain": [
       "matrix([[0, 3, 1, 0, 0, 0, 1, 0, 0, 0, 0],\n",
       "        [1, 1, 0, 0, 1, 0, 1, 1, 0, 0, 0],\n",
       "        [0, 0, 1, 0, 1, 0, 0, 1, 1, 1, 0],\n",
       "        [3, 0, 1, 0, 0, 0, 0, 0, 0, 1, 0],\n",
       "        [2, 0, 0, 0, 0, 0, 0, 0, 0, 0, 0],\n",
       "        [0, 2, 1, 0, 0, 2, 0, 0, 0, 0, 0],\n",
       "        [0, 1, 0, 0, 0, 1, 0, 0, 0, 0, 0],\n",
       "        [2, 2, 0, 1, 0, 0, 0, 0, 0, 0, 0],\n",
       "        [3, 1, 0, 0, 1, 0, 0, 0, 0, 0, 0],\n",
       "        [1, 0, 0, 2, 1, 0, 0, 0, 0, 0, 1],\n",
       "        [1, 1, 0, 2, 0, 0, 0, 0, 0, 0, 0],\n",
       "        [0, 1, 0, 0, 0, 0, 0, 0, 0, 0, 0]])"
      ]
     },
     "execution_count": 8,
     "metadata": {
      "tags": []
     },
     "output_type": "execute_result"
    }
   ],
   "source": [
    "X_toy_s5_w3.todense()"
   ]
  },
  {
   "cell_type": "markdown",
   "metadata": {
    "colab_type": "text",
    "id": "-Hk3JC2D6y9Y"
   },
   "source": [
    "Полученный исход:"
   ]
  },
  {
   "cell_type": "code",
   "execution_count": null,
   "metadata": {
    "colab": {
     "base_uri": "https://localhost:8080/",
     "height": 34
    },
    "colab_type": "code",
    "id": "cV06NpfG62gr",
    "outputId": "05c7b5ec-0f55-48d4-af33-7624e4913c90"
   },
   "outputs": [
    {
     "data": {
      "text/plain": [
       "array([1, 1, 1, 1, 1, 2, 2, 3, 3, 3, 3, 3])"
      ]
     },
     "execution_count": 7,
     "metadata": {
      "tags": []
     },
     "output_type": "execute_result"
    }
   ],
   "source": [
    "y_s5_w3"
   ]
  },
  {
   "cell_type": "markdown",
   "metadata": {
    "colab_type": "text",
    "id": "W32vU706617d"
   },
   "source": [
    "Пример:"
   ]
  },
  {
   "cell_type": "code",
   "execution_count": null,
   "metadata": {
    "colab": {},
    "colab_type": "code",
    "id": "G_FZYFzbRn-W",
    "outputId": "9a560fc3-8bd0-4458-c62d-dbc27f957e90"
   },
   "outputs": [
    {
     "data": {
      "text/plain": [
       "array([1, 1, 1, 1, 1, 2, 2, 3, 3, 3, 3, 3])"
      ]
     },
     "execution_count": 9,
     "metadata": {
      "tags": []
     },
     "output_type": "execute_result"
    }
   ],
   "source": [
    "y_s5_w3"
   ]
  },
  {
   "cell_type": "markdown",
   "metadata": {
    "colab_type": "text",
    "id": "tRuQXzarRn-b"
   },
   "source": [
    "**Запустите созданную функцию 16 раз с помощью циклов по числу пользователей num_users (10 или 150), значениям параметра *session_length* (15, 10, 7 или 5) и значениям параметра *window_size* (10, 7 или 5). Сериализуйте все 16 разреженных матриц (обучающие выборки) и векторов (метки целевого класса – ID пользователя) в файлы `X_sparse_{num_users}users_s{session_length}_w{window_size}.pkl` и `y_{num_users}users_s{session_length}_w{window_size}.pkl`.**\n",
    "\n",
    "**Чтоб убедиться, что мы все далее будем работать с идентичными объектами, запишите в список *data_lengths* число строк во всех полученных рареженных матрицах (16 значений). Если какие-то будут совпадать, это нормально (можно сообразить, почему).**\n",
    "\n",
    "**На моем ноутбуке этот участок кода отработал за 26 секунд, хотя понятно, что все зависит от эффективности реализации функции *prepare_sparse_train_set_window* и мощности используемого железа. И честно говоря, моя первая реализация была намного менее эффективной (34 минуты), так что тут у Вас есть возможность оптимизировать свой код.**"
   ]
  },
  {
   "cell_type": "code",
   "execution_count": null,
   "metadata": {
    "colab": {
     "base_uri": "https://localhost:8080/",
     "height": 51
    },
    "colab_type": "code",
    "id": "j2a2hsrjRn-c",
    "outputId": "6dc6b0c0-789f-4941-8c20-823e3743c4a5"
   },
   "outputs": [
    {
     "name": "stdout",
     "output_type": "stream",
     "text": [
      "CPU times: user 25.8 s, sys: 1.57 s, total: 27.3 s\n",
      "Wall time: 27.4 s\n"
     ]
    }
   ],
   "source": [
    "%%time\n",
    "import itertools\n",
    "\n",
    "data_lengths = []\n",
    "\n",
    "for num_users in [10, 150]:\n",
    "    for window_size, session_length in itertools.product([10, 7, 5], [15, 10, 7, 5]):\n",
    "        if window_size <= session_length and (window_size, session_length) != (10, 10):\n",
    "            X_sparse, y = prepare_sparse_train_set_window(os.path.join(PATH_TO_DATA,'{}users/*'.format(num_users)), \n",
    "                                                       os.path.join(PATH_TO_DATA,'site_freq_{}users.pkl'.format(num_users)),\n",
    "                                       session_length=session_length, window_size=window_size)\n",
    "            \n",
    "            with open(os.path.join(PATH_TO_DATA,\n",
    "                                   'X_sparse_{}users_s{}_w{}.pkl'.format(num_users, session_length, window_size)), 'wb') as X_pkl:\n",
    "              pickle.dump(X_sparse, X_pkl, protocol=2)\n",
    "\n",
    "            with open(os.path.join(PATH_TO_DATA,\n",
    "                                   'y_{}users_s{}_w{}.pkl'.format(num_users, session_length, window_size)), 'wb') as y_pkl:\n",
    "              pickle.dump(y, y_pkl, protocol=2)\n",
    "              \n",
    "            data_lengths.append(X_sparse.shape[0])"
   ]
  },
  {
   "cell_type": "markdown",
   "metadata": {
    "colab_type": "text",
    "id": "_z0LWAoFRn-h"
   },
   "source": [
    "**<font color='red'> Вопрос 1. </font>Сколько всего уникальных значений в списке `data_lengths`?**"
   ]
  },
  {
   "cell_type": "code",
   "execution_count": null,
   "metadata": {
    "colab": {
     "base_uri": "https://localhost:8080/",
     "height": 34
    },
    "colab_type": "code",
    "id": "XlkCvxkdRn-h",
    "outputId": "09c377e6-17d8-44e6-b954-81a2c1499cc9"
   },
   "outputs": [
    {
     "data": {
      "text/plain": [
       "6"
      ]
     },
     "execution_count": 9,
     "metadata": {
      "tags": []
     },
     "output_type": "execute_result"
    }
   ],
   "source": [
    "len(set(data_lengths))"
   ]
  },
  {
   "cell_type": "code",
   "execution_count": null,
   "metadata": {
    "colab": {},
    "colab_type": "code",
    "id": "wlP-fhF5cpT1"
   },
   "outputs": [],
   "source": [
    "def write_answer_to_file(answer, file_address):\n",
    "    with open(file_address, 'w') as out_f:\n",
    "        out_f.write(str(answer))"
   ]
  },
  {
   "cell_type": "code",
   "execution_count": null,
   "metadata": {
    "colab": {},
    "colab_type": "code",
    "id": "3W4oqdeHcr0J"
   },
   "outputs": [],
   "source": [
    "write_answer_to_file(\" \".join(map(str, data_lengths)), \n",
    "                     'answer2_1.txt')"
   ]
  },
  {
   "cell_type": "markdown",
   "metadata": {
    "colab_type": "text",
    "id": "GPDP2jpxRn-l"
   },
   "source": [
    "## Часть 2. Первичный анализ данных, проверка гипотез"
   ]
  },
  {
   "cell_type": "markdown",
   "metadata": {
    "colab_type": "text",
    "id": "8voedTQCRn-m"
   },
   "source": [
    "**Считаем в DataFrame подготовленный на 1 неделе файл `train_data_10users.csv`. Далее будем работать с ним.**"
   ]
  },
  {
   "cell_type": "code",
   "execution_count": null,
   "metadata": {
    "colab": {},
    "colab_type": "code",
    "id": "yECjvV5bRn-n"
   },
   "outputs": [],
   "source": [
    "train_df = pd.read_csv(os.path.join(PATH_TO_DATA, 'train_data_10users.csv'), \n",
    "                       index_col='session_id')"
   ]
  },
  {
   "cell_type": "code",
   "execution_count": null,
   "metadata": {
    "colab": {
     "base_uri": "https://localhost:8080/",
     "height": 235
    },
    "colab_type": "code",
    "id": "GU5COUky82kA",
    "outputId": "ad031d49-13b7-4a1a-9743-4003ecb9223b"
   },
   "outputs": [
    {
     "data": {
      "text/html": [
       "<div>\n",
       "<style scoped>\n",
       "    .dataframe tbody tr th:only-of-type {\n",
       "        vertical-align: middle;\n",
       "    }\n",
       "\n",
       "    .dataframe tbody tr th {\n",
       "        vertical-align: top;\n",
       "    }\n",
       "\n",
       "    .dataframe thead th {\n",
       "        text-align: right;\n",
       "    }\n",
       "</style>\n",
       "<table border=\"1\" class=\"dataframe\">\n",
       "  <thead>\n",
       "    <tr style=\"text-align: right;\">\n",
       "      <th></th>\n",
       "      <th>site1</th>\n",
       "      <th>site2</th>\n",
       "      <th>site3</th>\n",
       "      <th>site4</th>\n",
       "      <th>site5</th>\n",
       "      <th>site6</th>\n",
       "      <th>site7</th>\n",
       "      <th>site8</th>\n",
       "      <th>site9</th>\n",
       "      <th>site10</th>\n",
       "      <th>user_id</th>\n",
       "    </tr>\n",
       "    <tr>\n",
       "      <th>session_id</th>\n",
       "      <th></th>\n",
       "      <th></th>\n",
       "      <th></th>\n",
       "      <th></th>\n",
       "      <th></th>\n",
       "      <th></th>\n",
       "      <th></th>\n",
       "      <th></th>\n",
       "      <th></th>\n",
       "      <th></th>\n",
       "      <th></th>\n",
       "    </tr>\n",
       "  </thead>\n",
       "  <tbody>\n",
       "    <tr>\n",
       "      <th>0</th>\n",
       "      <td>193</td>\n",
       "      <td>579</td>\n",
       "      <td>133</td>\n",
       "      <td>3</td>\n",
       "      <td>133</td>\n",
       "      <td>133</td>\n",
       "      <td>3</td>\n",
       "      <td>133</td>\n",
       "      <td>204</td>\n",
       "      <td>133</td>\n",
       "      <td>31</td>\n",
       "    </tr>\n",
       "    <tr>\n",
       "      <th>1</th>\n",
       "      <td>425</td>\n",
       "      <td>192</td>\n",
       "      <td>681</td>\n",
       "      <td>257</td>\n",
       "      <td>133</td>\n",
       "      <td>31</td>\n",
       "      <td>399</td>\n",
       "      <td>3917</td>\n",
       "      <td>220</td>\n",
       "      <td>55</td>\n",
       "      <td>31</td>\n",
       "    </tr>\n",
       "    <tr>\n",
       "      <th>2</th>\n",
       "      <td>55</td>\n",
       "      <td>3</td>\n",
       "      <td>55</td>\n",
       "      <td>55</td>\n",
       "      <td>5</td>\n",
       "      <td>294</td>\n",
       "      <td>425</td>\n",
       "      <td>335</td>\n",
       "      <td>900</td>\n",
       "      <td>55</td>\n",
       "      <td>31</td>\n",
       "    </tr>\n",
       "    <tr>\n",
       "      <th>3</th>\n",
       "      <td>484</td>\n",
       "      <td>3940</td>\n",
       "      <td>484</td>\n",
       "      <td>55</td>\n",
       "      <td>55</td>\n",
       "      <td>55</td>\n",
       "      <td>55</td>\n",
       "      <td>1001</td>\n",
       "      <td>202</td>\n",
       "      <td>123</td>\n",
       "      <td>31</td>\n",
       "    </tr>\n",
       "    <tr>\n",
       "      <th>4</th>\n",
       "      <td>344</td>\n",
       "      <td>55</td>\n",
       "      <td>5</td>\n",
       "      <td>4088</td>\n",
       "      <td>258</td>\n",
       "      <td>212</td>\n",
       "      <td>3928</td>\n",
       "      <td>2104</td>\n",
       "      <td>679</td>\n",
       "      <td>2104</td>\n",
       "      <td>31</td>\n",
       "    </tr>\n",
       "  </tbody>\n",
       "</table>\n",
       "</div>"
      ],
      "text/plain": [
       "            site1  site2  site3  site4  ...  site8  site9  site10  user_id\n",
       "session_id                              ...                               \n",
       "0             193    579    133      3  ...    133    204     133       31\n",
       "1             425    192    681    257  ...   3917    220      55       31\n",
       "2              55      3     55     55  ...    335    900      55       31\n",
       "3             484   3940    484     55  ...   1001    202     123       31\n",
       "4             344     55      5   4088  ...   2104    679    2104       31\n",
       "\n",
       "[5 rows x 11 columns]"
      ]
     },
     "execution_count": 13,
     "metadata": {
      "tags": []
     },
     "output_type": "execute_result"
    }
   ],
   "source": [
    "train_df.head()"
   ]
  },
  {
   "cell_type": "markdown",
   "metadata": {
    "colab_type": "text",
    "id": "0XmaMg8187QO"
   },
   "source": [
    "Пример:"
   ]
  },
  {
   "cell_type": "code",
   "execution_count": null,
   "metadata": {
    "colab": {},
    "colab_type": "code",
    "id": "nUbdi1IpRn-s",
    "outputId": "9aa9f5d6-4678-4077-8343-1c00d3b64d5e"
   },
   "outputs": [
    {
     "data": {
      "text/html": [
       "<div>\n",
       "<style>\n",
       "    .dataframe thead tr:only-child th {\n",
       "        text-align: right;\n",
       "    }\n",
       "\n",
       "    .dataframe thead th {\n",
       "        text-align: left;\n",
       "    }\n",
       "\n",
       "    .dataframe tbody tr th {\n",
       "        vertical-align: top;\n",
       "    }\n",
       "</style>\n",
       "<table border=\"1\" class=\"dataframe\">\n",
       "  <thead>\n",
       "    <tr style=\"text-align: right;\">\n",
       "      <th></th>\n",
       "      <th>site1</th>\n",
       "      <th>site2</th>\n",
       "      <th>site3</th>\n",
       "      <th>site4</th>\n",
       "      <th>site5</th>\n",
       "      <th>site6</th>\n",
       "      <th>site7</th>\n",
       "      <th>site8</th>\n",
       "      <th>site9</th>\n",
       "      <th>site10</th>\n",
       "      <th>user_id</th>\n",
       "    </tr>\n",
       "    <tr>\n",
       "      <th>session_id</th>\n",
       "      <th></th>\n",
       "      <th></th>\n",
       "      <th></th>\n",
       "      <th></th>\n",
       "      <th></th>\n",
       "      <th></th>\n",
       "      <th></th>\n",
       "      <th></th>\n",
       "      <th></th>\n",
       "      <th></th>\n",
       "      <th></th>\n",
       "    </tr>\n",
       "  </thead>\n",
       "  <tbody>\n",
       "    <tr>\n",
       "      <th>0</th>\n",
       "      <td>193</td>\n",
       "      <td>574</td>\n",
       "      <td>133</td>\n",
       "      <td>3</td>\n",
       "      <td>133</td>\n",
       "      <td>133</td>\n",
       "      <td>3</td>\n",
       "      <td>133</td>\n",
       "      <td>203</td>\n",
       "      <td>133</td>\n",
       "      <td>31</td>\n",
       "    </tr>\n",
       "    <tr>\n",
       "      <th>1</th>\n",
       "      <td>415</td>\n",
       "      <td>192</td>\n",
       "      <td>675</td>\n",
       "      <td>254</td>\n",
       "      <td>133</td>\n",
       "      <td>31</td>\n",
       "      <td>393</td>\n",
       "      <td>3634</td>\n",
       "      <td>217</td>\n",
       "      <td>55</td>\n",
       "      <td>31</td>\n",
       "    </tr>\n",
       "    <tr>\n",
       "      <th>2</th>\n",
       "      <td>55</td>\n",
       "      <td>3</td>\n",
       "      <td>55</td>\n",
       "      <td>55</td>\n",
       "      <td>5</td>\n",
       "      <td>293</td>\n",
       "      <td>415</td>\n",
       "      <td>333</td>\n",
       "      <td>900</td>\n",
       "      <td>55</td>\n",
       "      <td>31</td>\n",
       "    </tr>\n",
       "    <tr>\n",
       "      <th>3</th>\n",
       "      <td>473</td>\n",
       "      <td>3395</td>\n",
       "      <td>473</td>\n",
       "      <td>55</td>\n",
       "      <td>55</td>\n",
       "      <td>55</td>\n",
       "      <td>55</td>\n",
       "      <td>944</td>\n",
       "      <td>199</td>\n",
       "      <td>123</td>\n",
       "      <td>31</td>\n",
       "    </tr>\n",
       "    <tr>\n",
       "      <th>4</th>\n",
       "      <td>342</td>\n",
       "      <td>55</td>\n",
       "      <td>5</td>\n",
       "      <td>3458</td>\n",
       "      <td>258</td>\n",
       "      <td>211</td>\n",
       "      <td>3369</td>\n",
       "      <td>2096</td>\n",
       "      <td>674</td>\n",
       "      <td>2096</td>\n",
       "      <td>31</td>\n",
       "    </tr>\n",
       "  </tbody>\n",
       "</table>\n",
       "</div>"
      ],
      "text/plain": [
       "            site1  site2  site3  site4  site5  site6  site7  site8  site9  \\\n",
       "session_id                                                                  \n",
       "0             193    574    133      3    133    133      3    133    203   \n",
       "1             415    192    675    254    133     31    393   3634    217   \n",
       "2              55      3     55     55      5    293    415    333    900   \n",
       "3             473   3395    473     55     55     55     55    944    199   \n",
       "4             342     55      5   3458    258    211   3369   2096    674   \n",
       "\n",
       "            site10  user_id  \n",
       "session_id                   \n",
       "0              133       31  \n",
       "1               55       31  \n",
       "2               55       31  \n",
       "3              123       31  \n",
       "4             2096       31  "
      ]
     },
     "execution_count": 11,
     "metadata": {
      "tags": []
     },
     "output_type": "execute_result"
    }
   ],
   "source": [
    "train_df.head()"
   ]
  },
  {
   "cell_type": "code",
   "execution_count": null,
   "metadata": {
    "colab": {
     "base_uri": "https://localhost:8080/",
     "height": 323
    },
    "colab_type": "code",
    "id": "zEV7ZFbb9NRU",
    "outputId": "945dd6c1-d021-4768-c9af-5cddcf2b8fee"
   },
   "outputs": [
    {
     "name": "stdout",
     "output_type": "stream",
     "text": [
      "<class 'pandas.core.frame.DataFrame'>\n",
      "Int64Index: 14061 entries, 0 to 14060\n",
      "Data columns (total 11 columns):\n",
      " #   Column   Non-Null Count  Dtype\n",
      "---  ------   --------------  -----\n",
      " 0   site1    14061 non-null  int64\n",
      " 1   site2    14061 non-null  int64\n",
      " 2   site3    14061 non-null  int64\n",
      " 3   site4    14061 non-null  int64\n",
      " 4   site5    14061 non-null  int64\n",
      " 5   site6    14061 non-null  int64\n",
      " 6   site7    14061 non-null  int64\n",
      " 7   site8    14061 non-null  int64\n",
      " 8   site9    14061 non-null  int64\n",
      " 9   site10   14061 non-null  int64\n",
      " 10  user_id  14061 non-null  int64\n",
      "dtypes: int64(11)\n",
      "memory usage: 1.3 MB\n"
     ]
    }
   ],
   "source": [
    "train_df.info()"
   ]
  },
  {
   "cell_type": "markdown",
   "metadata": {
    "colab_type": "text",
    "id": "Tg-MeRvr9Oel"
   },
   "source": [
    "Пример:"
   ]
  },
  {
   "cell_type": "code",
   "execution_count": null,
   "metadata": {
    "colab": {},
    "colab_type": "code",
    "id": "9j3CSn2bRn-w",
    "outputId": "1f5a47c7-a008-451b-ccae-59fe4d7c9855"
   },
   "outputs": [
    {
     "name": "stdout",
     "output_type": "stream",
     "text": [
      "<class 'pandas.core.frame.DataFrame'>\n",
      "Int64Index: 14061 entries, 0 to 14060\n",
      "Data columns (total 11 columns):\n",
      "site1      14061 non-null int64\n",
      "site2      14061 non-null int64\n",
      "site3      14061 non-null int64\n",
      "site4      14061 non-null int64\n",
      "site5      14061 non-null int64\n",
      "site6      14061 non-null int64\n",
      "site7      14061 non-null int64\n",
      "site8      14061 non-null int64\n",
      "site9      14061 non-null int64\n",
      "site10     14061 non-null int64\n",
      "user_id    14061 non-null int64\n",
      "dtypes: int64(11)\n",
      "memory usage: 1.3 MB\n"
     ]
    }
   ],
   "source": [
    "train_df.info()"
   ]
  },
  {
   "cell_type": "markdown",
   "metadata": {
    "colab_type": "text",
    "id": "nKJxCygERn-1"
   },
   "source": [
    "**Распределение целевого класса:**"
   ]
  },
  {
   "cell_type": "code",
   "execution_count": null,
   "metadata": {
    "colab": {
     "base_uri": "https://localhost:8080/",
     "height": 204
    },
    "colab_type": "code",
    "id": "YNVYq1uk9clL",
    "outputId": "869be4fc-4502-41bf-8dde-0edecd426a43"
   },
   "outputs": [
    {
     "data": {
      "text/plain": [
       "128    2796\n",
       "39     2204\n",
       "207    1868\n",
       "127    1712\n",
       "237    1643\n",
       "33     1022\n",
       "50      802\n",
       "31      760\n",
       "100     720\n",
       "241     534\n",
       "Name: user_id, dtype: int64"
      ]
     },
     "execution_count": 15,
     "metadata": {
      "tags": []
     },
     "output_type": "execute_result"
    }
   ],
   "source": [
    "train_df['user_id'].value_counts()"
   ]
  },
  {
   "cell_type": "markdown",
   "metadata": {
    "colab_type": "text",
    "id": "W7HZ86hV9drl"
   },
   "source": [
    "Пример:"
   ]
  },
  {
   "cell_type": "code",
   "execution_count": null,
   "metadata": {
    "colab": {},
    "colab_type": "code",
    "id": "DwMmVXj6Rn-1",
    "outputId": "8c6e8c2a-dcbd-4bae-a9e3-0b08beee65da"
   },
   "outputs": [
    {
     "data": {
      "text/plain": [
       "128    2796\n",
       "39     2204\n",
       "207    1868\n",
       "127    1712\n",
       "237    1643\n",
       "33     1022\n",
       "50      802\n",
       "31      760\n",
       "100     720\n",
       "241     534\n",
       "Name: user_id, dtype: int64"
      ]
     },
     "execution_count": 13,
     "metadata": {
      "tags": []
     },
     "output_type": "execute_result"
    }
   ],
   "source": [
    "train_df['user_id'].value_counts()"
   ]
  },
  {
   "cell_type": "markdown",
   "metadata": {
    "colab_type": "text",
    "id": "-TFOszAxRn-5"
   },
   "source": [
    "**Посчитаем распределение числа уникальных сайтов в каждой сессии из 10 посещенных подряд сайтов.**"
   ]
  },
  {
   "cell_type": "code",
   "execution_count": null,
   "metadata": {
    "colab": {},
    "colab_type": "code",
    "id": "zAGXXQoNRn-5"
   },
   "outputs": [],
   "source": [
    "num_unique_sites = [np.unique(train_df.values[i, :-1]).shape[0] \n",
    "                    for i in range(train_df.shape[0])]"
   ]
  },
  {
   "cell_type": "code",
   "execution_count": null,
   "metadata": {
    "colab": {
     "base_uri": "https://localhost:8080/",
     "height": 204
    },
    "colab_type": "code",
    "id": "16NfQaIU9p68",
    "outputId": "a2c4849c-4cff-44ab-8fca-2f8af79aaa54"
   },
   "outputs": [
    {
     "data": {
      "text/plain": [
       "7     2308\n",
       "6     2197\n",
       "8     2046\n",
       "5     1735\n",
       "9     1394\n",
       "2     1246\n",
       "4     1163\n",
       "3      894\n",
       "10     651\n",
       "1      427\n",
       "dtype: int64"
      ]
     },
     "execution_count": 17,
     "metadata": {
      "tags": []
     },
     "output_type": "execute_result"
    }
   ],
   "source": [
    "pd.Series(num_unique_sites).value_counts()"
   ]
  },
  {
   "cell_type": "markdown",
   "metadata": {
    "colab_type": "text",
    "id": "Z2LX4rfE9qaI"
   },
   "source": [
    "Пример:"
   ]
  },
  {
   "cell_type": "code",
   "execution_count": null,
   "metadata": {
    "colab": {},
    "colab_type": "code",
    "id": "lhBnrsYmRn-9",
    "outputId": "b8da1aaf-31a2-47eb-937e-6d5f895b6e24"
   },
   "outputs": [
    {
     "data": {
      "text/plain": [
       "7     2308\n",
       "6     2197\n",
       "8     2046\n",
       "5     1735\n",
       "9     1394\n",
       "2     1246\n",
       "4     1163\n",
       "3      894\n",
       "10     651\n",
       "1      427\n",
       "dtype: int64"
      ]
     },
     "execution_count": 15,
     "metadata": {
      "tags": []
     },
     "output_type": "execute_result"
    }
   ],
   "source": [
    "pd.Series(num_unique_sites).value_counts()"
   ]
  },
  {
   "cell_type": "code",
   "execution_count": null,
   "metadata": {
    "colab": {
     "base_uri": "https://localhost:8080/",
     "height": 265
    },
    "colab_type": "code",
    "id": "615EJnG_95i3",
    "outputId": "f9bc971e-c4c5-4449-caff-f85d92e570da"
   },
   "outputs": [
    {
     "data": {
      "image/png": "[encoded data removed]",
      "text/plain": [
       "<Figure size 432x288 with 1 Axes>"
      ]
     },
     "metadata": {
      "needs_background": "light",
      "tags": []
     },
     "output_type": "display_data"
    }
   ],
   "source": [
    "pd.Series(num_unique_sites).hist();"
   ]
  },
  {
   "cell_type": "markdown",
   "metadata": {
    "colab_type": "text",
    "id": "Gd4yTK0B97M0"
   },
   "source": [
    "Пример:"
   ]
  },
  {
   "cell_type": "code",
   "execution_count": null,
   "metadata": {
    "colab": {},
    "colab_type": "code",
    "id": "xq_yiM5GRn_B",
    "outputId": "c6d7f132-1b58-4761-e741-42d45adb8745"
   },
   "outputs": [
    {
     "data": {
      "image/png": "[encoded data removed]",
      "text/plain": [
       "<matplotlib.figure.Figure at 0x10d1d48d0>"
      ]
     },
     "metadata": {
      "tags": []
     },
     "output_type": "display_data"
    }
   ],
   "source": [
    "pd.Series(num_unique_sites).hist();"
   ]
  },
  {
   "cell_type": "markdown",
   "metadata": {
    "colab_type": "text",
    "id": "-IppID72Rn_F"
   },
   "source": [
    "**Проверьте с помощью QQ-плота и критерия Шапиро-Уилка, что эта величина распределена нормально**"
   ]
  },
  {
   "cell_type": "code",
   "execution_count": null,
   "metadata": {
    "colab": {
     "base_uri": "https://localhost:8080/",
     "height": 295
    },
    "colab_type": "code",
    "id": "G6xW8RnW-S_J",
    "outputId": "4937c40e-00c5-4026-e73d-d03125406440"
   },
   "outputs": [
    {
     "data": {
      "image/png": "[encoded data removed]",
      "text/plain": [
       "<Figure size 432x288 with 1 Axes>"
      ]
     },
     "metadata": {
      "needs_background": "light",
      "tags": []
     },
     "output_type": "display_data"
    }
   ],
   "source": [
    "stats.probplot(num_unique_sites, dist=\"norm\", plot=plt)\n",
    "plt.show()"
   ]
  },
  {
   "cell_type": "markdown",
   "metadata": {
    "colab_type": "text",
    "id": "Q9ip2uGBRn_F"
   },
   "source": [
    "**<font color='red'> Вопрос 2. </font>Распределено ли нормально число уникальных сайтов в каждой сессии из 10 посещенных подряд сайтов (согласно критерию Шапиро-Уилка)?**"
   ]
  },
  {
   "cell_type": "code",
   "execution_count": null,
   "metadata": {
    "colab": {
     "base_uri": "https://localhost:8080/",
     "height": 34
    },
    "colab_type": "code",
    "id": "7F5I2apqRn_G",
    "outputId": "8d99d990-cbd2-445f-a164-5247b54b983d"
   },
   "outputs": [
    {
     "name": "stdout",
     "output_type": "stream",
     "text": [
      "Result of  the Shapiro-Wilk test for normality. Statistic: 0.9546933174133301, p-value: 0.0\n"
     ]
    }
   ],
   "source": [
    "''' ВАШ КОД ЗДЕСЬ '''\n",
    "W, p = stats.shapiro(num_unique_sites)\n",
    "print('Result of  the Shapiro-Wilk test for normality. Statistic: {}, p-value: {}'.format(W, p))"
   ]
  },
  {
   "cell_type": "code",
   "execution_count": null,
   "metadata": {
    "colab": {},
    "colab_type": "code",
    "id": "UYmULpnwAf_Y"
   },
   "outputs": [],
   "source": [
    "write_answer_to_file('NO', \n",
    "                     'answer2_2.txt')"
   ]
  },
  {
   "cell_type": "markdown",
   "metadata": {
    "colab_type": "text",
    "id": "qHmhxdfSRn_K"
   },
   "source": [
    "**Проверьте гипотезу о том, что пользователь хотя бы раз зайдет на сайт, который он уже ранее посетил в сессии из 10 сайтов. Давайте проверим с помощью биномиального критерия для доли, что доля случаев, когда пользователь повторно посетил какой-то сайт (то есть число уникальных сайтов в сессии < 10) велика: больше 95% (обратите внимание, что альтернатива тому, что доля равна 95% –  одностороняя). Ответом на 3 вопрос в тесте будет полученное p-value.**"
   ]
  },
  {
   "cell_type": "markdown",
   "metadata": {
    "colab_type": "text",
    "id": "6MN3QjWKRn_L"
   },
   "source": [
    "**<font color='red'> Вопрос 3. </font>Каково p-value при проверке описанной гипотезы?**"
   ]
  },
  {
   "cell_type": "code",
   "execution_count": null,
   "metadata": {
    "colab": {},
    "colab_type": "code",
    "id": "lqDszwUaRn_P"
   },
   "outputs": [],
   "source": [
    "has_two_similar = (np.array(num_unique_sites) < 10).astype('int')"
   ]
  },
  {
   "cell_type": "code",
   "execution_count": null,
   "metadata": {
    "colab": {
     "base_uri": "https://localhost:8080/",
     "height": 34
    },
    "colab_type": "code",
    "id": "C-b6rwVNRn_T",
    "outputId": "fd5cbfbb-78eb-4cc2-9843-7eaf5e9b5dce"
   },
   "outputs": [
    {
     "name": "stdout",
     "output_type": "stream",
     "text": [
      "0.02207653769072678\n"
     ]
    }
   ],
   "source": [
    "pi_val = stats.binom_test(has_two_similar.sum(), len(has_two_similar), p=0.95, alternative='greater')\n",
    "pi_val"
   ]
  },
  {
   "cell_type": "code",
   "execution_count": null,
   "metadata": {
    "colab": {},
    "colab_type": "code",
    "id": "SrcOUdePRA9h"
   },
   "outputs": [],
   "source": [
    "write_answer_to_file(pi_val, 'answer2_3.txt')"
   ]
  },
  {
   "cell_type": "markdown",
   "metadata": {
    "colab_type": "text",
    "id": "u4Y__9XJRn_W"
   },
   "source": [
    "**<font color='red'> Вопрос 4. </font>Каков 95% доверительный интервал Уилсона для доли случаев, когда пользователь повторно посетил какой-то сайт (из п. 3)?**"
   ]
  },
  {
   "cell_type": "code",
   "execution_count": null,
   "metadata": {
    "colab": {},
    "colab_type": "code",
    "id": "oXw9yOE4Rn_X"
   },
   "outputs": [],
   "source": [
    "z = 0.95\n",
    "n = len(has_two_similar)\n",
    "p_hat = has_two_similar.sum() / n\n",
    "\n",
    "wilson_interval = proportion_confint(has_two_similar.sum(), len(has_two_similar), alpha = 0.05, method = 'wilson')"
   ]
  },
  {
   "cell_type": "code",
   "execution_count": 69,
   "metadata": {
    "colab": {
     "base_uri": "https://localhost:8080/",
     "height": 34
    },
    "colab_type": "code",
    "id": "XeJpF0BxRn_a",
    "outputId": "af6c0118-6d98-421b-8af0-a549dc04667c"
   },
   "outputs": [
    {
     "name": "stdout",
     "output_type": "stream",
     "text": [
      "0.95 0.957\n"
     ]
    }
   ],
   "source": [
    "answer2_4 = '{} {}'.format(round(wilson_interval[0], 3),\n",
    "                                   round(wilson_interval[1], 3))\n",
    "print(answer2_4)"
   ]
  },
  {
   "cell_type": "code",
   "execution_count": 70,
   "metadata": {
    "colab": {},
    "colab_type": "code",
    "id": "vi_Am2LZmjL9"
   },
   "outputs": [],
   "source": [
    "write_answer_to_file(answer2_4, 'answer2_4.txt')"
   ]
  },
  {
   "cell_type": "markdown",
   "metadata": {
    "colab_type": "text",
    "id": "i7IZw2QJRn_e"
   },
   "source": [
    "**Постройте распределение частоты посещения сайтов (сколько раз тот или иной сайт попадается в выборке) для сайтов, которые были посещены как минимум 1000 раз.**"
   ]
  },
  {
   "cell_type": "code",
   "execution_count": 108,
   "metadata": {
    "colab": {},
    "colab_type": "code",
    "id": "JBOPs8uGRn_g"
   },
   "outputs": [],
   "source": [
    "site_freqs = train_df.values[:, :-1].flatten()"
   ]
  },
  {
   "cell_type": "code",
   "execution_count": 161,
   "metadata": {
    "colab": {
     "base_uri": "https://localhost:8080/",
     "height": 459
    },
    "colab_type": "code",
    "id": "uU5lsm0aRn_m",
    "outputId": "77d4dced-ae5e-49f7-b0db-5f04738e38c0"
   },
   "outputs": [
    {
     "data": {
      "text/plain": [
       "1     8300\n",
       "2     7813\n",
       "3     5441\n",
       "4     4158\n",
       "5     4141\n",
       "6     3758\n",
       "7     3244\n",
       "8     3094\n",
       "9     2630\n",
       "10    2089\n",
       "11    1939\n",
       "12    1868\n",
       "13    1804\n",
       "14    1702\n",
       "15    1493\n",
       "16    1441\n",
       "17    1388\n",
       "18    1265\n",
       "19    1232\n",
       "20    1204\n",
       "21    1057\n",
       "22    1041\n",
       "23    1039\n",
       "24    1039\n",
       "25    1002\n",
       "dtype: int64"
      ]
     },
     "execution_count": 161,
     "metadata": {
      "tags": []
     },
     "output_type": "execute_result"
    }
   ],
   "source": [
    "site_freqs_series = pd.Series(site_freqs)\n",
    "top = site_freqs_series.value_counts()[site_freqs_series.value_counts() >= 1000]\n",
    "top"
   ]
  },
  {
   "cell_type": "code",
   "execution_count": 163,
   "metadata": {
    "colab": {
     "base_uri": "https://localhost:8080/",
     "height": 265
    },
    "colab_type": "code",
    "id": "Yia-cvAzwt7X",
    "outputId": "0b2b78a6-fdaa-45da-9919-3db47eff62a1"
   },
   "outputs": [
    {
     "data": {
      "image/png": "[encoded data removed]",
      "text/plain": [
       "<Figure size 432x288 with 1 Axes>"
      ]
     },
     "metadata": {
      "needs_background": "light",
      "tags": []
     },
     "output_type": "display_data"
    }
   ],
   "source": [
    "site_freqs_series_top = site_freqs_series[site_freqs_series.isin(top.index)]\n",
    "pd.Series(site_freqs_series_top).hist(bins=len(top));"
   ]
  },
  {
   "cell_type": "markdown",
   "metadata": {
    "colab_type": "text",
    "id": "iYBjhbdkRn_q"
   },
   "source": [
    "**Постройте 95% доверительный интервал для средней частоты появления сайта в выборке (во всей, уже не только для тех сайтов, что были посещены как минимум 1000 раз) на основе bootstrap. Используйте столько же bootstrap-подвыборок, сколько сайтов оказалось в исходной выборке по 10 пользователям. Берите подвыборки из посчитанного списка частот посещений сайтов – не надо заново считать эти частоты. Учтите, что частоту появления нуля (сайт с индексом 0 появлялся там, где сессии были короче 10 сайтов) включать не надо. Округлите границы интервала до 3 знаков после запятой и запишите через пробел в файл *answer2_5.txt*. Это будет ответом на 5 вопрос теста.**"
   ]
  },
  {
   "cell_type": "markdown",
   "metadata": {
    "colab_type": "text",
    "id": "y5FIXGipRn_q"
   },
   "source": [
    "**<font color='red'> Вопрос 5. </font>Каков 95% доверительный интервал для средней частоты появления сайта в выборке?**"
   ]
  },
  {
   "cell_type": "code",
   "execution_count": 141,
   "metadata": {
    "colab": {},
    "colab_type": "code",
    "id": "CUfTAthLRn_r"
   },
   "outputs": [],
   "source": [
    "def get_bootstrap_samples(data, n_samples, random_seed=17):\n",
    "    np.random.seed(random_seed)\n",
    "    indices = np.random.randint(0, len(data), (n_samples, len(data)))\n",
    "    samples = data[indices]\n",
    "    return samples"
   ]
  },
  {
   "cell_type": "code",
   "execution_count": 142,
   "metadata": {
    "colab": {},
    "colab_type": "code",
    "id": "30tLOzFZRn_v"
   },
   "outputs": [],
   "source": [
    "def stat_intervals(stat, alpha):\n",
    "    boundaries = np.percentile(stat, \n",
    "                 [100 * alpha / 2., 100 * (1 - alpha / 2.)])\n",
    "    return boundaries"
   ]
  },
  {
   "cell_type": "code",
   "execution_count": 185,
   "metadata": {
    "colab": {
     "base_uri": "https://localhost:8080/",
     "height": 34
    },
    "colab_type": "code",
    "id": "kvC50GZoRn_y",
    "outputId": "8d2855f8-ae3d-4d50-9fe9-1113e89dc1fb"
   },
   "outputs": [
    {
     "name": "stdout",
     "output_type": "stream",
     "text": [
      "[22.47763078 35.70286994]\n"
     ]
    }
   ],
   "source": [
    "data = np.array(list(zip(*pd.read_pickle('/content/site_freq_10users.pkl').values()))[1])\n",
    "n_samples = len(data)\n",
    "\n",
    "samples = get_bootstrap_samples(data, n_samples)\n",
    "\n",
    "stat = samples.mean(axis = 0)\n",
    "alpha = 0.05\n",
    "\n",
    "answer2_5 = stat_intervals(stat, alpha)\n",
    "print(answer2_5)"
   ]
  },
  {
   "cell_type": "code",
   "execution_count": 193,
   "metadata": {
    "colab": {},
    "colab_type": "code",
    "id": "EPHvK0uSBJ_3"
   },
   "outputs": [],
   "source": [
    "write_answer_to_file('{} {}'.format(round(answer2_5[0], 3),\n",
    "                                   round(answer2_5[1], 3)), 'answer2_5.txt')"
   ]
  },
  {
   "cell_type": "markdown",
   "metadata": {
    "colab_type": "text",
    "id": "P-ukAAysRn_2"
   },
   "source": [
    "## Пути улучшения\n",
    "Что еще можно добавить по второй части проекта:\n",
    "- можно дополнительно рассматривать сессии с параметром – длиной сессии по времени. И составить выборки, скажем, для 5-, 10-, 15- и 20-минутных сессий (это как раз пригодится в [соревновании](https://inclass.kaggle.com/c/catch-me-if-you-can-intruder-detection-through-webpage-session-tracking2) Kaggle Inclass)\n",
    "- можно провести больше первичного анализа и проверять прочие интересные гипотезы (а больше их появится после создания признаков на следующей неделе)\n",
    "\n",
    "На 3 неделе мы займемся визуальным анализом данных и построением признаков."
   ]
  }
 ],
 "metadata": {
  "anaconda-cloud": {},
  "colab": {
   "name": "week2_analysis_hypotheses.ipynb",
   "provenance": []
  },
  "kernelspec": {
   "display_name": "Python 3",
   "language": "python",
   "name": "python3"
  },
  "language_info": {
   "codemirror_mode": {
    "name": "ipython",
    "version": 3
   },
   "file_extension": ".py",
   "mimetype": "text/x-python",
   "name": "python",
   "nbconvert_exporter": "python",
   "pygments_lexer": "ipython3",
   "version": "3.8.5"
  }
 },
 "nbformat": 4,
 "nbformat_minor": 1
}
